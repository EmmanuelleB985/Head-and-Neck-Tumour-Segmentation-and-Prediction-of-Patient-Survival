{
  "nbformat": 4,
  "nbformat_minor": 0,
  "metadata": {
    "accelerator": "GPU",
    "colab": {
      "name": "Survival_HK.ipynb",
      "provenance": [],
      "collapsed_sections": [],
      "machine_shape": "hm"
    },
    "kernelspec": {
      "display_name": "Python 3",
      "name": "python3"
    },
    "language_info": {
      "name": "python"
    }
  },
  "cells": [
    {
      "cell_type": "code",
      "metadata": {
        "colab": {
          "base_uri": "https://localhost:8080/"
        },
        "id": "7ZRqBa509goa",
        "outputId": "f99293df-7a9e-4152-e72e-35142b02a2e5"
      },
      "source": [
        "from google.colab import drive\n",
        "drive.mount('/content/gdrive')"
      ],
      "execution_count": null,
      "outputs": [
        {
          "output_type": "stream",
          "name": "stdout",
          "text": [
            "Mounted at /content/gdrive\n"
          ]
        }
      ]
    },
    {
      "cell_type": "code",
      "metadata": {
        "colab": {
          "base_uri": "https://localhost:8080/"
        },
        "id": "VueXUFEr9j3_",
        "outputId": "f7445a6c-31ab-47dc-d002-93283ba3e178"
      },
      "source": [
        "cd /content/gdrive/My\\ Drive/"
      ],
      "execution_count": null,
      "outputs": [
        {
          "output_type": "stream",
          "name": "stdout",
          "text": [
            "/content/gdrive/My Drive\n"
          ]
        }
      ]
    },
    {
      "cell_type": "code",
      "metadata": {
        "id": "KDEf9naxTrsb"
      },
      "source": [
        "gpu_info = !nvidia-smi\n",
        "gpu_info = '\\n'.join(gpu_info)\n",
        "if gpu_info.find('failed') >= 0:\n",
        "  print('Not connected to a GPU')\n",
        "else:\n",
        "  print(gpu_info)"
      ],
      "execution_count": null,
      "outputs": []
    },
    {
      "cell_type": "markdown",
      "metadata": {
        "id": "acPP0vfrFDaC"
      },
      "source": [
        "# **1. Data Pre-Processing**"
      ]
    },
    {
      "cell_type": "code",
      "metadata": {
        "id": "EbGRUsmS98Y9"
      },
      "source": [
        "import pandas as pd\n",
        "import numpy as np\n",
        "import matplotlib.pyplot as plt\n",
        "import seaborn as sns\n",
        "from sklearn.model_selection import train_test_split\n",
        "from sklearn.linear_model import Lasso, LogisticRegression\n",
        "from sklearn.feature_selection import SelectFromModel\n",
        "from sklearn.preprocessing import StandardScaler\n",
        "import pickle\n"
      ],
      "execution_count": null,
      "outputs": []
    },
    {
      "cell_type": "code",
      "metadata": {
        "colab": {
          "base_uri": "https://localhost:8080/"
        },
        "id": "wnpj9Dqh9hNH",
        "outputId": "53793a3a-888b-46d4-9990-984dd59556c0"
      },
      "source": [
        "# Load training data \n",
        "endpoint_data =  pd.read_csv(\"hecktor2021_patient_endpoint_training.csv\")\n",
        "endpoint_data = endpoint_data.drop(labels=206, axis=0) # missing ct image\n",
        "print(endpoint_data)"
      ],
      "execution_count": null,
      "outputs": [
        {
          "output_type": "stream",
          "name": "stdout",
          "text": [
            "    PatientID  Progression  Progression free survival\n",
            "0     CHGJ007            1                        310\n",
            "1     CHGJ008            0                       2037\n",
            "2     CHGJ010            0                       1917\n",
            "3     CHGJ013            0                       1377\n",
            "4     CHGJ015            0                       1072\n",
            "..        ...          ...                        ...\n",
            "219   CHUP019            1                        161\n",
            "220   CHUP020            1                        394\n",
            "221   CHUP021            0                        874\n",
            "222   CHUP022            0                       2401\n",
            "223   CHUP023            1                        402\n",
            "\n",
            "[223 rows x 3 columns]\n"
          ]
        }
      ]
    },
    {
      "cell_type": "code",
      "metadata": {
        "id": "Az0AYht79uQV",
        "colab": {
          "base_uri": "https://localhost:8080/"
        },
        "outputId": "dcab1013-58f4-4a78-fb78-9e5ed98ddab6"
      },
      "source": [
        "# Read the clinical dataset \n",
        "info_data = pd.read_csv(\"hecktor2021_patient_info_training.csv\")\n",
        "clinical = info_data.sort_values(by = 'PatientID')\n",
        "clinical = clinical.drop(labels=206, axis=0)  \n",
        "clinical=clinical.drop(columns=['Estimated weight (kg) for SUV','CenterID'])\n",
        "clinical = clinical.rename({'T-stage': 'Tstage', 'N-stage': 'Nstage', 'M-stage': 'Mstage', 'TNM group':'TNMgroup'}, axis='columns')\n",
        "\n",
        "# Reset the index in ascending order\n",
        "clinical = clinical.reset_index(drop=True)\n",
        "clinical.to_csv('/content/gdrive/My Drive/clinical.csv')\n",
        "print (clinical)"
      ],
      "execution_count": null,
      "outputs": [
        {
          "output_type": "stream",
          "name": "stdout",
          "text": [
            "    PatientID  Gender (1=M,0=F)  ...  HPV status (0=-, 1=+)  Chemotherapy\n",
            "0     CHGJ007                 1  ...                    1.0             1\n",
            "1     CHGJ008                 1  ...                    NaN             1\n",
            "2     CHGJ010                 0  ...                    0.0             1\n",
            "3     CHGJ013                 0  ...                    1.0             1\n",
            "4     CHGJ015                 0  ...                    NaN             1\n",
            "..        ...               ...  ...                    ...           ...\n",
            "218   CHUS096                 1  ...                    1.0             0\n",
            "219   CHUS097                 1  ...                    1.0             1\n",
            "220   CHUS098                 1  ...                    1.0             1\n",
            "221   CHUS100                 1  ...                    1.0             1\n",
            "222   CHUS101                 1  ...                    0.0             1\n",
            "\n",
            "[223 rows x 13 columns]\n"
          ]
        }
      ]
    },
    {
      "cell_type": "code",
      "metadata": {
        "colab": {
          "base_uri": "https://localhost:8080/"
        },
        "id": "mKxodms27gQI",
        "outputId": "d3ec66cf-6360-404a-8f52-b78022e938b1"
      },
      "source": [
        "# Read the clinical test dataset \n",
        "test_data = pd.read_csv(\"hecktor2021_patient_info_testing.csv\")\n",
        "test = test_data.sort_values(by = 'PatientID_hecktor')\n",
        "test = test.drop(columns=['Estimated weight (kg) for SUV','CenterID'])\n",
        "test = test.rename({'T-stage': 'Tstage', 'N-stage': 'Nstage', 'M-stage': 'Mstage', 'TNM group':'TNMgroup'}, axis='columns')\n",
        "\n",
        "# Reset the index in ascending order\n",
        "test = test.reset_index(drop=True)\n",
        "test.to_csv('/content/gdrive/My Drive/test.csv')\n",
        "print (test)"
      ],
      "execution_count": null,
      "outputs": [
        {
          "output_type": "stream",
          "name": "stdout",
          "text": [
            "    PatientID_hecktor  Gender (1=M,0=F)  ...  HPV status (0=-, 1=+)  Chemotherapy\n",
            "0             CHUP025                 1  ...                    0.0             1\n",
            "1             CHUP026                 1  ...                    0.0             1\n",
            "2             CHUP027                 1  ...                    0.0             1\n",
            "3             CHUP028                 1  ...                    NaN             1\n",
            "4             CHUP029                 0  ...                    0.0             1\n",
            "..                ...               ...  ...                    ...           ...\n",
            "96            CHUV049                 1  ...                    NaN             1\n",
            "97            CHUV050                 0  ...                    NaN             1\n",
            "98            CHUV051                 1  ...                    NaN             1\n",
            "99            CHUV052                 0  ...                    NaN             1\n",
            "100           CHUV053                 1  ...                    NaN             1\n",
            "\n",
            "[101 rows x 13 columns]\n"
          ]
        }
      ]
    },
    {
      "cell_type": "code",
      "metadata": {
        "id": "YFHH7p_nADXf"
      },
      "source": [
        "test['PatientID'] = test['PatientID_hecktor'] #rename column for correspondence"
      ],
      "execution_count": null,
      "outputs": []
    },
    {
      "cell_type": "code",
      "metadata": {
        "id": "ab-bW_5hAVsd"
      },
      "source": [
        "test = test.drop(columns=['Performance status_2.0'])"
      ],
      "execution_count": null,
      "outputs": []
    },
    {
      "cell_type": "markdown",
      "metadata": {
        "id": "uvm6pSlwtcL4"
      },
      "source": [
        "Create dummy variables for the categorical data\n"
      ]
    },
    {
      "cell_type": "code",
      "metadata": {
        "id": "ZaS1lXiDejgT"
      },
      "source": [
        "\n",
        "clinical['Tstage']=clinical.Tstage.apply(lambda x: 0 if x=='T1' \n",
        "                                                      else 1 if x=='T2' \n",
        "                                                      else 2 if x=='T3' \n",
        "                                                      else 3)\n",
        "\n",
        "clinical['Nstage']=clinical.Nstage.apply(lambda x: 0 if x == 'N0' \n",
        "                                                      else 1 if x=='N1' \n",
        "                                                      else 2 if x in('N2', 'N2a','N2b','N2c') \n",
        "                                                      else 3)\n",
        "\n",
        "clinical['Mstage']=clinical.Nstage.apply(lambda x: 0 if x == 'M0' \n",
        "                                                      else 1)\n",
        "clinical['TNMgroup']=clinical.TNMgroup.apply(lambda x: 0 if x == 'I' \n",
        "                                                      else 1 if x=='II' \n",
        "                                                      else 2 if x=='III' \n",
        "                                                      else 3) \n",
        "\n",
        "categories = ['Tstage','Nstage','Mstage','TNMgroup','Tobacco','Alcohol','Gender (1=M,0=F)','Performance status','TNM edition','HPV status (0=-, 1=+)']\n",
        "clinical = pd.get_dummies(clinical, columns=categories, drop_first=True)\n"
      ],
      "execution_count": null,
      "outputs": []
    },
    {
      "cell_type": "markdown",
      "metadata": {
        "id": "GEK0W6E5t5-K"
      },
      "source": [
        "Repeat process for test set"
      ]
    },
    {
      "cell_type": "code",
      "metadata": {
        "id": "p0dKZ6CvAnwC"
      },
      "source": [
        "\n",
        "test['Tstage']=test.Tstage.apply(lambda x: 0 if x=='T1' \n",
        "                                                      else 1 if x=='T2' \n",
        "                                                      else 2 if x=='T3' \n",
        "                                                      else 3)\n",
        "\n",
        "test['Nstage']=test.Nstage.apply(lambda x: 0 if x == 'N0' \n",
        "                                                      else 1 if x=='N1' \n",
        "                                                      else 2 if x in('N2', 'N2a','N2b','N2c') \n",
        "                                                      else 3)\n",
        "\n",
        "test['Mstage']=test.Nstage.apply(lambda x: 0 if x == 'M0' \n",
        "                                                      else 1)\n",
        "test['TNMgroup']=test.TNMgroup.apply(lambda x: 0 if x == 'I' \n",
        "                                                      else 1 if x=='II' \n",
        "                                                      else 2 if x=='III' \n",
        "                                                      else 3) \n",
        "\n",
        "categories = ['Tstage','Nstage','Mstage','TNMgroup','Tobacco','Alcohol','Gender (1=M,0=F)','Performance status','TNM edition','HPV status (0=-, 1=+)']\n",
        "test = pd.get_dummies(test, columns=categories, drop_first=True)"
      ],
      "execution_count": null,
      "outputs": []
    },
    {
      "cell_type": "markdown",
      "metadata": {
        "id": "7mbw0UC4InGl"
      },
      "source": [
        "Read extracted pet features"
      ]
    },
    {
      "cell_type": "code",
      "metadata": {
        "colab": {
          "base_uri": "https://localhost:8080/"
        },
        "id": "bUiAivLq-ESL",
        "outputId": "f99948c3-5e0c-4483-b94d-898df8518f47"
      },
      "source": [
        "\n",
        "def extract_pet_features(path_pet_features):\n",
        "    pet_features = pd.read_csv(path_pet_features)\n",
        "    # Sort the rows of dataframe by 'Name' column\n",
        "    pet_features = pet_features.sort_values(by = 'patients_id')\n",
        "    # Reset the index in ascending order\n",
        "    pet_features = pet_features.reset_index(drop=True)\n",
        "    return pet_features\n",
        "\n",
        "pet_features = extract_pet_features(\"extracted_features_pet.csv\")\n",
        "pet_features_test = extract_pet_features(\"extracted_features_pet_test.csv\")"
      ],
      "execution_count": null,
      "outputs": [
        {
          "output_type": "stream",
          "name": "stdout",
          "text": [
            "    patients_id  ... original_ngtdm_Strength\n",
            "0       CHGJ007  ...                     1.0\n",
            "1       CHGJ008  ...                     0.0\n",
            "2       CHGJ010  ...                     0.0\n",
            "3       CHGJ013  ...                     0.0\n",
            "4       CHGJ015  ...                     0.0\n",
            "..          ...  ...                     ...\n",
            "218     CHUS096  ...                     0.0\n",
            "219     CHUS097  ...                     0.0\n",
            "220     CHUS098  ...                     0.0\n",
            "221     CHUS100  ...                     0.0\n",
            "222     CHUS101  ...                     0.0\n",
            "\n",
            "[223 rows x 130 columns]\n"
          ]
        }
      ]
    },
    {
      "cell_type": "markdown",
      "metadata": {
        "id": "OG9OVD3hIsoH"
      },
      "source": [
        "Read extracted ct features"
      ]
    },
    {
      "cell_type": "code",
      "metadata": {
        "colab": {
          "base_uri": "https://localhost:8080/"
        },
        "id": "3Bg_z0pe9wIJ",
        "outputId": "05a2f49f-cf2c-40a2-9e24-aa9d7bcbca34"
      },
      "source": [
        "\n",
        "def extract_ct_features(path_ct_features):\n",
        "    ct_features = pd.read_csv(path_ct_features)\n",
        "    # Sort the rows of dataframe by 'Name' column\n",
        "    ct_features = ct_features.sort_values(by = 'patients_id')\n",
        "    # Reset the index in ascending order\n",
        "    ct_features = ct_features.reset_index(drop=True)\n",
        "    return ct_features\n",
        "\n",
        "ct_features = extract_pet_features(\"extracted_features_ct.csv\")\n",
        "test_ct_features = extract_pet_features(\"extracted_features_ct_test.csv\")\n",
        "print (ct_features)"
      ],
      "execution_count": null,
      "outputs": [
        {
          "output_type": "stream",
          "name": "stdout",
          "text": [
            "    patients_id  ... original_ngtdm_Strength\n",
            "0       CHGJ007  ...                     1.0\n",
            "1       CHGJ008  ...                     0.0\n",
            "2       CHGJ010  ...                     0.0\n",
            "3       CHGJ013  ...                     0.0\n",
            "4       CHGJ015  ...                     0.0\n",
            "..          ...  ...                     ...\n",
            "218     CHUS096  ...                     0.0\n",
            "219     CHUS097  ...                     0.0\n",
            "220     CHUS098  ...                     0.0\n",
            "221     CHUS100  ...                     0.0\n",
            "222     CHUS101  ...                     0.0\n",
            "\n",
            "[223 rows x 130 columns]\n"
          ]
        }
      ]
    },
    {
      "cell_type": "markdown",
      "metadata": {
        "id": "A78D3--HI21i"
      },
      "source": [
        "Read extracted deep features"
      ]
    },
    {
      "cell_type": "code",
      "metadata": {
        "id": "_7KwRJ9qao5Q"
      },
      "source": [
        "\n",
        "def extract_deep_features(path_deep_features):\n",
        "    deep_features = pd.read_csv(path_deep_features)\n",
        "    deep_features = deep_features.rename(columns={'Unnamed: 0': 'PatientID'})\n",
        "    # Sort the rows of dataframe by 'Name' column\n",
        "    deep_features = deep_features.sort_values(by = 'PatientID')\n",
        "    # Reset the index in ascending order\n",
        "    deep_features = deep_features.reset_index(drop=True)\n",
        "    return deep_features\n",
        "\n",
        "deep_features = extract_deep_features(\"features_unet.csv\")\n",
        "test_deep_features = extract_deep_features(\"features_unet_test.csv\")\n"
      ],
      "execution_count": null,
      "outputs": []
    },
    {
      "cell_type": "code",
      "metadata": {
        "colab": {
          "base_uri": "https://localhost:8080/"
        },
        "id": "xjYssnFcERbD",
        "outputId": "10901db1-41bc-4c6f-cbc5-9cfa7952caf1"
      },
      "source": [
        "print(test_deep_features)"
      ],
      "execution_count": null,
      "outputs": [
        {
          "output_type": "stream",
          "name": "stdout",
          "text": [
            "    PatientID          0          1  ...        141        142        143\n",
            "0     CHUP040   1.561144   2.663644  ...  10.427158   5.928310  -0.931872\n",
            "1     CHUP060   3.707203   6.315398  ...  14.774714  15.243038  10.462632\n",
            "2     CHUV025   0.246460   1.112381  ...  12.781462   6.786904  -0.822516\n",
            "3     CHUP034   6.571823   9.034449  ...  20.070354  21.655520  15.204715\n",
            "4     CHUP054  -0.531894  -0.320032  ...  36.351437  22.548420   4.281902\n",
            "..        ...        ...        ...  ...        ...        ...        ...\n",
            "96    CHUP061  23.884945  32.692055  ...   9.529576   5.397012  -1.686181\n",
            "97    CHUV010   1.771936   2.714971  ...  40.131660  22.852820   4.033140\n",
            "98    CHUP055   0.946515   1.620571  ...  25.121386  26.151447  20.205112\n",
            "99    CHUP049  13.689615  18.164381  ...  28.405163  17.439287   2.066371\n",
            "100   CHUV006   3.084119   4.423283  ...  26.422005  16.003588   1.538562\n",
            "\n",
            "[101 rows x 145 columns]\n"
          ]
        }
      ]
    },
    {
      "cell_type": "markdown",
      "metadata": {
        "id": "dvmMOMHQE7kz"
      },
      "source": [
        "# Multiple imputation for missing values (clinical data)"
      ]
    },
    {
      "cell_type": "code",
      "metadata": {
        "id": "6vMZXngrzeLs"
      },
      "source": [
        "#Select numerical columns \n",
        "numeric_cols = clinical.drop(columns=['PatientID']).select_dtypes(exclude='number')\n",
        "clinical.drop(numeric_cols, axis=1, inplace=True)\n",
        "numeric_cols = test.drop(columns=['PatientID']).select_dtypes(exclude='number')\n",
        "test.drop(numeric_cols, axis=1, inplace=True)"
      ],
      "execution_count": null,
      "outputs": []
    },
    {
      "cell_type": "code",
      "metadata": {
        "colab": {
          "base_uri": "https://localhost:8080/"
        },
        "id": "7mGct8_LoK4n",
        "outputId": "d4fb4201-3ff7-48a9-80ee-beb95c78248b"
      },
      "source": [
        "import numpy as np\n",
        "from sklearn.experimental import enable_iterative_imputer\n",
        "from sklearn.impute import IterativeImputer\n",
        "from sklearn.linear_model import LinearRegression\n",
        "\n",
        "lr = LinearRegression()\n",
        "imp = IterativeImputer(estimator=lr,missing_values=np.nan, max_iter=10, verbose=2, imputation_order='roman',random_state=0)\n",
        "\n",
        "clinical_imputed=imp.fit_transform(clinical.drop(columns=['PatientID']))\n",
        "clinical_imputed = pd.DataFrame(clinical_imputed, columns = test.drop(columns=['PatientID']).columns)\n",
        "test_imputed=imp.fit_transform(test.drop(columns=['PatientID']))\n",
        "test_imputed = pd.DataFrame(test_imputed, columns = test.drop(columns=['PatientID']).columns)\n"
      ],
      "execution_count": null,
      "outputs": [
        {
          "output_type": "stream",
          "name": "stdout",
          "text": [
            "[IterativeImputer] Completing matrix with shape (101, 17)\n",
            "[IterativeImputer] Ending imputation round 1/10, elapsed time 0.02\n",
            "[IterativeImputer] Change: 0.0, scaled tolerance: 0.084 \n",
            "[IterativeImputer] Early stopping criterion reached.\n"
          ]
        }
      ]
    },
    {
      "cell_type": "markdown",
      "metadata": {
        "id": "jVWFQt_7EwpZ"
      },
      "source": [
        "# Data Merging and Train-Test Split\n",
        "\n"
      ]
    },
    {
      "cell_type": "code",
      "metadata": {
        "id": "wXZFmpRfyujp"
      },
      "source": [
        "# Several models were tested with a combination of clinical, ct, pet and deep features. \n",
        "# Best results obtained with a mixture of clinical, ct and deep features.\n",
        "\n",
        "data = pd.concat([clinical_imputed, ct_features], axis=1, join='inner',ignore_index=False, sort=False)\n",
        "data = pd.concat([data, ct_features], axis=1, join='inner',ignore_index=False, sort=False)\n",
        "\n",
        "data_test = pd.concat([test_imputed, deep_features],axis=1,join='inner',ignore_index=False, sort=False)\n",
        "data_test = pd.concat([data_test, test_ct_features],axis=1,join='inner',ignore_index=False, sort=False)\n"
      ],
      "execution_count": null,
      "outputs": []
    },
    {
      "cell_type": "code",
      "metadata": {
        "colab": {
          "base_uri": "https://localhost:8080/"
        },
        "id": "Y-fbBZUmEvP6",
        "outputId": "81341e24-6a89-43d3-c0d6-d01660de374f"
      },
      "source": [
        "# Separate into training and test set for model training \n",
        "X_train, X_val, y_train, y_val = train_test_split(data,\n",
        "    endpoint_data['Progression free survival'],\n",
        "    test_size=0.3,\n",
        "    random_state=0) \n",
        "X_train.shape, X_test.shape"
      ],
      "execution_count": null,
      "outputs": [
        {
          "output_type": "execute_result",
          "data": {
            "text/plain": [
              "((156, 274), (67, 274))"
            ]
          },
          "metadata": {},
          "execution_count": 63
        }
      ]
    },
    {
      "cell_type": "markdown",
      "metadata": {
        "id": "z1WknyrWEhHT"
      },
      "source": [
        "# Features Selection using Lasso"
      ]
    },
    {
      "cell_type": "code",
      "metadata": {
        "id": "fvLkAaUUWsAn"
      },
      "source": [
        "import seaborn as sns\n",
        "from sklearn.model_selection import train_test_split, GridSearchCV\n",
        "from sklearn.linear_model import Lasso, LogisticRegression\n",
        "from sklearn.feature_selection import SelectFromModel\n",
        "from sklearn.preprocessing import StandardScaler\n",
        "from sklearn.pipeline import Pipeline\n"
      ],
      "execution_count": null,
      "outputs": []
    },
    {
      "cell_type": "code",
      "metadata": {
        "id": "MMOl8c6TW8ae"
      },
      "source": [
        "# Lasso regression with 5-fold cross-validation \n",
        "pipeline = Pipeline([\n",
        "                     ('scaler',StandardScaler()),\n",
        "                     ('model',Lasso())\n",
        "])"
      ],
      "execution_count": null,
      "outputs": []
    },
    {
      "cell_type": "code",
      "metadata": {
        "id": "8tEn3oVDW-Qb"
      },
      "source": [
        "\n",
        "search = GridSearchCV(pipeline,\n",
        "                      {'model__alpha':np.arange(0.1,10,0.1)},\n",
        "                      cv = 5, scoring=\"neg_mean_squared_error\",verbose=3\n",
        "                      )"
      ],
      "execution_count": null,
      "outputs": []
    },
    {
      "cell_type": "code",
      "metadata": {
        "colab": {
          "base_uri": "https://localhost:8080/"
        },
        "id": "t2EbHfIZXBir",
        "outputId": "074fde68-c33a-46d4-d674-b943010348b8"
      },
      "source": [
        "search.fit(X_train.drop(columns=['PatientID']),y_train)"
      ],
      "execution_count": null,
      "outputs": [
        {
          "output_type": "stream",
          "name": "stdout",
          "text": [
            "Fitting 5 folds for each of 99 candidates, totalling 495 fits\n",
            "[CV] model__alpha=0.1 ................................................\n",
            "[CV] ............. model__alpha=0.1, score=-2156395.654, total=   0.1s\n",
            "[CV] model__alpha=0.1 ................................................\n",
            "[CV] ............. model__alpha=0.1, score=-2082862.270, total=   0.1s\n",
            "[CV] model__alpha=0.1 ................................................\n"
          ]
        },
        {
          "output_type": "stream",
          "name": "stderr",
          "text": [
            "[Parallel(n_jobs=1)]: Using backend SequentialBackend with 1 concurrent workers.\n",
            "/usr/local/lib/python3.7/dist-packages/sklearn/linear_model/_coordinate_descent.py:476: ConvergenceWarning: Objective did not converge. You might want to increase the number of iterations. Duality gap: 201042.2283021267, tolerance: 4371.369048387098\n",
            "  positive)\n",
            "[Parallel(n_jobs=1)]: Done   1 out of   1 | elapsed:    0.1s remaining:    0.0s\n",
            "/usr/local/lib/python3.7/dist-packages/sklearn/linear_model/_coordinate_descent.py:476: ConvergenceWarning: Objective did not converge. You might want to increase the number of iterations. Duality gap: 226098.1583161126, tolerance: 4494.4464272\n",
            "  positive)\n",
            "[Parallel(n_jobs=1)]: Done   2 out of   2 | elapsed:    0.2s remaining:    0.0s\n",
            "/usr/local/lib/python3.7/dist-packages/sklearn/linear_model/_coordinate_descent.py:476: ConvergenceWarning: Objective did not converge. You might want to increase the number of iterations. Duality gap: 186306.61835188628, tolerance: 4545.2030112\n",
            "  positive)\n",
            "/usr/local/lib/python3.7/dist-packages/sklearn/linear_model/_coordinate_descent.py:476: ConvergenceWarning: Objective did not converge. You might want to increase the number of iterations. Duality gap: 201672.30441301348, tolerance: 4930.625720000001\n",
            "  positive)\n",
            "/usr/local/lib/python3.7/dist-packages/sklearn/linear_model/_coordinate_descent.py:476: ConvergenceWarning: Objective did not converge. You might want to increase the number of iterations. Duality gap: 137251.50549129347, tolerance: 4269.2907392\n",
            "  positive)\n"
          ]
        },
        {
          "output_type": "stream",
          "name": "stdout",
          "text": [
            "[CV] ............. model__alpha=0.1, score=-1864616.813, total=   0.1s\n",
            "[CV] model__alpha=0.1 ................................................\n",
            "[CV] ............. model__alpha=0.1, score=-2313447.520, total=   0.1s\n",
            "[CV] model__alpha=0.1 ................................................\n",
            "[CV] ............. model__alpha=0.1, score=-1086335.249, total=   0.1s\n",
            "[CV] model__alpha=0.2 ................................................\n"
          ]
        },
        {
          "output_type": "stream",
          "name": "stderr",
          "text": [
            "/usr/local/lib/python3.7/dist-packages/sklearn/linear_model/_coordinate_descent.py:476: ConvergenceWarning: Objective did not converge. You might want to increase the number of iterations. Duality gap: 260917.27798686028, tolerance: 4371.369048387098\n",
            "  positive)\n",
            "/usr/local/lib/python3.7/dist-packages/sklearn/linear_model/_coordinate_descent.py:476: ConvergenceWarning: Objective did not converge. You might want to increase the number of iterations. Duality gap: 299521.42307358637, tolerance: 4494.4464272\n",
            "  positive)\n",
            "/usr/local/lib/python3.7/dist-packages/sklearn/linear_model/_coordinate_descent.py:476: ConvergenceWarning: Objective did not converge. You might want to increase the number of iterations. Duality gap: 303629.0674963844, tolerance: 4545.2030112\n",
            "  positive)\n"
          ]
        },
        {
          "output_type": "stream",
          "name": "stdout",
          "text": [
            "[CV] ............. model__alpha=0.2, score=-1911140.795, total=   0.1s\n",
            "[CV] model__alpha=0.2 ................................................\n",
            "[CV] ............. model__alpha=0.2, score=-1999924.606, total=   0.1s\n",
            "[CV] model__alpha=0.2 ................................................\n",
            "[CV] ............. model__alpha=0.2, score=-2090053.844, total=   0.1s\n",
            "[CV] model__alpha=0.2 ................................................\n"
          ]
        },
        {
          "output_type": "stream",
          "name": "stderr",
          "text": [
            "/usr/local/lib/python3.7/dist-packages/sklearn/linear_model/_coordinate_descent.py:476: ConvergenceWarning: Objective did not converge. You might want to increase the number of iterations. Duality gap: 357524.27323701326, tolerance: 4930.625720000001\n",
            "  positive)\n",
            "/usr/local/lib/python3.7/dist-packages/sklearn/linear_model/_coordinate_descent.py:476: ConvergenceWarning: Objective did not converge. You might want to increase the number of iterations. Duality gap: 286194.4824812032, tolerance: 4269.2907392\n",
            "  positive)\n",
            "/usr/local/lib/python3.7/dist-packages/sklearn/linear_model/_coordinate_descent.py:476: ConvergenceWarning: Objective did not converge. You might want to increase the number of iterations. Duality gap: 263020.02520375734, tolerance: 4371.369048387098\n",
            "  positive)\n"
          ]
        },
        {
          "output_type": "stream",
          "name": "stdout",
          "text": [
            "[CV] ............. model__alpha=0.2, score=-2252088.935, total=   0.1s\n",
            "[CV] model__alpha=0.2 ................................................\n",
            "[CV] ............. model__alpha=0.2, score=-1033028.818, total=   0.1s\n",
            "[CV] model__alpha=0.30000000000000004 ................................\n",
            "[CV]  model__alpha=0.30000000000000004, score=-1648076.775, total=   0.1s\n",
            "[CV] model__alpha=0.30000000000000004 ................................\n"
          ]
        },
        {
          "output_type": "stream",
          "name": "stderr",
          "text": [
            "/usr/local/lib/python3.7/dist-packages/sklearn/linear_model/_coordinate_descent.py:476: ConvergenceWarning: Objective did not converge. You might want to increase the number of iterations. Duality gap: 366551.1796285652, tolerance: 4494.4464272\n",
            "  positive)\n",
            "/usr/local/lib/python3.7/dist-packages/sklearn/linear_model/_coordinate_descent.py:476: ConvergenceWarning: Objective did not converge. You might want to increase the number of iterations. Duality gap: 311750.2904430999, tolerance: 4545.2030112\n",
            "  positive)\n",
            "/usr/local/lib/python3.7/dist-packages/sklearn/linear_model/_coordinate_descent.py:476: ConvergenceWarning: Objective did not converge. You might want to increase the number of iterations. Duality gap: 302538.57380262966, tolerance: 4930.625720000001\n",
            "  positive)\n"
          ]
        },
        {
          "output_type": "stream",
          "name": "stdout",
          "text": [
            "[CV]  model__alpha=0.30000000000000004, score=-1887402.650, total=   0.1s\n",
            "[CV] model__alpha=0.30000000000000004 ................................\n",
            "[CV]  model__alpha=0.30000000000000004, score=-2196746.241, total=   0.1s\n",
            "[CV] model__alpha=0.30000000000000004 ................................\n",
            "[CV]  model__alpha=0.30000000000000004, score=-2193159.401, total=   0.1s\n",
            "[CV] model__alpha=0.30000000000000004 ................................\n"
          ]
        },
        {
          "output_type": "stream",
          "name": "stderr",
          "text": [
            "/usr/local/lib/python3.7/dist-packages/sklearn/linear_model/_coordinate_descent.py:476: ConvergenceWarning: Objective did not converge. You might want to increase the number of iterations. Duality gap: 383871.33509416314, tolerance: 4269.2907392\n",
            "  positive)\n",
            "/usr/local/lib/python3.7/dist-packages/sklearn/linear_model/_coordinate_descent.py:476: ConvergenceWarning: Objective did not converge. You might want to increase the number of iterations. Duality gap: 196827.84974216914, tolerance: 4371.369048387098\n",
            "  positive)\n",
            "/usr/local/lib/python3.7/dist-packages/sklearn/linear_model/_coordinate_descent.py:476: ConvergenceWarning: Objective did not converge. You might want to increase the number of iterations. Duality gap: 368295.41722774616, tolerance: 4494.4464272\n",
            "  positive)\n"
          ]
        },
        {
          "output_type": "stream",
          "name": "stdout",
          "text": [
            "[CV]  model__alpha=0.30000000000000004, score=-1019066.326, total=   0.1s\n",
            "[CV] model__alpha=0.4 ................................................\n",
            "[CV] ............. model__alpha=0.4, score=-1551867.439, total=   0.1s\n",
            "[CV] model__alpha=0.4 ................................................\n",
            "[CV] ............. model__alpha=0.4, score=-1800458.036, total=   0.1s\n",
            "[CV] model__alpha=0.4 ................................................\n"
          ]
        },
        {
          "output_type": "stream",
          "name": "stderr",
          "text": [
            "/usr/local/lib/python3.7/dist-packages/sklearn/linear_model/_coordinate_descent.py:476: ConvergenceWarning: Objective did not converge. You might want to increase the number of iterations. Duality gap: 268590.1386394501, tolerance: 4545.2030112\n",
            "  positive)\n",
            "/usr/local/lib/python3.7/dist-packages/sklearn/linear_model/_coordinate_descent.py:476: ConvergenceWarning: Objective did not converge. You might want to increase the number of iterations. Duality gap: 416421.1731450056, tolerance: 4930.625720000001\n",
            "  positive)\n",
            "/usr/local/lib/python3.7/dist-packages/sklearn/linear_model/_coordinate_descent.py:476: ConvergenceWarning: Objective did not converge. You might want to increase the number of iterations. Duality gap: 395632.46908487886, tolerance: 4269.2907392\n",
            "  positive)\n"
          ]
        },
        {
          "output_type": "stream",
          "name": "stdout",
          "text": [
            "[CV] ............. model__alpha=0.4, score=-2236126.210, total=   0.1s\n",
            "[CV] model__alpha=0.4 ................................................\n",
            "[CV] ............. model__alpha=0.4, score=-2071473.051, total=   0.1s\n",
            "[CV] model__alpha=0.4 ................................................\n",
            "[CV] .............. model__alpha=0.4, score=-978423.104, total=   0.1s\n",
            "[CV] model__alpha=0.5 ................................................\n"
          ]
        },
        {
          "output_type": "stream",
          "name": "stderr",
          "text": [
            "/usr/local/lib/python3.7/dist-packages/sklearn/linear_model/_coordinate_descent.py:476: ConvergenceWarning: Objective did not converge. You might want to increase the number of iterations. Duality gap: 267456.87399684824, tolerance: 4371.369048387098\n",
            "  positive)\n",
            "/usr/local/lib/python3.7/dist-packages/sklearn/linear_model/_coordinate_descent.py:476: ConvergenceWarning: Objective did not converge. You might want to increase the number of iterations. Duality gap: 535479.5592029078, tolerance: 4494.4464272\n",
            "  positive)\n",
            "/usr/local/lib/python3.7/dist-packages/sklearn/linear_model/_coordinate_descent.py:476: ConvergenceWarning: Objective did not converge. You might want to increase the number of iterations. Duality gap: 306975.1612265267, tolerance: 4545.2030112\n",
            "  positive)\n"
          ]
        },
        {
          "output_type": "stream",
          "name": "stdout",
          "text": [
            "[CV] ............. model__alpha=0.5, score=-1532323.603, total=   0.1s\n",
            "[CV] model__alpha=0.5 ................................................\n",
            "[CV] ............. model__alpha=0.5, score=-1737728.666, total=   0.1s\n",
            "[CV] model__alpha=0.5 ................................................\n",
            "[CV] ............. model__alpha=0.5, score=-2185563.040, total=   0.1s\n",
            "[CV] model__alpha=0.5 ................................................\n"
          ]
        },
        {
          "output_type": "stream",
          "name": "stderr",
          "text": [
            "/usr/local/lib/python3.7/dist-packages/sklearn/linear_model/_coordinate_descent.py:476: ConvergenceWarning: Objective did not converge. You might want to increase the number of iterations. Duality gap: 582465.9480327044, tolerance: 4930.625720000001\n",
            "  positive)\n",
            "/usr/local/lib/python3.7/dist-packages/sklearn/linear_model/_coordinate_descent.py:476: ConvergenceWarning: Objective did not converge. You might want to increase the number of iterations. Duality gap: 330265.8066317923, tolerance: 4269.2907392\n",
            "  positive)\n",
            "/usr/local/lib/python3.7/dist-packages/sklearn/linear_model/_coordinate_descent.py:476: ConvergenceWarning: Objective did not converge. You might want to increase the number of iterations. Duality gap: 310507.9285904238, tolerance: 4371.369048387098\n",
            "  positive)\n"
          ]
        },
        {
          "output_type": "stream",
          "name": "stdout",
          "text": [
            "[CV] ............. model__alpha=0.5, score=-1972532.713, total=   0.1s\n",
            "[CV] model__alpha=0.5 ................................................\n",
            "[CV] .............. model__alpha=0.5, score=-944281.429, total=   0.1s\n",
            "[CV] model__alpha=0.6 ................................................\n",
            "[CV] ............. model__alpha=0.6, score=-1441678.618, total=   0.1s\n",
            "[CV] model__alpha=0.6 ................................................\n"
          ]
        },
        {
          "output_type": "stream",
          "name": "stderr",
          "text": [
            "/usr/local/lib/python3.7/dist-packages/sklearn/linear_model/_coordinate_descent.py:476: ConvergenceWarning: Objective did not converge. You might want to increase the number of iterations. Duality gap: 668728.7617542257, tolerance: 4494.4464272\n",
            "  positive)\n",
            "/usr/local/lib/python3.7/dist-packages/sklearn/linear_model/_coordinate_descent.py:476: ConvergenceWarning: Objective did not converge. You might want to increase the number of iterations. Duality gap: 323831.06734942994, tolerance: 4545.2030112\n",
            "  positive)\n",
            "/usr/local/lib/python3.7/dist-packages/sklearn/linear_model/_coordinate_descent.py:476: ConvergenceWarning: Objective did not converge. You might want to increase the number of iterations. Duality gap: 519155.37144869403, tolerance: 4930.625720000001\n",
            "  positive)\n"
          ]
        },
        {
          "output_type": "stream",
          "name": "stdout",
          "text": [
            "[CV] ............. model__alpha=0.6, score=-1673903.147, total=   0.1s\n",
            "[CV] model__alpha=0.6 ................................................\n",
            "[CV] ............. model__alpha=0.6, score=-2122847.292, total=   0.1s\n",
            "[CV] model__alpha=0.6 ................................................\n",
            "[CV] ............. model__alpha=0.6, score=-1843053.723, total=   0.1s\n",
            "[CV] model__alpha=0.6 ................................................\n"
          ]
        },
        {
          "output_type": "stream",
          "name": "stderr",
          "text": [
            "/usr/local/lib/python3.7/dist-packages/sklearn/linear_model/_coordinate_descent.py:476: ConvergenceWarning: Objective did not converge. You might want to increase the number of iterations. Duality gap: 278403.8874638146, tolerance: 4269.2907392\n",
            "  positive)\n",
            "/usr/local/lib/python3.7/dist-packages/sklearn/linear_model/_coordinate_descent.py:476: ConvergenceWarning: Objective did not converge. You might want to increase the number of iterations. Duality gap: 294203.52253975795, tolerance: 4371.369048387098\n",
            "  positive)\n",
            "/usr/local/lib/python3.7/dist-packages/sklearn/linear_model/_coordinate_descent.py:476: ConvergenceWarning: Objective did not converge. You might want to increase the number of iterations. Duality gap: 615001.6786087767, tolerance: 4494.4464272\n",
            "  positive)\n"
          ]
        },
        {
          "output_type": "stream",
          "name": "stdout",
          "text": [
            "[CV] .............. model__alpha=0.6, score=-948968.772, total=   0.1s\n",
            "[CV] model__alpha=0.7000000000000001 .................................\n",
            "[CV]  model__alpha=0.7000000000000001, score=-1351030.138, total=   0.1s\n",
            "[CV] model__alpha=0.7000000000000001 .................................\n",
            "[CV]  model__alpha=0.7000000000000001, score=-1648925.863, total=   0.1s\n",
            "[CV] model__alpha=0.7000000000000001 .................................\n"
          ]
        },
        {
          "output_type": "stream",
          "name": "stderr",
          "text": [
            "/usr/local/lib/python3.7/dist-packages/sklearn/linear_model/_coordinate_descent.py:476: ConvergenceWarning: Objective did not converge. You might want to increase the number of iterations. Duality gap: 275254.1695169954, tolerance: 4545.2030112\n",
            "  positive)\n",
            "/usr/local/lib/python3.7/dist-packages/sklearn/linear_model/_coordinate_descent.py:476: ConvergenceWarning: Objective did not converge. You might want to increase the number of iterations. Duality gap: 333395.2076474763, tolerance: 4930.625720000001\n",
            "  positive)\n",
            "/usr/local/lib/python3.7/dist-packages/sklearn/linear_model/_coordinate_descent.py:476: ConvergenceWarning: Objective did not converge. You might want to increase the number of iterations. Duality gap: 178773.34817370458, tolerance: 4269.2907392\n",
            "  positive)\n"
          ]
        },
        {
          "output_type": "stream",
          "name": "stdout",
          "text": [
            "[CV]  model__alpha=0.7000000000000001, score=-2054675.173, total=   0.1s\n",
            "[CV] model__alpha=0.7000000000000001 .................................\n",
            "[CV]  model__alpha=0.7000000000000001, score=-1725209.524, total=   0.1s\n",
            "[CV] model__alpha=0.7000000000000001 .................................\n",
            "[CV]  model__alpha=0.7000000000000001, score=-943566.106, total=   0.1s\n",
            "[CV] model__alpha=0.8 ................................................\n"
          ]
        },
        {
          "output_type": "stream",
          "name": "stderr",
          "text": [
            "/usr/local/lib/python3.7/dist-packages/sklearn/linear_model/_coordinate_descent.py:476: ConvergenceWarning: Objective did not converge. You might want to increase the number of iterations. Duality gap: 196177.7730167855, tolerance: 4371.369048387098\n",
            "  positive)\n",
            "/usr/local/lib/python3.7/dist-packages/sklearn/linear_model/_coordinate_descent.py:476: ConvergenceWarning: Objective did not converge. You might want to increase the number of iterations. Duality gap: 591911.3584137438, tolerance: 4494.4464272\n",
            "  positive)\n",
            "/usr/local/lib/python3.7/dist-packages/sklearn/linear_model/_coordinate_descent.py:476: ConvergenceWarning: Objective did not converge. You might want to increase the number of iterations. Duality gap: 241955.3970766241, tolerance: 4545.2030112\n",
            "  positive)\n"
          ]
        },
        {
          "output_type": "stream",
          "name": "stdout",
          "text": [
            "[CV] ............. model__alpha=0.8, score=-1262858.098, total=   0.1s\n",
            "[CV] model__alpha=0.8 ................................................\n",
            "[CV] ............. model__alpha=0.8, score=-1652710.210, total=   0.1s\n",
            "[CV] model__alpha=0.8 ................................................\n",
            "[CV] ............. model__alpha=0.8, score=-1970604.655, total=   0.1s\n",
            "[CV] model__alpha=0.8 ................................................\n"
          ]
        },
        {
          "output_type": "stream",
          "name": "stderr",
          "text": [
            "/usr/local/lib/python3.7/dist-packages/sklearn/linear_model/_coordinate_descent.py:476: ConvergenceWarning: Objective did not converge. You might want to increase the number of iterations. Duality gap: 470758.4233836379, tolerance: 4930.625720000001\n",
            "  positive)\n",
            "/usr/local/lib/python3.7/dist-packages/sklearn/linear_model/_coordinate_descent.py:476: ConvergenceWarning: Objective did not converge. You might want to increase the number of iterations. Duality gap: 167200.84729428403, tolerance: 4269.2907392\n",
            "  positive)\n",
            "/usr/local/lib/python3.7/dist-packages/sklearn/linear_model/_coordinate_descent.py:476: ConvergenceWarning: Objective did not converge. You might want to increase the number of iterations. Duality gap: 182023.3181027989, tolerance: 4371.369048387098\n",
            "  positive)\n"
          ]
        },
        {
          "output_type": "stream",
          "name": "stdout",
          "text": [
            "[CV] ............. model__alpha=0.8, score=-1647663.777, total=   0.1s\n",
            "[CV] model__alpha=0.8 ................................................\n",
            "[CV] .............. model__alpha=0.8, score=-947283.376, total=   0.1s\n",
            "[CV] model__alpha=0.9 ................................................\n",
            "[CV] ............. model__alpha=0.9, score=-1174680.520, total=   0.1s\n",
            "[CV] model__alpha=0.9 ................................................\n"
          ]
        },
        {
          "output_type": "stream",
          "name": "stderr",
          "text": [
            "/usr/local/lib/python3.7/dist-packages/sklearn/linear_model/_coordinate_descent.py:476: ConvergenceWarning: Objective did not converge. You might want to increase the number of iterations. Duality gap: 654078.7306808069, tolerance: 4494.4464272\n",
            "  positive)\n",
            "/usr/local/lib/python3.7/dist-packages/sklearn/linear_model/_coordinate_descent.py:476: ConvergenceWarning: Objective did not converge. You might want to increase the number of iterations. Duality gap: 207531.93906937033, tolerance: 4545.2030112\n",
            "  positive)\n",
            "/usr/local/lib/python3.7/dist-packages/sklearn/linear_model/_coordinate_descent.py:476: ConvergenceWarning: Objective did not converge. You might want to increase the number of iterations. Duality gap: 546544.1306186855, tolerance: 4930.625720000001\n",
            "  positive)\n"
          ]
        },
        {
          "output_type": "stream",
          "name": "stdout",
          "text": [
            "[CV] ............. model__alpha=0.9, score=-1679153.177, total=   0.1s\n",
            "[CV] model__alpha=0.9 ................................................\n",
            "[CV] ............. model__alpha=0.9, score=-1874604.304, total=   0.1s\n",
            "[CV] model__alpha=0.9 ................................................\n",
            "[CV] ............. model__alpha=0.9, score=-1581471.164, total=   0.1s\n",
            "[CV] model__alpha=0.9 ................................................\n"
          ]
        },
        {
          "output_type": "stream",
          "name": "stderr",
          "text": [
            "/usr/local/lib/python3.7/dist-packages/sklearn/linear_model/_coordinate_descent.py:476: ConvergenceWarning: Objective did not converge. You might want to increase the number of iterations. Duality gap: 156876.83638037485, tolerance: 4269.2907392\n",
            "  positive)\n",
            "/usr/local/lib/python3.7/dist-packages/sklearn/linear_model/_coordinate_descent.py:476: ConvergenceWarning: Objective did not converge. You might want to increase the number of iterations. Duality gap: 180748.3678482289, tolerance: 4371.369048387098\n",
            "  positive)\n",
            "/usr/local/lib/python3.7/dist-packages/sklearn/linear_model/_coordinate_descent.py:476: ConvergenceWarning: Objective did not converge. You might want to increase the number of iterations. Duality gap: 274614.6821022853, tolerance: 4494.4464272\n",
            "  positive)\n",
            "/usr/local/lib/python3.7/dist-packages/sklearn/linear_model/_coordinate_descent.py:476: ConvergenceWarning: Objective did not converge. You might want to increase the number of iterations. Duality gap: 232178.19645289378, tolerance: 4545.2030112\n",
            "  positive)\n"
          ]
        },
        {
          "output_type": "stream",
          "name": "stdout",
          "text": [
            "[CV] .............. model__alpha=0.9, score=-954653.340, total=   0.1s\n",
            "[CV] model__alpha=1.0 ................................................\n",
            "[CV] ............. model__alpha=1.0, score=-1104068.055, total=   0.1s\n",
            "[CV] model__alpha=1.0 ................................................\n",
            "[CV] ............. model__alpha=1.0, score=-1712765.962, total=   0.1s\n",
            "[CV] model__alpha=1.0 ................................................\n",
            "[CV] ............. model__alpha=1.0, score=-1782657.765, total=   0.1s\n",
            "[CV] model__alpha=1.0 ................................................\n",
            "[CV] ............. model__alpha=1.0, score=-1511815.455, total=   0.1s\n",
            "[CV] model__alpha=1.0 ................................................\n",
            "[CV] .............. model__alpha=1.0, score=-974655.189, total=   0.1s\n",
            "[CV] model__alpha=1.1 ................................................\n"
          ]
        },
        {
          "output_type": "stream",
          "name": "stderr",
          "text": [
            "/usr/local/lib/python3.7/dist-packages/sklearn/linear_model/_coordinate_descent.py:476: ConvergenceWarning: Objective did not converge. You might want to increase the number of iterations. Duality gap: 616348.4733829282, tolerance: 4930.625720000001\n",
            "  positive)\n",
            "/usr/local/lib/python3.7/dist-packages/sklearn/linear_model/_coordinate_descent.py:476: ConvergenceWarning: Objective did not converge. You might want to increase the number of iterations. Duality gap: 105368.55218593823, tolerance: 4269.2907392\n",
            "  positive)\n",
            "/usr/local/lib/python3.7/dist-packages/sklearn/linear_model/_coordinate_descent.py:476: ConvergenceWarning: Objective did not converge. You might want to increase the number of iterations. Duality gap: 226445.1710465037, tolerance: 4371.369048387098\n",
            "  positive)\n"
          ]
        },
        {
          "output_type": "stream",
          "name": "stdout",
          "text": [
            "[CV] ............. model__alpha=1.1, score=-1050084.663, total=   0.1s\n",
            "[CV] model__alpha=1.1 ................................................\n",
            "[CV] ............. model__alpha=1.1, score=-1747447.490, total=   0.1s\n",
            "[CV] model__alpha=1.1 ................................................\n",
            "[CV] ............. model__alpha=1.1, score=-1694544.206, total=   0.1s\n",
            "[CV] model__alpha=1.1 ................................................\n"
          ]
        },
        {
          "output_type": "stream",
          "name": "stderr",
          "text": [
            "/usr/local/lib/python3.7/dist-packages/sklearn/linear_model/_coordinate_descent.py:476: ConvergenceWarning: Objective did not converge. You might want to increase the number of iterations. Duality gap: 242726.3388896149, tolerance: 4494.4464272\n",
            "  positive)\n",
            "/usr/local/lib/python3.7/dist-packages/sklearn/linear_model/_coordinate_descent.py:476: ConvergenceWarning: Objective did not converge. You might want to increase the number of iterations. Duality gap: 229868.40320479497, tolerance: 4545.2030112\n",
            "  positive)\n",
            "/usr/local/lib/python3.7/dist-packages/sklearn/linear_model/_coordinate_descent.py:476: ConvergenceWarning: Objective did not converge. You might want to increase the number of iterations. Duality gap: 622369.32657653, tolerance: 4930.625720000001\n",
            "  positive)\n"
          ]
        },
        {
          "output_type": "stream",
          "name": "stdout",
          "text": [
            "[CV] ............. model__alpha=1.1, score=-1470095.467, total=   0.1s\n",
            "[CV] model__alpha=1.1 ................................................\n",
            "[CV] .............. model__alpha=1.1, score=-984893.538, total=   0.1s\n",
            "[CV] model__alpha=1.2000000000000002 .................................\n",
            "[CV]  model__alpha=1.2000000000000002, score=-1019749.328, total=   0.1s\n",
            "[CV] model__alpha=1.2000000000000002 .................................\n"
          ]
        },
        {
          "output_type": "stream",
          "name": "stderr",
          "text": [
            "/usr/local/lib/python3.7/dist-packages/sklearn/linear_model/_coordinate_descent.py:476: ConvergenceWarning: Objective did not converge. You might want to increase the number of iterations. Duality gap: 90859.73361631215, tolerance: 4269.2907392\n",
            "  positive)\n",
            "/usr/local/lib/python3.7/dist-packages/sklearn/linear_model/_coordinate_descent.py:476: ConvergenceWarning: Objective did not converge. You might want to increase the number of iterations. Duality gap: 133435.21168538858, tolerance: 4371.369048387098\n",
            "  positive)\n",
            "/usr/local/lib/python3.7/dist-packages/sklearn/linear_model/_coordinate_descent.py:476: ConvergenceWarning: Objective did not converge. You might want to increase the number of iterations. Duality gap: 220568.62696801685, tolerance: 4494.4464272\n",
            "  positive)\n"
          ]
        },
        {
          "output_type": "stream",
          "name": "stdout",
          "text": [
            "[CV]  model__alpha=1.2000000000000002, score=-1757559.358, total=   0.1s\n",
            "[CV] model__alpha=1.2000000000000002 .................................\n",
            "[CV]  model__alpha=1.2000000000000002, score=-1627032.094, total=   0.1s\n",
            "[CV] model__alpha=1.2000000000000002 .................................\n",
            "[CV]  model__alpha=1.2000000000000002, score=-1424899.713, total=   0.1s\n",
            "[CV] model__alpha=1.2000000000000002 .................................\n"
          ]
        },
        {
          "output_type": "stream",
          "name": "stderr",
          "text": [
            "/usr/local/lib/python3.7/dist-packages/sklearn/linear_model/_coordinate_descent.py:476: ConvergenceWarning: Objective did not converge. You might want to increase the number of iterations. Duality gap: 198177.23904479074, tolerance: 4545.2030112\n",
            "  positive)\n",
            "/usr/local/lib/python3.7/dist-packages/sklearn/linear_model/_coordinate_descent.py:476: ConvergenceWarning: Objective did not converge. You might want to increase the number of iterations. Duality gap: 611543.2537915421, tolerance: 4930.625720000001\n",
            "  positive)\n",
            "/usr/local/lib/python3.7/dist-packages/sklearn/linear_model/_coordinate_descent.py:476: ConvergenceWarning: Objective did not converge. You might want to increase the number of iterations. Duality gap: 84008.6606461429, tolerance: 4269.2907392\n",
            "  positive)\n",
            "/usr/local/lib/python3.7/dist-packages/sklearn/linear_model/_coordinate_descent.py:476: ConvergenceWarning: Objective did not converge. You might want to increase the number of iterations. Duality gap: 102043.73772264807, tolerance: 4371.369048387098\n",
            "  positive)\n"
          ]
        },
        {
          "output_type": "stream",
          "name": "stdout",
          "text": [
            "[CV]  model__alpha=1.2000000000000002, score=-992399.195, total=   0.1s\n",
            "[CV] model__alpha=1.3000000000000003 .................................\n",
            "[CV]  model__alpha=1.3000000000000003, score=-996613.236, total=   0.1s\n",
            "[CV] model__alpha=1.3000000000000003 .................................\n",
            "[CV]  model__alpha=1.3000000000000003, score=-1754199.097, total=   0.1s\n",
            "[CV] model__alpha=1.3000000000000003 .................................\n",
            "[CV]  model__alpha=1.3000000000000003, score=-1595696.245, total=   0.1s\n",
            "[CV] model__alpha=1.3000000000000003 .................................\n"
          ]
        },
        {
          "output_type": "stream",
          "name": "stderr",
          "text": [
            "/usr/local/lib/python3.7/dist-packages/sklearn/linear_model/_coordinate_descent.py:476: ConvergenceWarning: Objective did not converge. You might want to increase the number of iterations. Duality gap: 175884.69146656664, tolerance: 4494.4464272\n",
            "  positive)\n",
            "/usr/local/lib/python3.7/dist-packages/sklearn/linear_model/_coordinate_descent.py:476: ConvergenceWarning: Objective did not converge. You might want to increase the number of iterations. Duality gap: 144015.01217363472, tolerance: 4545.2030112\n",
            "  positive)\n",
            "/usr/local/lib/python3.7/dist-packages/sklearn/linear_model/_coordinate_descent.py:476: ConvergenceWarning: Objective did not converge. You might want to increase the number of iterations. Duality gap: 584901.9553536575, tolerance: 4930.625720000001\n",
            "  positive)\n"
          ]
        },
        {
          "output_type": "stream",
          "name": "stdout",
          "text": [
            "[CV]  model__alpha=1.3000000000000003, score=-1377185.580, total=   0.1s\n",
            "[CV] model__alpha=1.3000000000000003 .................................\n",
            "[CV]  model__alpha=1.3000000000000003, score=-1005091.371, total=   0.1s\n",
            "[CV] model__alpha=1.4000000000000001 .................................\n",
            "[CV]  model__alpha=1.4000000000000001, score=-976070.240, total=   0.1s\n",
            "[CV] model__alpha=1.4000000000000001 .................................\n"
          ]
        },
        {
          "output_type": "stream",
          "name": "stderr",
          "text": [
            "/usr/local/lib/python3.7/dist-packages/sklearn/linear_model/_coordinate_descent.py:476: ConvergenceWarning: Objective did not converge. You might want to increase the number of iterations. Duality gap: 76666.65135571081, tolerance: 4269.2907392\n",
            "  positive)\n",
            "/usr/local/lib/python3.7/dist-packages/sklearn/linear_model/_coordinate_descent.py:476: ConvergenceWarning: Objective did not converge. You might want to increase the number of iterations. Duality gap: 98107.7099647324, tolerance: 4371.369048387098\n",
            "  positive)\n",
            "/usr/local/lib/python3.7/dist-packages/sklearn/linear_model/_coordinate_descent.py:476: ConvergenceWarning: Objective did not converge. You might want to increase the number of iterations. Duality gap: 137529.07735410938, tolerance: 4494.4464272\n",
            "  positive)\n"
          ]
        },
        {
          "output_type": "stream",
          "name": "stdout",
          "text": [
            "[CV]  model__alpha=1.4000000000000001, score=-1735407.846, total=   0.1s\n",
            "[CV] model__alpha=1.4000000000000001 .................................\n",
            "[CV]  model__alpha=1.4000000000000001, score=-1564177.422, total=   0.1s\n",
            "[CV] model__alpha=1.4000000000000001 .................................\n",
            "[CV]  model__alpha=1.4000000000000001, score=-1334855.985, total=   0.1s\n",
            "[CV] model__alpha=1.4000000000000001 .................................\n",
            "[CV]  model__alpha=1.4000000000000001, score=-1005044.436, total=   0.1s\n",
            "[CV] model__alpha=1.5000000000000002 ................................."
          ]
        },
        {
          "output_type": "stream",
          "name": "stderr",
          "text": [
            "/usr/local/lib/python3.7/dist-packages/sklearn/linear_model/_coordinate_descent.py:476: ConvergenceWarning: Objective did not converge. You might want to increase the number of iterations. Duality gap: 139471.6042656526, tolerance: 4545.2030112\n",
            "  positive)\n",
            "/usr/local/lib/python3.7/dist-packages/sklearn/linear_model/_coordinate_descent.py:476: ConvergenceWarning: Objective did not converge. You might want to increase the number of iterations. Duality gap: 575030.6050039921, tolerance: 4930.625720000001\n",
            "  positive)\n",
            "/usr/local/lib/python3.7/dist-packages/sklearn/linear_model/_coordinate_descent.py:476: ConvergenceWarning: Objective did not converge. You might want to increase the number of iterations. Duality gap: 84533.66374175856, tolerance: 4269.2907392\n",
            "  positive)\n",
            "/usr/local/lib/python3.7/dist-packages/sklearn/linear_model/_coordinate_descent.py:476: ConvergenceWarning: Objective did not converge. You might want to increase the number of iterations. Duality gap: 77218.90229638969, tolerance: 4371.369048387098\n",
            "  positive)\n"
          ]
        },
        {
          "output_type": "stream",
          "name": "stdout",
          "text": [
            "\n",
            "[CV]  model__alpha=1.5000000000000002, score=-961940.373, total=   0.1s\n",
            "[CV] model__alpha=1.5000000000000002 .................................\n",
            "[CV]  model__alpha=1.5000000000000002, score=-1710478.922, total=   0.1s\n",
            "[CV] model__alpha=1.5000000000000002 .................................\n",
            "[CV]  model__alpha=1.5000000000000002, score=-1517355.596, total=   0.1s\n",
            "[CV] model__alpha=1.5000000000000002 ................................."
          ]
        },
        {
          "output_type": "stream",
          "name": "stderr",
          "text": [
            "/usr/local/lib/python3.7/dist-packages/sklearn/linear_model/_coordinate_descent.py:476: ConvergenceWarning: Objective did not converge. You might want to increase the number of iterations. Duality gap: 122722.3065123572, tolerance: 4494.4464272\n",
            "  positive)\n",
            "/usr/local/lib/python3.7/dist-packages/sklearn/linear_model/_coordinate_descent.py:476: ConvergenceWarning: Objective did not converge. You might want to increase the number of iterations. Duality gap: 95032.34692543698, tolerance: 4545.2030112\n",
            "  positive)\n",
            "/usr/local/lib/python3.7/dist-packages/sklearn/linear_model/_coordinate_descent.py:476: ConvergenceWarning: Objective did not converge. You might want to increase the number of iterations. Duality gap: 513352.3948870925, tolerance: 4930.625720000001\n",
            "  positive)\n",
            "/usr/local/lib/python3.7/dist-packages/sklearn/linear_model/_coordinate_descent.py:476: ConvergenceWarning: Objective did not converge. You might want to increase the number of iterations. Duality gap: 47902.368504586164, tolerance: 4269.2907392\n",
            "  positive)\n"
          ]
        },
        {
          "output_type": "stream",
          "name": "stdout",
          "text": [
            "\n",
            "[CV]  model__alpha=1.5000000000000002, score=-1295114.629, total=   0.1s\n",
            "[CV] model__alpha=1.5000000000000002 .................................\n",
            "[CV]  model__alpha=1.5000000000000002, score=-995266.878, total=   0.1s\n",
            "[CV] model__alpha=1.6 ................................................\n",
            "[CV] .............. model__alpha=1.6, score=-941690.543, total=   0.1s\n",
            "[CV] model__alpha=1.6 ................................................\n"
          ]
        },
        {
          "output_type": "stream",
          "name": "stderr",
          "text": [
            "/usr/local/lib/python3.7/dist-packages/sklearn/linear_model/_coordinate_descent.py:476: ConvergenceWarning: Objective did not converge. You might want to increase the number of iterations. Duality gap: 80418.91276068008, tolerance: 4371.369048387098\n",
            "  positive)\n",
            "/usr/local/lib/python3.7/dist-packages/sklearn/linear_model/_coordinate_descent.py:476: ConvergenceWarning: Objective did not converge. You might want to increase the number of iterations. Duality gap: 118383.85682382039, tolerance: 4494.4464272\n",
            "  positive)\n",
            "/usr/local/lib/python3.7/dist-packages/sklearn/linear_model/_coordinate_descent.py:476: ConvergenceWarning: Objective did not converge. You might want to increase the number of iterations. Duality gap: 94631.16483609541, tolerance: 4545.2030112\n",
            "  positive)\n"
          ]
        },
        {
          "output_type": "stream",
          "name": "stdout",
          "text": [
            "[CV] ............. model__alpha=1.6, score=-1678900.785, total=   0.1s\n",
            "[CV] model__alpha=1.6 ................................................\n",
            "[CV] ............. model__alpha=1.6, score=-1472719.173, total=   0.1s\n",
            "[CV] model__alpha=1.6 ................................................\n",
            "[CV] ............. model__alpha=1.6, score=-1248357.543, total=   0.1s\n",
            "[CV] model__alpha=1.6 ................................................\n"
          ]
        },
        {
          "output_type": "stream",
          "name": "stderr",
          "text": [
            "/usr/local/lib/python3.7/dist-packages/sklearn/linear_model/_coordinate_descent.py:476: ConvergenceWarning: Objective did not converge. You might want to increase the number of iterations. Duality gap: 358793.21805138374, tolerance: 4930.625720000001\n",
            "  positive)\n",
            "/usr/local/lib/python3.7/dist-packages/sklearn/linear_model/_coordinate_descent.py:476: ConvergenceWarning: Objective did not converge. You might want to increase the number of iterations. Duality gap: 55850.09555229684, tolerance: 4269.2907392\n",
            "  positive)\n",
            "/usr/local/lib/python3.7/dist-packages/sklearn/linear_model/_coordinate_descent.py:476: ConvergenceWarning: Objective did not converge. You might want to increase the number of iterations. Duality gap: 83648.4168152716, tolerance: 4371.369048387098\n",
            "  positive)\n"
          ]
        },
        {
          "output_type": "stream",
          "name": "stdout",
          "text": [
            "[CV] .............. model__alpha=1.6, score=-987476.438, total=   0.1s\n",
            "[CV] model__alpha=1.7000000000000002 .................................\n",
            "[CV]  model__alpha=1.7000000000000002, score=-1076925.217, total=   0.1s\n",
            "[CV] model__alpha=1.7000000000000002 .................................\n",
            "[CV]  model__alpha=1.7000000000000002, score=-1650574.018, total=   0.1s\n",
            "[CV] model__alpha=1.7000000000000002 .................................\n"
          ]
        },
        {
          "output_type": "stream",
          "name": "stderr",
          "text": [
            "/usr/local/lib/python3.7/dist-packages/sklearn/linear_model/_coordinate_descent.py:476: ConvergenceWarning: Objective did not converge. You might want to increase the number of iterations. Duality gap: 96267.90341368597, tolerance: 4494.4464272\n",
            "  positive)\n",
            "/usr/local/lib/python3.7/dist-packages/sklearn/linear_model/_coordinate_descent.py:476: ConvergenceWarning: Objective did not converge. You might want to increase the number of iterations. Duality gap: 82039.29183077766, tolerance: 4545.2030112\n",
            "  positive)\n",
            "/usr/local/lib/python3.7/dist-packages/sklearn/linear_model/_coordinate_descent.py:476: ConvergenceWarning: Objective did not converge. You might want to increase the number of iterations. Duality gap: 249802.84927176242, tolerance: 4930.625720000001\n",
            "  positive)\n",
            "/usr/local/lib/python3.7/dist-packages/sklearn/linear_model/_coordinate_descent.py:476: ConvergenceWarning: Objective did not converge. You might want to increase the number of iterations. Duality gap: 56628.05317861773, tolerance: 4269.2907392\n",
            "  positive)\n"
          ]
        },
        {
          "output_type": "stream",
          "name": "stdout",
          "text": [
            "[CV]  model__alpha=1.7000000000000002, score=-1429271.464, total=   0.1s\n",
            "[CV] model__alpha=1.7000000000000002 .................................\n",
            "[CV]  model__alpha=1.7000000000000002, score=-1211279.733, total=   0.1s\n",
            "[CV] model__alpha=1.7000000000000002 .................................\n",
            "[CV]  model__alpha=1.7000000000000002, score=-980801.541, total=   0.1s\n",
            "[CV] model__alpha=1.8000000000000003 .................................\n",
            "[CV]  model__alpha=1.8000000000000003, score=-1325131.592, total=   0.1s\n",
            "[CV] model__alpha=1.8000000000000003 .................................\n"
          ]
        },
        {
          "output_type": "stream",
          "name": "stderr",
          "text": [
            "/usr/local/lib/python3.7/dist-packages/sklearn/linear_model/_coordinate_descent.py:476: ConvergenceWarning: Objective did not converge. You might want to increase the number of iterations. Duality gap: 57285.707520481665, tolerance: 4371.369048387098\n",
            "  positive)\n",
            "/usr/local/lib/python3.7/dist-packages/sklearn/linear_model/_coordinate_descent.py:476: ConvergenceWarning: Objective did not converge. You might want to increase the number of iterations. Duality gap: 102706.27986403368, tolerance: 4494.4464272\n",
            "  positive)\n",
            "/usr/local/lib/python3.7/dist-packages/sklearn/linear_model/_coordinate_descent.py:476: ConvergenceWarning: Objective did not converge. You might want to increase the number of iterations. Duality gap: 77852.20070231217, tolerance: 4545.2030112\n",
            "  positive)\n",
            "/usr/local/lib/python3.7/dist-packages/sklearn/linear_model/_coordinate_descent.py:476: ConvergenceWarning: Objective did not converge. You might want to increase the number of iterations. Duality gap: 213022.566254294, tolerance: 4930.625720000001\n",
            "  positive)\n"
          ]
        },
        {
          "output_type": "stream",
          "name": "stdout",
          "text": [
            "[CV]  model__alpha=1.8000000000000003, score=-1622104.636, total=   0.1s\n",
            "[CV] model__alpha=1.8000000000000003 .................................\n",
            "[CV]  model__alpha=1.8000000000000003, score=-1390079.785, total=   0.1s\n",
            "[CV] model__alpha=1.8000000000000003 .................................\n",
            "[CV]  model__alpha=1.8000000000000003, score=-1183728.497, total=   0.1s\n",
            "[CV] model__alpha=1.8000000000000003 .................................\n",
            "[CV]  model__alpha=1.8000000000000003, score=-975831.266, total=   0.1s\n",
            "[CV] model__alpha=1.9000000000000001 .................................\n"
          ]
        },
        {
          "output_type": "stream",
          "name": "stderr",
          "text": [
            "/usr/local/lib/python3.7/dist-packages/sklearn/linear_model/_coordinate_descent.py:476: ConvergenceWarning: Objective did not converge. You might want to increase the number of iterations. Duality gap: 54673.62232789351, tolerance: 4269.2907392\n",
            "  positive)\n",
            "/usr/local/lib/python3.7/dist-packages/sklearn/linear_model/_coordinate_descent.py:476: ConvergenceWarning: Objective did not converge. You might want to increase the number of iterations. Duality gap: 37613.96367826406, tolerance: 4371.369048387098\n",
            "  positive)\n",
            "/usr/local/lib/python3.7/dist-packages/sklearn/linear_model/_coordinate_descent.py:476: ConvergenceWarning: Objective did not converge. You might want to increase the number of iterations. Duality gap: 106134.11661584768, tolerance: 4494.4464272\n",
            "  positive)\n",
            "/usr/local/lib/python3.7/dist-packages/sklearn/linear_model/_coordinate_descent.py:476: ConvergenceWarning: Objective did not converge. You might want to increase the number of iterations. Duality gap: 79520.40881998953, tolerance: 4545.2030112\n",
            "  positive)\n"
          ]
        },
        {
          "output_type": "stream",
          "name": "stdout",
          "text": [
            "[CV]  model__alpha=1.9000000000000001, score=-1546452.448, total=   0.1s\n",
            "[CV] model__alpha=1.9000000000000001 .................................\n",
            "[CV]  model__alpha=1.9000000000000001, score=-1597292.368, total=   0.1s\n",
            "[CV] model__alpha=1.9000000000000001 .................................\n",
            "[CV]  model__alpha=1.9000000000000001, score=-1357644.430, total=   0.1s\n",
            "[CV] model__alpha=1.9000000000000001 .................................\n"
          ]
        },
        {
          "output_type": "stream",
          "name": "stderr",
          "text": [
            "/usr/local/lib/python3.7/dist-packages/sklearn/linear_model/_coordinate_descent.py:476: ConvergenceWarning: Objective did not converge. You might want to increase the number of iterations. Duality gap: 215256.5683894693, tolerance: 4930.625720000001\n",
            "  positive)\n",
            "/usr/local/lib/python3.7/dist-packages/sklearn/linear_model/_coordinate_descent.py:476: ConvergenceWarning: Objective did not converge. You might want to increase the number of iterations. Duality gap: 53066.27171197068, tolerance: 4269.2907392\n",
            "  positive)\n",
            "/usr/local/lib/python3.7/dist-packages/sklearn/linear_model/_coordinate_descent.py:476: ConvergenceWarning: Objective did not converge. You might want to increase the number of iterations. Duality gap: 27727.04501916375, tolerance: 4371.369048387098\n",
            "  positive)\n",
            "/usr/local/lib/python3.7/dist-packages/sklearn/linear_model/_coordinate_descent.py:476: ConvergenceWarning: Objective did not converge. You might want to increase the number of iterations. Duality gap: 103660.94179993868, tolerance: 4494.4464272\n",
            "  positive)\n"
          ]
        },
        {
          "output_type": "stream",
          "name": "stdout",
          "text": [
            "[CV]  model__alpha=1.9000000000000001, score=-1169926.150, total=   0.1s\n",
            "[CV] model__alpha=1.9000000000000001 .................................\n",
            "[CV]  model__alpha=1.9000000000000001, score=-965873.971, total=   0.1s\n",
            "[CV] model__alpha=2.0 ................................................\n",
            "[CV] ............. model__alpha=2.0, score=-1704635.876, total=   0.1s\n",
            "[CV] model__alpha=2.0 ................................................\n"
          ]
        },
        {
          "output_type": "stream",
          "name": "stderr",
          "text": [
            "/usr/local/lib/python3.7/dist-packages/sklearn/linear_model/_coordinate_descent.py:476: ConvergenceWarning: Objective did not converge. You might want to increase the number of iterations. Duality gap: 75545.87515511364, tolerance: 4545.2030112\n",
            "  positive)\n",
            "/usr/local/lib/python3.7/dist-packages/sklearn/linear_model/_coordinate_descent.py:476: ConvergenceWarning: Objective did not converge. You might want to increase the number of iterations. Duality gap: 194796.63259338727, tolerance: 4930.625720000001\n",
            "  positive)\n",
            "/usr/local/lib/python3.7/dist-packages/sklearn/linear_model/_coordinate_descent.py:476: ConvergenceWarning: Objective did not converge. You might want to increase the number of iterations. Duality gap: 48920.43118846929, tolerance: 4269.2907392\n",
            "  positive)\n"
          ]
        },
        {
          "output_type": "stream",
          "name": "stdout",
          "text": [
            "[CV] ............. model__alpha=2.0, score=-1570095.744, total=   0.1s\n",
            "[CV] model__alpha=2.0 ................................................\n",
            "[CV] ............. model__alpha=2.0, score=-1328513.746, total=   0.1s\n",
            "[CV] model__alpha=2.0 ................................................\n",
            "[CV] ............. model__alpha=2.0, score=-1154502.612, total=   0.1s\n",
            "[CV] model__alpha=2.0 ................................................\n",
            "[CV] .............. model__alpha=2.0, score=-952770.170, total=   0.1s\n",
            "[CV] model__alpha=2.1 ................................................\n"
          ]
        },
        {
          "output_type": "stream",
          "name": "stderr",
          "text": [
            "/usr/local/lib/python3.7/dist-packages/sklearn/linear_model/_coordinate_descent.py:476: ConvergenceWarning: Objective did not converge. You might want to increase the number of iterations. Duality gap: 21947.07486257376, tolerance: 4371.369048387098\n",
            "  positive)\n",
            "/usr/local/lib/python3.7/dist-packages/sklearn/linear_model/_coordinate_descent.py:476: ConvergenceWarning: Objective did not converge. You might want to increase the number of iterations. Duality gap: 111107.89342655754, tolerance: 4494.4464272\n",
            "  positive)\n",
            "/usr/local/lib/python3.7/dist-packages/sklearn/linear_model/_coordinate_descent.py:476: ConvergenceWarning: Objective did not converge. You might want to increase the number of iterations. Duality gap: 83237.3024841426, tolerance: 4545.2030112\n",
            "  positive)\n",
            "/usr/local/lib/python3.7/dist-packages/sklearn/linear_model/_coordinate_descent.py:476: ConvergenceWarning: Objective did not converge. You might want to increase the number of iterations. Duality gap: 159706.21771234693, tolerance: 4930.625720000001\n",
            "  positive)\n"
          ]
        },
        {
          "output_type": "stream",
          "name": "stdout",
          "text": [
            "[CV] ............. model__alpha=2.1, score=-1894727.684, total=   0.1s\n",
            "[CV] model__alpha=2.1 ................................................\n",
            "[CV] ............. model__alpha=2.1, score=-1540088.464, total=   0.1s\n",
            "[CV] model__alpha=2.1 ................................................\n",
            "[CV] ............. model__alpha=2.1, score=-1300216.540, total=   0.1s\n",
            "[CV] model__alpha=2.1 ................................................\n",
            "[CV] ............. model__alpha=2.1, score=-1128826.607, total=   0.1s\n",
            "[CV] model__alpha=2.1 ................................................\n"
          ]
        },
        {
          "output_type": "stream",
          "name": "stderr",
          "text": [
            "/usr/local/lib/python3.7/dist-packages/sklearn/linear_model/_coordinate_descent.py:476: ConvergenceWarning: Objective did not converge. You might want to increase the number of iterations. Duality gap: 36626.93560081208, tolerance: 4269.2907392\n",
            "  positive)\n",
            "/usr/local/lib/python3.7/dist-packages/sklearn/linear_model/_coordinate_descent.py:476: ConvergenceWarning: Objective did not converge. You might want to increase the number of iterations. Duality gap: 17739.975969154388, tolerance: 4371.369048387098\n",
            "  positive)\n",
            "/usr/local/lib/python3.7/dist-packages/sklearn/linear_model/_coordinate_descent.py:476: ConvergenceWarning: Objective did not converge. You might want to increase the number of iterations. Duality gap: 109227.66598487552, tolerance: 4494.4464272\n",
            "  positive)\n"
          ]
        },
        {
          "output_type": "stream",
          "name": "stdout",
          "text": [
            "[CV] .............. model__alpha=2.1, score=-946335.267, total=   0.1s\n",
            "[CV] model__alpha=2.2 ................................................\n",
            "[CV] ............. model__alpha=2.2, score=-2135590.088, total=   0.1s\n",
            "[CV] model__alpha=2.2 ................................................\n",
            "[CV] ............. model__alpha=2.2, score=-1505828.531, total=   0.1s\n",
            "[CV] model__alpha=2.2 ................................................\n"
          ]
        },
        {
          "output_type": "stream",
          "name": "stderr",
          "text": [
            "/usr/local/lib/python3.7/dist-packages/sklearn/linear_model/_coordinate_descent.py:476: ConvergenceWarning: Objective did not converge. You might want to increase the number of iterations. Duality gap: 84987.28228648333, tolerance: 4545.2030112\n",
            "  positive)\n",
            "/usr/local/lib/python3.7/dist-packages/sklearn/linear_model/_coordinate_descent.py:476: ConvergenceWarning: Objective did not converge. You might want to increase the number of iterations. Duality gap: 137780.54366340302, tolerance: 4930.625720000001\n",
            "  positive)\n",
            "/usr/local/lib/python3.7/dist-packages/sklearn/linear_model/_coordinate_descent.py:476: ConvergenceWarning: Objective did not converge. You might want to increase the number of iterations. Duality gap: 26199.117889273446, tolerance: 4269.2907392\n",
            "  positive)\n"
          ]
        },
        {
          "output_type": "stream",
          "name": "stdout",
          "text": [
            "[CV] ............. model__alpha=2.2, score=-1271902.640, total=   0.1s\n",
            "[CV] model__alpha=2.2 ................................................\n",
            "[CV] ............. model__alpha=2.2, score=-1102113.029, total=   0.1s\n",
            "[CV] model__alpha=2.2 ................................................\n",
            "[CV] .............. model__alpha=2.2, score=-942335.602, total=   0.1s\n",
            "[CV] model__alpha=2.3000000000000003 .................................\n"
          ]
        },
        {
          "output_type": "stream",
          "name": "stderr",
          "text": [
            "/usr/local/lib/python3.7/dist-packages/sklearn/linear_model/_coordinate_descent.py:476: ConvergenceWarning: Objective did not converge. You might want to increase the number of iterations. Duality gap: 12830.244126089849, tolerance: 4371.369048387098\n",
            "  positive)\n",
            "/usr/local/lib/python3.7/dist-packages/sklearn/linear_model/_coordinate_descent.py:476: ConvergenceWarning: Objective did not converge. You might want to increase the number of iterations. Duality gap: 99989.12915789429, tolerance: 4494.4464272\n",
            "  positive)\n",
            "/usr/local/lib/python3.7/dist-packages/sklearn/linear_model/_coordinate_descent.py:476: ConvergenceWarning: Objective did not converge. You might want to increase the number of iterations. Duality gap: 89327.41214035312, tolerance: 4545.2030112\n",
            "  positive)\n",
            "/usr/local/lib/python3.7/dist-packages/sklearn/linear_model/_coordinate_descent.py:476: ConvergenceWarning: Objective did not converge. You might want to increase the number of iterations. Duality gap: 109284.997428298, tolerance: 4930.625720000001\n",
            "  positive)\n"
          ]
        },
        {
          "output_type": "stream",
          "name": "stdout",
          "text": [
            "[CV]  model__alpha=2.3000000000000003, score=-2406355.521, total=   0.1s\n",
            "[CV] model__alpha=2.3000000000000003 .................................\n",
            "[CV]  model__alpha=2.3000000000000003, score=-1464902.758, total=   0.1s\n",
            "[CV] model__alpha=2.3000000000000003 .................................\n",
            "[CV]  model__alpha=2.3000000000000003, score=-1241739.750, total=   0.1s\n",
            "[CV] model__alpha=2.3000000000000003 .................................\n",
            "[CV]  model__alpha=2.3000000000000003, score=-1079659.428, total=   0.1s\n",
            "[CV] model__alpha=2.3000000000000003 .................................\n"
          ]
        },
        {
          "output_type": "stream",
          "name": "stderr",
          "text": [
            "/usr/local/lib/python3.7/dist-packages/sklearn/linear_model/_coordinate_descent.py:476: ConvergenceWarning: Objective did not converge. You might want to increase the number of iterations. Duality gap: 14845.5375979878, tolerance: 4269.2907392\n",
            "  positive)\n",
            "/usr/local/lib/python3.7/dist-packages/sklearn/linear_model/_coordinate_descent.py:476: ConvergenceWarning: Objective did not converge. You might want to increase the number of iterations. Duality gap: 13470.252440999728, tolerance: 4371.369048387098\n",
            "  positive)\n",
            "/usr/local/lib/python3.7/dist-packages/sklearn/linear_model/_coordinate_descent.py:476: ConvergenceWarning: Objective did not converge. You might want to increase the number of iterations. Duality gap: 101089.10403702362, tolerance: 4494.4464272\n",
            "  positive)\n",
            "/usr/local/lib/python3.7/dist-packages/sklearn/linear_model/_coordinate_descent.py:476: ConvergenceWarning: Objective did not converge. You might want to increase the number of iterations. Duality gap: 100923.53927286528, tolerance: 4545.2030112\n",
            "  positive)\n"
          ]
        },
        {
          "output_type": "stream",
          "name": "stdout",
          "text": [
            "[CV]  model__alpha=2.3000000000000003, score=-941330.799, total=   0.1s\n",
            "[CV] model__alpha=2.4000000000000004 .................................\n",
            "[CV]  model__alpha=2.4000000000000004, score=-3091018.179, total=   0.1s\n",
            "[CV] model__alpha=2.4000000000000004 .................................\n",
            "[CV]  model__alpha=2.4000000000000004, score=-1425917.238, total=   0.1s\n",
            "[CV] model__alpha=2.4000000000000004 .................................\n",
            "[CV]  model__alpha=2.4000000000000004, score=-1211849.379, total=   0.1s\n",
            "[CV] model__alpha=2.4000000000000004 .................................\n"
          ]
        },
        {
          "output_type": "stream",
          "name": "stderr",
          "text": [
            "/usr/local/lib/python3.7/dist-packages/sklearn/linear_model/_coordinate_descent.py:476: ConvergenceWarning: Objective did not converge. You might want to increase the number of iterations. Duality gap: 81365.65736196283, tolerance: 4930.625720000001\n",
            "  positive)\n",
            "/usr/local/lib/python3.7/dist-packages/sklearn/linear_model/_coordinate_descent.py:476: ConvergenceWarning: Objective did not converge. You might want to increase the number of iterations. Duality gap: 7149.545037634205, tolerance: 4269.2907392\n",
            "  positive)\n",
            "/usr/local/lib/python3.7/dist-packages/sklearn/linear_model/_coordinate_descent.py:476: ConvergenceWarning: Objective did not converge. You might want to increase the number of iterations. Duality gap: 16804.996300997213, tolerance: 4371.369048387098\n",
            "  positive)\n",
            "/usr/local/lib/python3.7/dist-packages/sklearn/linear_model/_coordinate_descent.py:476: ConvergenceWarning: Objective did not converge. You might want to increase the number of iterations. Duality gap: 109547.9200684363, tolerance: 4494.4464272\n",
            "  positive)\n"
          ]
        },
        {
          "output_type": "stream",
          "name": "stdout",
          "text": [
            "[CV]  model__alpha=2.4000000000000004, score=-1068791.914, total=   0.1s\n",
            "[CV] model__alpha=2.4000000000000004 .................................\n",
            "[CV]  model__alpha=2.4000000000000004, score=-937144.066, total=   0.1s\n",
            "[CV] model__alpha=2.5000000000000004 .................................\n",
            "[CV]  model__alpha=2.5000000000000004, score=-4142714.352, total=   0.1s\n",
            "[CV] model__alpha=2.5000000000000004 .................................\n",
            "[CV]  model__alpha=2.5000000000000004, score=-1387907.056, total=   0.1s\n",
            "[CV] model__alpha=2.5000000000000004 .................................\n"
          ]
        },
        {
          "output_type": "stream",
          "name": "stderr",
          "text": [
            "/usr/local/lib/python3.7/dist-packages/sklearn/linear_model/_coordinate_descent.py:476: ConvergenceWarning: Objective did not converge. You might want to increase the number of iterations. Duality gap: 20262.053847324103, tolerance: 4545.2030112\n",
            "  positive)\n",
            "/usr/local/lib/python3.7/dist-packages/sklearn/linear_model/_coordinate_descent.py:476: ConvergenceWarning: Objective did not converge. You might want to increase the number of iterations. Duality gap: 70370.03003157303, tolerance: 4930.625720000001\n",
            "  positive)\n",
            "/usr/local/lib/python3.7/dist-packages/sklearn/linear_model/_coordinate_descent.py:476: ConvergenceWarning: Objective did not converge. You might want to increase the number of iterations. Duality gap: 5561.347387214191, tolerance: 4269.2907392\n",
            "  positive)\n",
            "/usr/local/lib/python3.7/dist-packages/sklearn/linear_model/_coordinate_descent.py:476: ConvergenceWarning: Objective did not converge. You might want to increase the number of iterations. Duality gap: 17143.572497297544, tolerance: 4371.369048387098\n",
            "  positive)\n"
          ]
        },
        {
          "output_type": "stream",
          "name": "stdout",
          "text": [
            "[CV]  model__alpha=2.5000000000000004, score=-1190882.230, total=   0.1s\n",
            "[CV] model__alpha=2.5000000000000004 .................................\n",
            "[CV]  model__alpha=2.5000000000000004, score=-1060526.151, total=   0.1s\n",
            "[CV] model__alpha=2.5000000000000004 .................................\n",
            "[CV]  model__alpha=2.5000000000000004, score=-928007.063, total=   0.1s\n",
            "[CV] model__alpha=2.6 ................................................\n",
            "[CV] ............. model__alpha=2.6, score=-5032953.788, total=   0.1s\n",
            "[CV] model__alpha=2.6 ................................................\n"
          ]
        },
        {
          "output_type": "stream",
          "name": "stderr",
          "text": [
            "/usr/local/lib/python3.7/dist-packages/sklearn/linear_model/_coordinate_descent.py:476: ConvergenceWarning: Objective did not converge. You might want to increase the number of iterations. Duality gap: 123502.90487557836, tolerance: 4494.4464272\n",
            "  positive)\n",
            "/usr/local/lib/python3.7/dist-packages/sklearn/linear_model/_coordinate_descent.py:476: ConvergenceWarning: Objective did not converge. You might want to increase the number of iterations. Duality gap: 8674.561126993038, tolerance: 4545.2030112\n",
            "  positive)\n",
            "/usr/local/lib/python3.7/dist-packages/sklearn/linear_model/_coordinate_descent.py:476: ConvergenceWarning: Objective did not converge. You might want to increase the number of iterations. Duality gap: 52847.78045572247, tolerance: 4930.625720000001\n",
            "  positive)\n"
          ]
        },
        {
          "output_type": "stream",
          "name": "stdout",
          "text": [
            "[CV] ............. model__alpha=2.6, score=-1348858.928, total=   0.1s\n",
            "[CV] model__alpha=2.6 ................................................\n",
            "[CV] ............. model__alpha=2.6, score=-1170534.071, total=   0.1s\n",
            "[CV] model__alpha=2.6 ................................................\n",
            "[CV] ............. model__alpha=2.6, score=-1059042.764, total=   0.1s\n",
            "[CV] model__alpha=2.6 ................................................\n",
            "[CV] .............. model__alpha=2.6, score=-918121.562, total=   0.1s\n",
            "[CV] model__alpha=2.7 ................................................\n",
            "[CV] ............. model__alpha=2.7, score=-5973459.144, total=   0.1s\n",
            "[CV] model__alpha=2.7 ................................................\n",
            "[CV] ............. model__alpha=2.7, score=-1310195.574, total=   0.1s\n",
            "[CV] model__alpha=2.7 ................................................\n",
            "[CV] ............. model__alpha=2.7, score=-1149262.280, total=   0.1s\n",
            "[CV] model__alpha=2.7 ................................................\n"
          ]
        },
        {
          "output_type": "stream",
          "name": "stderr",
          "text": [
            "/usr/local/lib/python3.7/dist-packages/sklearn/linear_model/_coordinate_descent.py:476: ConvergenceWarning: Objective did not converge. You might want to increase the number of iterations. Duality gap: 17965.86219146382, tolerance: 4371.369048387098\n",
            "  positive)\n",
            "/usr/local/lib/python3.7/dist-packages/sklearn/linear_model/_coordinate_descent.py:476: ConvergenceWarning: Objective did not converge. You might want to increase the number of iterations. Duality gap: 137126.94469608134, tolerance: 4494.4464272\n",
            "  positive)\n",
            "/usr/local/lib/python3.7/dist-packages/sklearn/linear_model/_coordinate_descent.py:476: ConvergenceWarning: Objective did not converge. You might want to increase the number of iterations. Duality gap: 40982.8437822219, tolerance: 4930.625720000001\n",
            "  positive)\n"
          ]
        },
        {
          "output_type": "stream",
          "name": "stdout",
          "text": [
            "[CV] ............. model__alpha=2.7, score=-1057059.620, total=   0.1s\n",
            "[CV] model__alpha=2.7 ................................................\n",
            "[CV] .............. model__alpha=2.7, score=-910579.892, total=   0.0s\n",
            "[CV] model__alpha=2.8000000000000003 .................................\n",
            "[CV]  model__alpha=2.8000000000000003, score=-6895066.151, total=   0.1s\n",
            "[CV] model__alpha=2.8000000000000003 .................................\n",
            "[CV]  model__alpha=2.8000000000000003, score=-1273996.106, total=   0.1s\n",
            "[CV] model__alpha=2.8000000000000003 .................................\n"
          ]
        },
        {
          "output_type": "stream",
          "name": "stderr",
          "text": [
            "/usr/local/lib/python3.7/dist-packages/sklearn/linear_model/_coordinate_descent.py:476: ConvergenceWarning: Objective did not converge. You might want to increase the number of iterations. Duality gap: 15720.503644399345, tolerance: 4371.369048387098\n",
            "  positive)\n",
            "/usr/local/lib/python3.7/dist-packages/sklearn/linear_model/_coordinate_descent.py:476: ConvergenceWarning: Objective did not converge. You might want to increase the number of iterations. Duality gap: 145938.62107108813, tolerance: 4494.4464272\n",
            "  positive)\n",
            "/usr/local/lib/python3.7/dist-packages/sklearn/linear_model/_coordinate_descent.py:476: ConvergenceWarning: Objective did not converge. You might want to increase the number of iterations. Duality gap: 39624.14538899902, tolerance: 4930.625720000001\n",
            "  positive)\n"
          ]
        },
        {
          "output_type": "stream",
          "name": "stdout",
          "text": [
            "[CV]  model__alpha=2.8000000000000003, score=-1134589.789, total=   0.1s\n",
            "[CV] model__alpha=2.8000000000000003 .................................\n",
            "[CV]  model__alpha=2.8000000000000003, score=-1050066.807, total=   0.1s\n",
            "[CV] model__alpha=2.8000000000000003 .................................\n",
            "[CV]  model__alpha=2.8000000000000003, score=-903700.592, total=   0.0s\n",
            "[CV] model__alpha=2.9000000000000004 .................................\n",
            "[CV]  model__alpha=2.9000000000000004, score=-7709001.129, total=   0.1s\n",
            "[CV] model__alpha=2.9000000000000004 .................................\n"
          ]
        },
        {
          "output_type": "stream",
          "name": "stderr",
          "text": [
            "/usr/local/lib/python3.7/dist-packages/sklearn/linear_model/_coordinate_descent.py:476: ConvergenceWarning: Objective did not converge. You might want to increase the number of iterations. Duality gap: 13390.451839700341, tolerance: 4371.369048387098\n",
            "  positive)\n",
            "/usr/local/lib/python3.7/dist-packages/sklearn/linear_model/_coordinate_descent.py:476: ConvergenceWarning: Objective did not converge. You might want to increase the number of iterations. Duality gap: 161126.52782867104, tolerance: 4494.4464272\n",
            "  positive)\n"
          ]
        },
        {
          "output_type": "stream",
          "name": "stdout",
          "text": [
            "[CV]  model__alpha=2.9000000000000004, score=-1243003.660, total=   0.1s\n",
            "[CV] model__alpha=2.9000000000000004 .................................\n",
            "[CV]  model__alpha=2.9000000000000004, score=-1119018.954, total=   0.1s\n",
            "[CV] model__alpha=2.9000000000000004 .................................\n",
            "[CV]  model__alpha=2.9000000000000004, score=-1038491.415, total=   0.1s\n",
            "[CV] model__alpha=2.9000000000000004 .................................\n",
            "[CV]  model__alpha=2.9000000000000004, score=-897178.090, total=   0.0s\n",
            "[CV] model__alpha=3.0000000000000004 .................................\n"
          ]
        },
        {
          "output_type": "stream",
          "name": "stderr",
          "text": [
            "/usr/local/lib/python3.7/dist-packages/sklearn/linear_model/_coordinate_descent.py:476: ConvergenceWarning: Objective did not converge. You might want to increase the number of iterations. Duality gap: 35231.676714994945, tolerance: 4930.625720000001\n",
            "  positive)\n",
            "/usr/local/lib/python3.7/dist-packages/sklearn/linear_model/_coordinate_descent.py:476: ConvergenceWarning: Objective did not converge. You might want to increase the number of iterations. Duality gap: 13528.267431956716, tolerance: 4371.369048387098\n",
            "  positive)\n",
            "/usr/local/lib/python3.7/dist-packages/sklearn/linear_model/_coordinate_descent.py:476: ConvergenceWarning: Objective did not converge. You might want to increase the number of iterations. Duality gap: 191001.53660131432, tolerance: 4494.4464272\n",
            "  positive)\n"
          ]
        },
        {
          "output_type": "stream",
          "name": "stdout",
          "text": [
            "[CV]  model__alpha=3.0000000000000004, score=-8672861.306, total=   0.1s\n",
            "[CV] model__alpha=3.0000000000000004 .................................\n",
            "[CV]  model__alpha=3.0000000000000004, score=-1214998.852, total=   0.1s\n",
            "[CV] model__alpha=3.0000000000000004 .................................\n",
            "[CV]  model__alpha=3.0000000000000004, score=-1104035.705, total=   0.0s\n",
            "[CV] model__alpha=3.0000000000000004 .................................\n",
            "[CV]  model__alpha=3.0000000000000004, score=-1020238.868, total=   0.1s\n",
            "[CV] model__alpha=3.0000000000000004 .................................\n"
          ]
        },
        {
          "output_type": "stream",
          "name": "stderr",
          "text": [
            "/usr/local/lib/python3.7/dist-packages/sklearn/linear_model/_coordinate_descent.py:476: ConvergenceWarning: Objective did not converge. You might want to increase the number of iterations. Duality gap: 32141.89780256804, tolerance: 4930.625720000001\n",
            "  positive)\n",
            "/usr/local/lib/python3.7/dist-packages/sklearn/linear_model/_coordinate_descent.py:476: ConvergenceWarning: Objective did not converge. You might want to increase the number of iterations. Duality gap: 13170.528063811362, tolerance: 4371.369048387098\n",
            "  positive)\n",
            "/usr/local/lib/python3.7/dist-packages/sklearn/linear_model/_coordinate_descent.py:476: ConvergenceWarning: Objective did not converge. You might want to increase the number of iterations. Duality gap: 154249.50909768417, tolerance: 4494.4464272\n",
            "  positive)\n"
          ]
        },
        {
          "output_type": "stream",
          "name": "stdout",
          "text": [
            "[CV]  model__alpha=3.0000000000000004, score=-892331.841, total=   0.1s\n",
            "[CV] model__alpha=3.1 ................................................\n",
            "[CV] ............. model__alpha=3.1, score=-9560470.994, total=   0.1s\n",
            "[CV] model__alpha=3.1 ................................................\n",
            "[CV] ............. model__alpha=3.1, score=-1184593.232, total=   0.1s\n",
            "[CV] model__alpha=3.1 ................................................\n",
            "[CV] ............. model__alpha=3.1, score=-1090500.864, total=   0.0s\n",
            "[CV] model__alpha=3.1 ................................................\n"
          ]
        },
        {
          "output_type": "stream",
          "name": "stderr",
          "text": [
            "/usr/local/lib/python3.7/dist-packages/sklearn/linear_model/_coordinate_descent.py:476: ConvergenceWarning: Objective did not converge. You might want to increase the number of iterations. Duality gap: 25626.45175893046, tolerance: 4930.625720000001\n",
            "  positive)\n",
            "/usr/local/lib/python3.7/dist-packages/sklearn/linear_model/_coordinate_descent.py:476: ConvergenceWarning: Objective did not converge. You might want to increase the number of iterations. Duality gap: 15233.453527774662, tolerance: 4371.369048387098\n",
            "  positive)\n",
            "/usr/local/lib/python3.7/dist-packages/sklearn/linear_model/_coordinate_descent.py:476: ConvergenceWarning: Objective did not converge. You might want to increase the number of iterations. Duality gap: 119635.44274824206, tolerance: 4494.4464272\n",
            "  positive)\n"
          ]
        },
        {
          "output_type": "stream",
          "name": "stdout",
          "text": [
            "[CV] ............. model__alpha=3.1, score=-1002592.926, total=   0.1s\n",
            "[CV] model__alpha=3.1 ................................................\n",
            "[CV] .............. model__alpha=3.1, score=-888692.852, total=   0.0s\n",
            "[CV] model__alpha=3.2 ................................................\n",
            "[CV] ............ model__alpha=3.2, score=-10417797.930, total=   0.1s\n",
            "[CV] model__alpha=3.2 ................................................\n",
            "[CV] ............. model__alpha=3.2, score=-1154002.865, total=   0.1s\n",
            "[CV] model__alpha=3.2 ................................................\n",
            "[CV] ............. model__alpha=3.2, score=-1077202.393, total=   0.1s\n",
            "[CV] model__alpha=3.2 ................................................\n",
            "[CV] .............. model__alpha=3.2, score=-986430.646, total=   0.1s\n",
            "[CV] model__alpha=3.2 ................................................\n",
            "[CV] .............. model__alpha=3.2, score=-885031.413, total=   0.1s\n",
            "[CV] model__alpha=3.3000000000000003 .................................\n",
            "[CV]  model__alpha=3.3000000000000003, score=-11031164.231, total=   0.1s\n",
            "[CV] model__alpha=3.3000000000000003 .................................\n"
          ]
        },
        {
          "output_type": "stream",
          "name": "stderr",
          "text": [
            "/usr/local/lib/python3.7/dist-packages/sklearn/linear_model/_coordinate_descent.py:476: ConvergenceWarning: Objective did not converge. You might want to increase the number of iterations. Duality gap: 11775.772694767453, tolerance: 4930.625720000001\n",
            "  positive)\n",
            "/usr/local/lib/python3.7/dist-packages/sklearn/linear_model/_coordinate_descent.py:476: ConvergenceWarning: Objective did not converge. You might want to increase the number of iterations. Duality gap: 17216.886427710764, tolerance: 4371.369048387098\n",
            "  positive)\n"
          ]
        },
        {
          "output_type": "stream",
          "name": "stdout",
          "text": [
            "[CV]  model__alpha=3.3000000000000003, score=-1123567.610, total=   0.1s\n",
            "[CV] model__alpha=3.3000000000000003 .................................\n",
            "[CV]  model__alpha=3.3000000000000003, score=-1064536.984, total=   0.1s\n",
            "[CV] model__alpha=3.3000000000000003 .................................\n"
          ]
        },
        {
          "output_type": "stream",
          "name": "stderr",
          "text": [
            "/usr/local/lib/python3.7/dist-packages/sklearn/linear_model/_coordinate_descent.py:476: ConvergenceWarning: Objective did not converge. You might want to increase the number of iterations. Duality gap: 104511.21025283262, tolerance: 4494.4464272\n",
            "  positive)\n",
            "/usr/local/lib/python3.7/dist-packages/sklearn/linear_model/_coordinate_descent.py:476: ConvergenceWarning: Objective did not converge. You might want to increase the number of iterations. Duality gap: 8676.769508467056, tolerance: 4930.625720000001\n",
            "  positive)\n"
          ]
        },
        {
          "output_type": "stream",
          "name": "stdout",
          "text": [
            "[CV]  model__alpha=3.3000000000000003, score=-969502.897, total=   0.1s\n",
            "[CV] model__alpha=3.3000000000000003 .................................\n",
            "[CV]  model__alpha=3.3000000000000003, score=-878747.740, total=   0.1s\n",
            "[CV] model__alpha=3.4000000000000004 .................................\n",
            "[CV]  model__alpha=3.4000000000000004, score=-11521852.495, total=   0.1s\n",
            "[CV] model__alpha=3.4000000000000004 .................................\n",
            "[CV]  model__alpha=3.4000000000000004, score=-1090783.538, total=   0.1s\n",
            "[CV] model__alpha=3.4000000000000004 .................................\n"
          ]
        },
        {
          "output_type": "stream",
          "name": "stderr",
          "text": [
            "/usr/local/lib/python3.7/dist-packages/sklearn/linear_model/_coordinate_descent.py:476: ConvergenceWarning: Objective did not converge. You might want to increase the number of iterations. Duality gap: 18614.094630811363, tolerance: 4371.369048387098\n",
            "  positive)\n",
            "/usr/local/lib/python3.7/dist-packages/sklearn/linear_model/_coordinate_descent.py:476: ConvergenceWarning: Objective did not converge. You might want to increase the number of iterations. Duality gap: 15508.37137630023, tolerance: 4494.4464272\n",
            "  positive)\n",
            "/usr/local/lib/python3.7/dist-packages/sklearn/linear_model/_coordinate_descent.py:476: ConvergenceWarning: Objective did not converge. You might want to increase the number of iterations. Duality gap: 6625.3818885255605, tolerance: 4930.625720000001\n",
            "  positive)\n"
          ]
        },
        {
          "output_type": "stream",
          "name": "stdout",
          "text": [
            "[CV]  model__alpha=3.4000000000000004, score=-1052859.454, total=   0.1s\n",
            "[CV] model__alpha=3.4000000000000004 .................................\n",
            "[CV]  model__alpha=3.4000000000000004, score=-950076.033, total=   0.1s\n",
            "[CV] model__alpha=3.4000000000000004 .................................\n",
            "[CV]  model__alpha=3.4000000000000004, score=-873653.437, total=   0.1s\n",
            "[CV] model__alpha=3.5000000000000004 .................................\n",
            "[CV]  model__alpha=3.5000000000000004, score=-11173161.619, total=   0.1s\n",
            "[CV] model__alpha=3.5000000000000004 .................................\n"
          ]
        },
        {
          "output_type": "stream",
          "name": "stderr",
          "text": [
            "/usr/local/lib/python3.7/dist-packages/sklearn/linear_model/_coordinate_descent.py:476: ConvergenceWarning: Objective did not converge. You might want to increase the number of iterations. Duality gap: 18794.948992586695, tolerance: 4371.369048387098\n",
            "  positive)\n",
            "/usr/local/lib/python3.7/dist-packages/sklearn/linear_model/_coordinate_descent.py:476: ConvergenceWarning: Objective did not converge. You might want to increase the number of iterations. Duality gap: 4559.035692966543, tolerance: 4494.4464272\n",
            "  positive)\n",
            "/usr/local/lib/python3.7/dist-packages/sklearn/linear_model/_coordinate_descent.py:476: ConvergenceWarning: Objective did not converge. You might want to increase the number of iterations. Duality gap: 6306.447994444519, tolerance: 4930.625720000001\n",
            "  positive)\n"
          ]
        },
        {
          "output_type": "stream",
          "name": "stdout",
          "text": [
            "[CV]  model__alpha=3.5000000000000004, score=-1063869.927, total=   0.1s\n",
            "[CV] model__alpha=3.5000000000000004 .................................\n",
            "[CV]  model__alpha=3.5000000000000004, score=-1040147.885, total=   0.0s\n",
            "[CV] model__alpha=3.5000000000000004 .................................\n",
            "[CV]  model__alpha=3.5000000000000004, score=-930508.494, total=   0.1s\n",
            "[CV] model__alpha=3.5000000000000004 .................................\n",
            "[CV]  model__alpha=3.5000000000000004, score=-869573.099, total=   0.1s\n",
            "[CV] model__alpha=3.6 ................................................\n"
          ]
        },
        {
          "output_type": "stream",
          "name": "stderr",
          "text": [
            "/usr/local/lib/python3.7/dist-packages/sklearn/linear_model/_coordinate_descent.py:476: ConvergenceWarning: Objective did not converge. You might want to increase the number of iterations. Duality gap: 16871.356650942937, tolerance: 4371.369048387098\n",
            "  positive)\n"
          ]
        },
        {
          "output_type": "stream",
          "name": "stdout",
          "text": [
            "[CV] ............ model__alpha=3.6, score=-10576533.708, total=   0.1s\n",
            "[CV] model__alpha=3.6 ................................................\n",
            "[CV] ............. model__alpha=3.6, score=-1041487.135, total=   0.1s\n",
            "[CV] model__alpha=3.6 ................................................\n",
            "[CV] ............. model__alpha=3.6, score=-1030383.702, total=   0.0s\n",
            "[CV] model__alpha=3.6 ................................................\n",
            "[CV] .............. model__alpha=3.6, score=-909958.556, total=   0.1s\n",
            "[CV] model__alpha=3.6 ................................................\n",
            "[CV] .............. model__alpha=3.6, score=-865612.511, total=   0.1s\n",
            "[CV] model__alpha=3.7 ................................................\n",
            "[CV] ............. model__alpha=3.7, score=-9646538.301, total=   0.1s\n",
            "[CV] model__alpha=3.7 ................................................\n",
            "[CV] ............. model__alpha=3.7, score=-1022032.448, total=   0.0s\n",
            "[CV] model__alpha=3.7 ................................................\n",
            "[CV] ............. model__alpha=3.7, score=-1021687.216, total=   0.0s\n",
            "[CV] model__alpha=3.7 ................................................\n"
          ]
        },
        {
          "output_type": "stream",
          "name": "stderr",
          "text": [
            "/usr/local/lib/python3.7/dist-packages/sklearn/linear_model/_coordinate_descent.py:476: ConvergenceWarning: Objective did not converge. You might want to increase the number of iterations. Duality gap: 19069.766958454624, tolerance: 4371.369048387098\n",
            "  positive)\n"
          ]
        },
        {
          "output_type": "stream",
          "name": "stdout",
          "text": [
            "[CV] .............. model__alpha=3.7, score=-890108.583, total=   0.1s\n",
            "[CV] model__alpha=3.7 ................................................\n",
            "[CV] .............. model__alpha=3.7, score=-861729.479, total=   0.1s\n",
            "[CV] model__alpha=3.8000000000000003 .................................\n",
            "[CV]  model__alpha=3.8000000000000003, score=-8952789.328, total=   0.1s\n",
            "[CV] model__alpha=3.8000000000000003 .................................\n",
            "[CV]  model__alpha=3.8000000000000003, score=-1002834.929, total=   0.1s\n",
            "[CV] model__alpha=3.8000000000000003 .................................\n"
          ]
        },
        {
          "output_type": "stream",
          "name": "stderr",
          "text": [
            "/usr/local/lib/python3.7/dist-packages/sklearn/linear_model/_coordinate_descent.py:476: ConvergenceWarning: Objective did not converge. You might want to increase the number of iterations. Duality gap: 20291.00999371521, tolerance: 4371.369048387098\n",
            "  positive)\n"
          ]
        },
        {
          "output_type": "stream",
          "name": "stdout",
          "text": [
            "[CV]  model__alpha=3.8000000000000003, score=-1012933.513, total=   0.1s\n",
            "[CV] model__alpha=3.8000000000000003 .................................\n",
            "[CV]  model__alpha=3.8000000000000003, score=-870839.408, total=   0.1s\n",
            "[CV] model__alpha=3.8000000000000003 .................................\n",
            "[CV]  model__alpha=3.8000000000000003, score=-857343.869, total=   0.0s\n",
            "[CV] model__alpha=3.9000000000000004 .................................\n",
            "[CV]  model__alpha=3.9000000000000004, score=-8469646.703, total=   0.1s\n",
            "[CV] model__alpha=3.9000000000000004 ................................."
          ]
        },
        {
          "output_type": "stream",
          "name": "stderr",
          "text": [
            "/usr/local/lib/python3.7/dist-packages/sklearn/linear_model/_coordinate_descent.py:476: ConvergenceWarning: Objective did not converge. You might want to increase the number of iterations. Duality gap: 21315.293819326907, tolerance: 4371.369048387098\n",
            "  positive)\n"
          ]
        },
        {
          "output_type": "stream",
          "name": "stdout",
          "text": [
            "\n",
            "[CV]  model__alpha=3.9000000000000004, score=-984123.154, total=   0.1s\n",
            "[CV] model__alpha=3.9000000000000004 .................................\n",
            "[CV]  model__alpha=3.9000000000000004, score=-1003605.344, total=   0.0s\n",
            "[CV] model__alpha=3.9000000000000004 .................................\n",
            "[CV]  model__alpha=3.9000000000000004, score=-850574.332, total=   0.1s\n",
            "[CV] model__alpha=3.9000000000000004 .................................\n",
            "[CV]  model__alpha=3.9000000000000004, score=-853576.380, total=   0.1s\n",
            "[CV] model__alpha=4.0 ................................................\n",
            "[CV] ............. model__alpha=4.0, score=-8104980.953, total=   0.1s\n",
            "[CV] model__alpha=4.0 ................................................\n",
            "[CV] .............. model__alpha=4.0, score=-966591.829, total=   0.1s\n",
            "[CV] model__alpha=4.0 ................................................\n",
            "[CV] .............. model__alpha=4.0, score=-993272.339, total=   0.0s\n",
            "[CV] model__alpha=4.0 ................................................\n"
          ]
        },
        {
          "output_type": "stream",
          "name": "stderr",
          "text": [
            "/usr/local/lib/python3.7/dist-packages/sklearn/linear_model/_coordinate_descent.py:476: ConvergenceWarning: Objective did not converge. You might want to increase the number of iterations. Duality gap: 24353.711338686757, tolerance: 4371.369048387098\n",
            "  positive)\n"
          ]
        },
        {
          "output_type": "stream",
          "name": "stdout",
          "text": [
            "[CV] .............. model__alpha=4.0, score=-829344.874, total=   0.1s\n",
            "[CV] model__alpha=4.0 ................................................\n",
            "[CV] .............. model__alpha=4.0, score=-849797.017, total=   0.0s\n",
            "[CV] model__alpha=4.1 ................................................\n",
            "[CV] ............. model__alpha=4.1, score=-7651177.875, total=   0.1s\n",
            "[CV] model__alpha=4.1 ................................................\n",
            "[CV] .............. model__alpha=4.1, score=-949006.478, total=   0.1s\n",
            "[CV] model__alpha=4.1 ................................................\n",
            "[CV] .............. model__alpha=4.1, score=-982674.371, total=   0.0s\n",
            "[CV] model__alpha=4.1 ................................................\n"
          ]
        },
        {
          "output_type": "stream",
          "name": "stderr",
          "text": [
            "/usr/local/lib/python3.7/dist-packages/sklearn/linear_model/_coordinate_descent.py:476: ConvergenceWarning: Objective did not converge. You might want to increase the number of iterations. Duality gap: 23640.174041480757, tolerance: 4371.369048387098\n",
            "  positive)\n"
          ]
        },
        {
          "output_type": "stream",
          "name": "stdout",
          "text": [
            "[CV] .............. model__alpha=4.1, score=-810017.143, total=   0.1s\n",
            "[CV] model__alpha=4.1 ................................................\n",
            "[CV] .............. model__alpha=4.1, score=-846052.439, total=   0.0s\n",
            "[CV] model__alpha=4.2 ................................................\n",
            "[CV] ............. model__alpha=4.2, score=-7288814.762, total=   0.1s\n",
            "[CV] model__alpha=4.2 ................................................\n",
            "[CV] .............. model__alpha=4.2, score=-930232.165, total=   0.1s\n",
            "[CV] model__alpha=4.2 ................................................\n",
            "[CV] .............. model__alpha=4.2, score=-972267.756, total=   0.0s\n",
            "[CV] model__alpha=4.2 ................................................\n"
          ]
        },
        {
          "output_type": "stream",
          "name": "stderr",
          "text": [
            "/usr/local/lib/python3.7/dist-packages/sklearn/linear_model/_coordinate_descent.py:476: ConvergenceWarning: Objective did not converge. You might want to increase the number of iterations. Duality gap: 24468.214203003794, tolerance: 4371.369048387098\n",
            "  positive)\n"
          ]
        },
        {
          "output_type": "stream",
          "name": "stdout",
          "text": [
            "[CV] .............. model__alpha=4.2, score=-791582.901, total=   0.1s\n",
            "[CV] model__alpha=4.2 ................................................\n",
            "[CV] .............. model__alpha=4.2, score=-842555.206, total=   0.0s\n",
            "[CV] model__alpha=4.3 ................................................\n",
            "[CV] ............. model__alpha=4.3, score=-6973608.520, total=   0.1s\n",
            "[CV] model__alpha=4.3 ................................................\n",
            "[CV] .............. model__alpha=4.3, score=-913735.069, total=   0.1s\n",
            "[CV] model__alpha=4.3 ................................................\n",
            "[CV] .............. model__alpha=4.3, score=-962121.018, total=   0.0s\n",
            "[CV] model__alpha=4.3 ................................................\n"
          ]
        },
        {
          "output_type": "stream",
          "name": "stderr",
          "text": [
            "/usr/local/lib/python3.7/dist-packages/sklearn/linear_model/_coordinate_descent.py:476: ConvergenceWarning: Objective did not converge. You might want to increase the number of iterations. Duality gap: 25124.371621663682, tolerance: 4371.369048387098\n",
            "  positive)\n"
          ]
        },
        {
          "output_type": "stream",
          "name": "stdout",
          "text": [
            "[CV] .............. model__alpha=4.3, score=-773800.333, total=   0.1s\n",
            "[CV] model__alpha=4.3 ................................................\n",
            "[CV] .............. model__alpha=4.3, score=-838431.251, total=   0.0s\n",
            "[CV] model__alpha=4.3999999999999995 .................................\n",
            "[CV]  model__alpha=4.3999999999999995, score=-6672229.231, total=   0.1s\n",
            "[CV] model__alpha=4.3999999999999995 .................................\n",
            "[CV]  model__alpha=4.3999999999999995, score=-900931.056, total=   0.1s\n",
            "[CV] model__alpha=4.3999999999999995 .................................\n",
            "[CV]  model__alpha=4.3999999999999995, score=-953126.740, total=   0.0s\n",
            "[CV] model__alpha=4.3999999999999995 .................................\n"
          ]
        },
        {
          "output_type": "stream",
          "name": "stderr",
          "text": [
            "/usr/local/lib/python3.7/dist-packages/sklearn/linear_model/_coordinate_descent.py:476: ConvergenceWarning: Objective did not converge. You might want to increase the number of iterations. Duality gap: 29182.274543930776, tolerance: 4371.369048387098\n",
            "  positive)\n"
          ]
        },
        {
          "output_type": "stream",
          "name": "stdout",
          "text": [
            "[CV]  model__alpha=4.3999999999999995, score=-755497.199, total=   0.1s\n",
            "[CV] model__alpha=4.3999999999999995 .................................\n",
            "[CV]  model__alpha=4.3999999999999995, score=-834474.927, total=   0.0s\n",
            "[CV] model__alpha=4.5 ................................................\n",
            "[CV] ............. model__alpha=4.5, score=-6341804.120, total=   0.1s\n",
            "[CV] model__alpha=4.5 ................................................\n",
            "[CV] .............. model__alpha=4.5, score=-888242.840, total=   0.1s\n",
            "[CV] model__alpha=4.5 ................................................\n",
            "[CV] .............. model__alpha=4.5, score=-944898.595, total=   0.0s\n",
            "[CV] model__alpha=4.5 ................................................\n"
          ]
        },
        {
          "output_type": "stream",
          "name": "stderr",
          "text": [
            "/usr/local/lib/python3.7/dist-packages/sklearn/linear_model/_coordinate_descent.py:476: ConvergenceWarning: Objective did not converge. You might want to increase the number of iterations. Duality gap: 31426.084863658994, tolerance: 4371.369048387098\n",
            "  positive)\n"
          ]
        },
        {
          "output_type": "stream",
          "name": "stdout",
          "text": [
            "[CV] .............. model__alpha=4.5, score=-738094.197, total=   0.1s\n",
            "[CV] model__alpha=4.5 ................................................\n",
            "[CV] .............. model__alpha=4.5, score=-829359.079, total=   0.0s\n",
            "[CV] model__alpha=4.6 ................................................\n",
            "[CV] ............. model__alpha=4.6, score=-6006381.693, total=   0.1s\n",
            "[CV] model__alpha=4.6 ................................................\n",
            "[CV] .............. model__alpha=4.6, score=-875623.233, total=   0.1s\n",
            "[CV] model__alpha=4.6 ................................................\n",
            "[CV] .............. model__alpha=4.6, score=-936866.305, total=   0.0s\n",
            "[CV] model__alpha=4.6 ................................................\n"
          ]
        },
        {
          "output_type": "stream",
          "name": "stderr",
          "text": [
            "/usr/local/lib/python3.7/dist-packages/sklearn/linear_model/_coordinate_descent.py:476: ConvergenceWarning: Objective did not converge. You might want to increase the number of iterations. Duality gap: 33119.95692194812, tolerance: 4371.369048387098\n",
            "  positive)\n"
          ]
        },
        {
          "output_type": "stream",
          "name": "stdout",
          "text": [
            "[CV] .............. model__alpha=4.6, score=-723938.613, total=   0.1s\n",
            "[CV] model__alpha=4.6 ................................................\n",
            "[CV] .............. model__alpha=4.6, score=-823876.267, total=   0.0s\n",
            "[CV] model__alpha=4.7 ................................................\n",
            "[CV] ............. model__alpha=4.7, score=-5542684.004, total=   0.1s\n",
            "[CV] model__alpha=4.7 ................................................\n",
            "[CV] .............. model__alpha=4.7, score=-862676.853, total=   0.1s\n",
            "[CV] model__alpha=4.7 ................................................\n",
            "[CV] .............. model__alpha=4.7, score=-928685.134, total=   0.0s\n",
            "[CV] model__alpha=4.7 ................................................\n"
          ]
        },
        {
          "output_type": "stream",
          "name": "stderr",
          "text": [
            "/usr/local/lib/python3.7/dist-packages/sklearn/linear_model/_coordinate_descent.py:476: ConvergenceWarning: Objective did not converge. You might want to increase the number of iterations. Duality gap: 27052.938521377742, tolerance: 4371.369048387098\n",
            "  positive)\n"
          ]
        },
        {
          "output_type": "stream",
          "name": "stdout",
          "text": [
            "[CV] .............. model__alpha=4.7, score=-712650.551, total=   0.0s\n",
            "[CV] model__alpha=4.7 ................................................\n",
            "[CV] .............. model__alpha=4.7, score=-818776.276, total=   0.0s\n",
            "[CV] model__alpha=4.8 ................................................\n",
            "[CV] ............. model__alpha=4.8, score=-4983951.054, total=   0.1s\n",
            "[CV] model__alpha=4.8 ................................................\n",
            "[CV] .............. model__alpha=4.8, score=-849321.749, total=   0.0s\n",
            "[CV] model__alpha=4.8 ................................................\n",
            "[CV] .............. model__alpha=4.8, score=-920533.234, total=   0.0s\n",
            "[CV] model__alpha=4.8 ................................................\n"
          ]
        },
        {
          "output_type": "stream",
          "name": "stderr",
          "text": [
            "/usr/local/lib/python3.7/dist-packages/sklearn/linear_model/_coordinate_descent.py:476: ConvergenceWarning: Objective did not converge. You might want to increase the number of iterations. Duality gap: 14206.317287739366, tolerance: 4371.369048387098\n",
            "  positive)\n"
          ]
        },
        {
          "output_type": "stream",
          "name": "stdout",
          "text": [
            "[CV] .............. model__alpha=4.8, score=-700688.720, total=   0.1s\n",
            "[CV] model__alpha=4.8 ................................................\n",
            "[CV] .............. model__alpha=4.8, score=-813686.707, total=   0.0s\n",
            "[CV] model__alpha=4.9 ................................................\n",
            "[CV] ............. model__alpha=4.9, score=-4544822.038, total=   0.1s\n",
            "[CV] model__alpha=4.9 ................................................\n",
            "[CV] .............. model__alpha=4.9, score=-835788.057, total=   0.0s\n",
            "[CV] model__alpha=4.9 ................................................\n",
            "[CV] .............. model__alpha=4.9, score=-911853.018, total=   0.0s\n",
            "[CV] model__alpha=4.9 ................................................\n"
          ]
        },
        {
          "output_type": "stream",
          "name": "stderr",
          "text": [
            "/usr/local/lib/python3.7/dist-packages/sklearn/linear_model/_coordinate_descent.py:476: ConvergenceWarning: Objective did not converge. You might want to increase the number of iterations. Duality gap: 11132.147366499528, tolerance: 4371.369048387098\n",
            "  positive)\n"
          ]
        },
        {
          "output_type": "stream",
          "name": "stdout",
          "text": [
            "[CV] .............. model__alpha=4.9, score=-685513.008, total=   0.1s\n",
            "[CV] model__alpha=4.9 ................................................\n",
            "[CV] .............. model__alpha=4.9, score=-808177.487, total=   0.0s\n",
            "[CV] model__alpha=5.0 ................................................\n",
            "[CV] ............. model__alpha=5.0, score=-4091382.620, total=   0.1s\n",
            "[CV] model__alpha=5.0 ................................................\n",
            "[CV] .............. model__alpha=5.0, score=-822574.189, total=   0.1s\n",
            "[CV] model__alpha=5.0 ................................................\n"
          ]
        },
        {
          "output_type": "stream",
          "name": "stderr",
          "text": [
            "/usr/local/lib/python3.7/dist-packages/sklearn/linear_model/_coordinate_descent.py:476: ConvergenceWarning: Objective did not converge. You might want to increase the number of iterations. Duality gap: 12980.218328296207, tolerance: 4371.369048387098\n",
            "  positive)\n"
          ]
        },
        {
          "output_type": "stream",
          "name": "stdout",
          "text": [
            "[CV] .............. model__alpha=5.0, score=-902584.452, total=   0.1s\n",
            "[CV] model__alpha=5.0 ................................................\n",
            "[CV] .............. model__alpha=5.0, score=-674912.722, total=   0.0s\n",
            "[CV] model__alpha=5.0 ................................................\n",
            "[CV] .............. model__alpha=5.0, score=-802722.920, total=   0.0s\n",
            "[CV] model__alpha=5.1 ................................................\n",
            "[CV] ............. model__alpha=5.1, score=-3656973.083, total=   0.1s\n",
            "[CV] model__alpha=5.1 ................................................\n"
          ]
        },
        {
          "output_type": "stream",
          "name": "stderr",
          "text": [
            "/usr/local/lib/python3.7/dist-packages/sklearn/linear_model/_coordinate_descent.py:476: ConvergenceWarning: Objective did not converge. You might want to increase the number of iterations. Duality gap: 14873.447264028713, tolerance: 4371.369048387098\n",
            "  positive)\n"
          ]
        },
        {
          "output_type": "stream",
          "name": "stdout",
          "text": [
            "[CV] .............. model__alpha=5.1, score=-808364.382, total=   0.1s\n",
            "[CV] model__alpha=5.1 ................................................\n",
            "[CV] .............. model__alpha=5.1, score=-892439.230, total=   0.0s\n",
            "[CV] model__alpha=5.1 ................................................\n",
            "[CV] .............. model__alpha=5.1, score=-665129.295, total=   0.0s\n",
            "[CV] model__alpha=5.1 ................................................\n",
            "[CV] .............. model__alpha=5.1, score=-797657.016, total=   0.0s\n",
            "[CV] model__alpha=5.2 ................................................\n",
            "[CV] ............. model__alpha=5.2, score=-3232161.435, total=   0.1s\n",
            "[CV] model__alpha=5.2 ................................................\n"
          ]
        },
        {
          "output_type": "stream",
          "name": "stderr",
          "text": [
            "/usr/local/lib/python3.7/dist-packages/sklearn/linear_model/_coordinate_descent.py:476: ConvergenceWarning: Objective did not converge. You might want to increase the number of iterations. Duality gap: 16368.878685699776, tolerance: 4371.369048387098\n",
            "  positive)\n"
          ]
        },
        {
          "output_type": "stream",
          "name": "stdout",
          "text": [
            "[CV] .............. model__alpha=5.2, score=-796425.530, total=   0.1s\n",
            "[CV] model__alpha=5.2 ................................................\n",
            "[CV] .............. model__alpha=5.2, score=-882267.641, total=   0.0s\n",
            "[CV] model__alpha=5.2 ................................................\n",
            "[CV] .............. model__alpha=5.2, score=-655513.434, total=   0.0s\n",
            "[CV] model__alpha=5.2 ................................................\n",
            "[CV] .............. model__alpha=5.2, score=-793046.935, total=   0.0s\n",
            "[CV] model__alpha=5.3 ................................................\n",
            "[CV] ............. model__alpha=5.3, score=-2837580.217, total=   0.1s\n",
            "[CV] model__alpha=5.3 ................................................\n"
          ]
        },
        {
          "output_type": "stream",
          "name": "stderr",
          "text": [
            "/usr/local/lib/python3.7/dist-packages/sklearn/linear_model/_coordinate_descent.py:476: ConvergenceWarning: Objective did not converge. You might want to increase the number of iterations. Duality gap: 15634.806383148767, tolerance: 4371.369048387098\n",
            "  positive)\n"
          ]
        },
        {
          "output_type": "stream",
          "name": "stdout",
          "text": [
            "[CV] .............. model__alpha=5.3, score=-785357.652, total=   0.1s\n",
            "[CV] model__alpha=5.3 ................................................\n",
            "[CV] .............. model__alpha=5.3, score=-872209.232, total=   0.0s\n",
            "[CV] model__alpha=5.3 ................................................\n",
            "[CV] .............. model__alpha=5.3, score=-646175.063, total=   0.0s\n",
            "[CV] model__alpha=5.3 ................................................\n",
            "[CV] .............. model__alpha=5.3, score=-788658.141, total=   0.0s\n",
            "[CV] model__alpha=5.4 ................................................\n",
            "[CV] ............. model__alpha=5.4, score=-2607072.342, total=   0.1s\n",
            "[CV] model__alpha=5.4 ................................................\n",
            "[CV] .............. model__alpha=5.4, score=-776666.501, total=   0.0s\n",
            "[CV] model__alpha=5.4 ................................................\n",
            "[CV] .............. model__alpha=5.4, score=-862228.349, total=   0.0s\n",
            "[CV] model__alpha=5.4 ................................................\n",
            "[CV] .............. model__alpha=5.4, score=-637297.368, total=   0.0s\n",
            "[CV] model__alpha=5.4 ................................................\n",
            "[CV] .............. model__alpha=5.4, score=-784667.172, total=   0.0s\n",
            "[CV] model__alpha=5.5 ................................................\n",
            "[CV] ............. model__alpha=5.5, score=-2456670.546, total=   0.0s\n",
            "[CV] model__alpha=5.5 ................................................\n",
            "[CV] .............. model__alpha=5.5, score=-768065.613, total=   0.0s\n",
            "[CV] model__alpha=5.5 ................................................\n",
            "[CV] .............. model__alpha=5.5, score=-852365.973, total=   0.0s\n",
            "[CV] model__alpha=5.5 ................................................\n",
            "[CV] .............. model__alpha=5.5, score=-627935.502, total=   0.1s\n",
            "[CV] model__alpha=5.5 ................................................\n",
            "[CV] .............. model__alpha=5.5, score=-780721.914, total=   0.0s\n",
            "[CV] model__alpha=5.6 ................................................\n",
            "[CV] ............. model__alpha=5.6, score=-2282469.196, total=   0.0s\n",
            "[CV] model__alpha=5.6 ................................................\n",
            "[CV] .............. model__alpha=5.6, score=-759224.893, total=   0.0s\n",
            "[CV] model__alpha=5.6 ................................................\n",
            "[CV] .............. model__alpha=5.6, score=-843213.030, total=   0.0s\n",
            "[CV] model__alpha=5.6 ................................................\n",
            "[CV] .............. model__alpha=5.6, score=-619944.089, total=   0.0s\n",
            "[CV] model__alpha=5.6 ................................................\n",
            "[CV] .............. model__alpha=5.6, score=-777099.803, total=   0.0s\n",
            "[CV] model__alpha=5.7 ................................................\n",
            "[CV] ............. model__alpha=5.7, score=-2115508.515, total=   0.0s\n",
            "[CV] model__alpha=5.7 ................................................\n",
            "[CV] .............. model__alpha=5.7, score=-750629.257, total=   0.0s\n",
            "[CV] model__alpha=5.7 ................................................\n",
            "[CV] .............. model__alpha=5.7, score=-834935.607, total=   0.0s\n",
            "[CV] model__alpha=5.7 ................................................\n",
            "[CV] .............. model__alpha=5.7, score=-613918.179, total=   0.1s\n",
            "[CV] model__alpha=5.7 ................................................\n",
            "[CV] .............. model__alpha=5.7, score=-773815.843, total=   0.0s\n",
            "[CV] model__alpha=5.8 ................................................\n",
            "[CV] ............. model__alpha=5.8, score=-1959634.645, total=   0.0s\n",
            "[CV] model__alpha=5.8 ................................................\n",
            "[CV] .............. model__alpha=5.8, score=-744424.834, total=   0.0s\n",
            "[CV] model__alpha=5.8 ................................................\n",
            "[CV] .............. model__alpha=5.8, score=-827066.737, total=   0.0s\n",
            "[CV] model__alpha=5.8 ................................................\n",
            "[CV] .............. model__alpha=5.8, score=-607610.478, total=   0.1s\n",
            "[CV] model__alpha=5.8 ................................................\n",
            "[CV] .............. model__alpha=5.8, score=-770634.384, total=   0.0s\n",
            "[CV] model__alpha=5.9 ................................................\n",
            "[CV] ............. model__alpha=5.9, score=-1814504.560, total=   0.0s\n",
            "[CV] model__alpha=5.9 ................................................\n",
            "[CV] .............. model__alpha=5.9, score=-738794.657, total=   0.0s\n",
            "[CV] model__alpha=5.9 ................................................\n",
            "[CV] .............. model__alpha=5.9, score=-819710.987, total=   0.0s\n",
            "[CV] model__alpha=5.9 ................................................\n",
            "[CV] .............. model__alpha=5.9, score=-602294.541, total=   0.1s\n",
            "[CV] model__alpha=5.9 ................................................\n",
            "[CV] .............. model__alpha=5.9, score=-767048.217, total=   0.0s\n",
            "[CV] model__alpha=6.0 ................................................\n",
            "[CV] ............. model__alpha=6.0, score=-1689584.548, total=   0.0s\n",
            "[CV] model__alpha=6.0 ................................................\n",
            "[CV] .............. model__alpha=6.0, score=-733332.200, total=   0.0s\n",
            "[CV] model__alpha=6.0 ................................................\n",
            "[CV] .............. model__alpha=6.0, score=-812405.237, total=   0.0s\n",
            "[CV] model__alpha=6.0 ................................................\n",
            "[CV] .............. model__alpha=6.0, score=-597444.674, total=   0.1s\n",
            "[CV] model__alpha=6.0 ................................................\n",
            "[CV] .............. model__alpha=6.0, score=-763024.869, total=   0.0s\n",
            "[CV] model__alpha=6.1 ................................................\n",
            "[CV] ............. model__alpha=6.1, score=-1585409.233, total=   0.0s\n",
            "[CV] model__alpha=6.1 ................................................\n",
            "[CV] .............. model__alpha=6.1, score=-728209.727, total=   0.0s\n",
            "[CV] model__alpha=6.1 ................................................\n",
            "[CV] .............. model__alpha=6.1, score=-805303.932, total=   0.0s\n",
            "[CV] model__alpha=6.1 ................................................\n",
            "[CV] .............. model__alpha=6.1, score=-592924.648, total=   0.1s\n",
            "[CV] model__alpha=6.1 ................................................\n",
            "[CV] .............. model__alpha=6.1, score=-758990.492, total=   0.0s\n",
            "[CV] model__alpha=6.2 ................................................\n",
            "[CV] ............. model__alpha=6.2, score=-1490348.758, total=   0.0s\n",
            "[CV] model__alpha=6.2 ................................................\n",
            "[CV] .............. model__alpha=6.2, score=-723738.364, total=   0.0s\n",
            "[CV] model__alpha=6.2 ................................................\n",
            "[CV] .............. model__alpha=6.2, score=-798417.159, total=   0.0s\n",
            "[CV] model__alpha=6.2 ................................................\n",
            "[CV] .............. model__alpha=6.2, score=-588725.506, total=   0.1s\n",
            "[CV] model__alpha=6.2 ................................................\n",
            "[CV] .............. model__alpha=6.2, score=-754753.608, total=   0.0s\n",
            "[CV] model__alpha=6.3 ................................................\n",
            "[CV] ............. model__alpha=6.3, score=-1414605.250, total=   0.0s\n",
            "[CV] model__alpha=6.3 ................................................\n",
            "[CV] .............. model__alpha=6.3, score=-719424.322, total=   0.0s\n",
            "[CV] model__alpha=6.3 ................................................\n",
            "[CV] .............. model__alpha=6.3, score=-791688.902, total=   0.0s\n",
            "[CV] model__alpha=6.3 ................................................\n",
            "[CV] .............. model__alpha=6.3, score=-584500.704, total=   0.1s\n",
            "[CV] model__alpha=6.3 ................................................\n",
            "[CV] .............. model__alpha=6.3, score=-750190.303, total=   0.0s\n",
            "[CV] model__alpha=6.4 ................................................\n",
            "[CV] ............. model__alpha=6.4, score=-1344362.618, total=   0.0s\n",
            "[CV] model__alpha=6.4 ................................................\n",
            "[CV] .............. model__alpha=6.4, score=-715346.254, total=   0.0s\n",
            "[CV] model__alpha=6.4 ................................................\n",
            "[CV] .............. model__alpha=6.4, score=-784930.110, total=   0.0s\n",
            "[CV] model__alpha=6.4 ................................................\n",
            "[CV] .............. model__alpha=6.4, score=-580553.839, total=   0.1s\n",
            "[CV] model__alpha=6.4 ................................................\n",
            "[CV] .............. model__alpha=6.4, score=-745664.995, total=   0.0s\n",
            "[CV] model__alpha=6.5 ................................................\n",
            "[CV] ............. model__alpha=6.5, score=-1287885.212, total=   0.0s\n",
            "[CV] model__alpha=6.5 ................................................\n",
            "[CV] .............. model__alpha=6.5, score=-711491.905, total=   0.0s\n",
            "[CV] model__alpha=6.5 ................................................\n",
            "[CV] .............. model__alpha=6.5, score=-778207.625, total=   0.0s\n",
            "[CV] model__alpha=6.5 ................................................\n",
            "[CV] .............. model__alpha=6.5, score=-576619.113, total=   0.1s\n",
            "[CV] model__alpha=6.5 ................................................\n",
            "[CV] .............. model__alpha=6.5, score=-741087.944, total=   0.0s\n",
            "[CV] model__alpha=6.6 ................................................\n",
            "[CV] ............. model__alpha=6.6, score=-1232894.759, total=   0.0s\n",
            "[CV] model__alpha=6.6 ................................................\n",
            "[CV] .............. model__alpha=6.6, score=-707849.589, total=   0.0s\n",
            "[CV] model__alpha=6.6 ................................................\n",
            "[CV] .............. model__alpha=6.6, score=-771552.443, total=   0.0s\n",
            "[CV] model__alpha=6.6 ................................................\n",
            "[CV] .............. model__alpha=6.6, score=-572263.798, total=   0.1s\n",
            "[CV] model__alpha=6.6 ................................................\n",
            "[CV] .............. model__alpha=6.6, score=-736775.066, total=   0.0s\n",
            "[CV] model__alpha=6.7 ................................................\n",
            "[CV] ............. model__alpha=6.7, score=-1232655.173, total=   0.0s\n",
            "[CV] model__alpha=6.7 ................................................\n",
            "[CV] .............. model__alpha=6.7, score=-703950.223, total=   0.0s\n",
            "[CV] model__alpha=6.7 ................................................\n",
            "[CV] .............. model__alpha=6.7, score=-764978.599, total=   0.0s\n",
            "[CV] model__alpha=6.7 ................................................\n",
            "[CV] .............. model__alpha=6.7, score=-567967.974, total=   0.1s\n",
            "[CV] model__alpha=6.7 ................................................\n",
            "[CV] .............. model__alpha=6.7, score=-732755.597, total=   0.0s\n",
            "[CV] model__alpha=6.8 ................................................\n",
            "[CV] ............. model__alpha=6.8, score=-1271988.227, total=   0.1s\n",
            "[CV] model__alpha=6.8 ................................................\n",
            "[CV] .............. model__alpha=6.8, score=-699467.964, total=   0.0s\n",
            "[CV] model__alpha=6.8 ................................................\n",
            "[CV] .............. model__alpha=6.8, score=-758910.871, total=   0.0s\n",
            "[CV] model__alpha=6.8 ................................................\n",
            "[CV] .............. model__alpha=6.8, score=-563824.016, total=   0.1s\n",
            "[CV] model__alpha=6.8 ................................................\n",
            "[CV] .............. model__alpha=6.8, score=-728800.586, total=   0.0s\n",
            "[CV] model__alpha=6.9 ................................................\n",
            "[CV] ............. model__alpha=6.9, score=-1313691.485, total=   0.0s\n",
            "[CV] model__alpha=6.9 ................................................\n",
            "[CV] .............. model__alpha=6.9, score=-696026.546, total=   0.0s\n",
            "[CV] model__alpha=6.9 ................................................\n",
            "[CV] .............. model__alpha=6.9, score=-753298.739, total=   0.0s\n",
            "[CV] model__alpha=6.9 ................................................\n",
            "[CV] .............. model__alpha=6.9, score=-559417.842, total=   0.1s\n",
            "[CV] model__alpha=6.9 ................................................\n",
            "[CV] .............. model__alpha=6.9, score=-724906.018, total=   0.0s\n",
            "[CV] model__alpha=7.0 ................................................\n",
            "[CV] ............. model__alpha=7.0, score=-1358092.952, total=   0.0s\n",
            "[CV] model__alpha=7.0 ................................................\n",
            "[CV] .............. model__alpha=7.0, score=-692891.521, total=   0.0s\n",
            "[CV] model__alpha=7.0 ................................................\n",
            "[CV] .............. model__alpha=7.0, score=-747711.453, total=   0.0s\n",
            "[CV] model__alpha=7.0 ................................................\n",
            "[CV] .............. model__alpha=7.0, score=-554154.685, total=   0.1s\n",
            "[CV] model__alpha=7.0 ................................................\n",
            "[CV] .............. model__alpha=7.0, score=-721068.989, total=   0.0s\n",
            "[CV] model__alpha=7.1 ................................................\n",
            "[CV] ............. model__alpha=7.1, score=-1397053.099, total=   0.0s\n",
            "[CV] model__alpha=7.1 ................................................\n",
            "[CV] .............. model__alpha=7.1, score=-689950.013, total=   0.0s\n",
            "[CV] model__alpha=7.1 ................................................\n",
            "[CV] .............. model__alpha=7.1, score=-742201.646, total=   0.0s\n",
            "[CV] model__alpha=7.1 ................................................\n",
            "[CV] .............. model__alpha=7.1, score=-548920.711, total=   0.1s\n",
            "[CV] model__alpha=7.1 ................................................\n",
            "[CV] .............. model__alpha=7.1, score=-717292.168, total=   0.0s\n",
            "[CV] model__alpha=7.2 ................................................\n",
            "[CV] ............. model__alpha=7.2, score=-1428313.880, total=   0.0s\n",
            "[CV] model__alpha=7.2 ................................................\n",
            "[CV] .............. model__alpha=7.2, score=-683503.296, total=   0.0s\n",
            "[CV] model__alpha=7.2 ................................................\n",
            "[CV] .............. model__alpha=7.2, score=-736780.649, total=   0.0s\n",
            "[CV] model__alpha=7.2 ................................................\n",
            "[CV] .............. model__alpha=7.2, score=-543749.278, total=   0.1s\n",
            "[CV] model__alpha=7.2 ................................................\n",
            "[CV] .............. model__alpha=7.2, score=-713603.467, total=   0.0s\n",
            "[CV] model__alpha=7.3 ................................................\n",
            "[CV] ............. model__alpha=7.3, score=-1456634.792, total=   0.0s\n",
            "[CV] model__alpha=7.3 ................................................\n",
            "[CV] .............. model__alpha=7.3, score=-676397.096, total=   0.0s\n",
            "[CV] model__alpha=7.3 ................................................\n",
            "[CV] .............. model__alpha=7.3, score=-731361.926, total=   0.0s\n",
            "[CV] model__alpha=7.3 ................................................\n",
            "[CV] .............. model__alpha=7.3, score=-539377.607, total=   0.1s\n",
            "[CV] model__alpha=7.3 ................................................\n",
            "[CV] .............. model__alpha=7.3, score=-709968.138, total=   0.0s\n",
            "[CV] model__alpha=7.4 ................................................\n",
            "[CV] ............. model__alpha=7.4, score=-1461289.359, total=   0.0s\n",
            "[CV] model__alpha=7.4 ................................................\n",
            "[CV] .............. model__alpha=7.4, score=-668764.743, total=   0.0s\n",
            "[CV] model__alpha=7.4 ................................................\n",
            "[CV] .............. model__alpha=7.4, score=-725751.383, total=   0.0s\n",
            "[CV] model__alpha=7.4 ................................................\n",
            "[CV] .............. model__alpha=7.4, score=-535953.615, total=   0.0s\n",
            "[CV] model__alpha=7.4 ................................................\n",
            "[CV] .............. model__alpha=7.4, score=-706372.685, total=   0.0s\n",
            "[CV] model__alpha=7.5 ................................................\n",
            "[CV] ............. model__alpha=7.5, score=-1478754.344, total=   0.0s\n",
            "[CV] model__alpha=7.5 ................................................\n",
            "[CV] .............. model__alpha=7.5, score=-661302.227, total=   0.0s\n",
            "[CV] model__alpha=7.5 ................................................\n",
            "[CV] .............. model__alpha=7.5, score=-720461.087, total=   0.0s\n",
            "[CV] model__alpha=7.5 ................................................\n",
            "[CV] .............. model__alpha=7.5, score=-532703.302, total=   0.0s\n",
            "[CV] model__alpha=7.5 ................................................\n",
            "[CV] .............. model__alpha=7.5, score=-702824.439, total=   0.0s\n",
            "[CV] model__alpha=7.6 ................................................\n",
            "[CV] ............. model__alpha=7.6, score=-1494883.787, total=   0.0s\n",
            "[CV] model__alpha=7.6 ................................................\n",
            "[CV] .............. model__alpha=7.6, score=-653866.364, total=   0.0s\n",
            "[CV] model__alpha=7.6 ................................................\n",
            "[CV] .............. model__alpha=7.6, score=-715511.810, total=   0.0s\n",
            "[CV] model__alpha=7.6 ................................................\n",
            "[CV] .............. model__alpha=7.6, score=-529550.932, total=   0.0s\n",
            "[CV] model__alpha=7.6 ................................................\n",
            "[CV] .............. model__alpha=7.6, score=-699314.262, total=   0.0s\n",
            "[CV] model__alpha=7.7 ................................................\n",
            "[CV] ............. model__alpha=7.7, score=-1507516.697, total=   0.0s\n",
            "[CV] model__alpha=7.7 ................................................\n",
            "[CV] .............. model__alpha=7.7, score=-647102.256, total=   0.0s\n",
            "[CV] model__alpha=7.7 ................................................\n",
            "[CV] .............. model__alpha=7.7, score=-711037.149, total=   0.0s\n",
            "[CV] model__alpha=7.7 ................................................\n",
            "[CV] .............. model__alpha=7.7, score=-526393.823, total=   0.1s\n",
            "[CV] model__alpha=7.7 ................................................\n",
            "[CV] .............. model__alpha=7.7, score=-695785.401, total=   0.0s\n",
            "[CV] model__alpha=7.8 ................................................\n",
            "[CV] ............. model__alpha=7.8, score=-1478920.429, total=   0.0s\n",
            "[CV] model__alpha=7.8 ................................................\n",
            "[CV] .............. model__alpha=7.8, score=-641014.687, total=   0.0s\n",
            "[CV] model__alpha=7.8 ................................................\n",
            "[CV] .............. model__alpha=7.8, score=-707620.819, total=   0.0s\n",
            "[CV] model__alpha=7.8 ................................................\n",
            "[CV] .............. model__alpha=7.8, score=-523416.782, total=   0.0s\n",
            "[CV] model__alpha=7.8 ................................................\n",
            "[CV] .............. model__alpha=7.8, score=-692300.353, total=   0.0s\n",
            "[CV] model__alpha=7.9 ................................................\n",
            "[CV] ............. model__alpha=7.9, score=-1438046.752, total=   0.0s\n",
            "[CV] model__alpha=7.9 ................................................\n",
            "[CV] .............. model__alpha=7.9, score=-635935.547, total=   0.0s\n",
            "[CV] model__alpha=7.9 ................................................\n",
            "[CV] .............. model__alpha=7.9, score=-704161.625, total=   0.0s\n",
            "[CV] model__alpha=7.9 ................................................\n",
            "[CV] .............. model__alpha=7.9, score=-520518.061, total=   0.0s\n",
            "[CV] model__alpha=7.9 ................................................\n",
            "[CV] .............. model__alpha=7.9, score=-688923.267, total=   0.0s\n",
            "[CV] model__alpha=8.0 ................................................\n",
            "[CV] ............. model__alpha=8.0, score=-1398067.504, total=   0.0s\n",
            "[CV] model__alpha=8.0 ................................................\n",
            "[CV] .............. model__alpha=8.0, score=-631037.575, total=   0.0s\n",
            "[CV] model__alpha=8.0 ................................................\n",
            "[CV] .............. model__alpha=8.0, score=-700684.793, total=   0.0s\n",
            "[CV] model__alpha=8.0 ................................................\n",
            "[CV] .............. model__alpha=8.0, score=-517690.423, total=   0.0s\n",
            "[CV] model__alpha=8.0 ................................................\n",
            "[CV] .............. model__alpha=8.0, score=-685612.444, total=   0.0s\n",
            "[CV] model__alpha=8.1 ................................................\n",
            "[CV] ............. model__alpha=8.1, score=-1358853.996, total=   0.0s\n",
            "[CV] model__alpha=8.1 ................................................\n",
            "[CV] .............. model__alpha=8.1, score=-625496.114, total=   0.0s\n",
            "[CV] model__alpha=8.1 ................................................\n",
            "[CV] .............. model__alpha=8.1, score=-697693.778, total=   0.0s\n",
            "[CV] model__alpha=8.1 ................................................\n",
            "[CV] .............. model__alpha=8.1, score=-515030.594, total=   0.0s\n",
            "[CV] model__alpha=8.1 ................................................\n",
            "[CV] .............. model__alpha=8.1, score=-682350.671, total=   0.0s\n",
            "[CV] model__alpha=8.2 ................................................\n",
            "[CV] ............. model__alpha=8.2, score=-1320047.827, total=   0.0s\n",
            "[CV] model__alpha=8.2 ................................................\n",
            "[CV] .............. model__alpha=8.2, score=-620034.291, total=   0.0s\n",
            "[CV] model__alpha=8.2 ................................................\n",
            "[CV] .............. model__alpha=8.2, score=-693643.952, total=   0.0s\n",
            "[CV] model__alpha=8.2 ................................................\n",
            "[CV] .............. model__alpha=8.2, score=-513330.083, total=   0.0s\n",
            "[CV] model__alpha=8.2 ................................................\n",
            "[CV] .............. model__alpha=8.2, score=-679149.540, total=   0.0s\n",
            "[CV] model__alpha=8.3 ................................................\n",
            "[CV] ............. model__alpha=8.3, score=-1291524.080, total=   0.0s\n",
            "[CV] model__alpha=8.3 ................................................\n",
            "[CV] .............. model__alpha=8.3, score=-614607.625, total=   0.0s\n",
            "[CV] model__alpha=8.3 ................................................\n",
            "[CV] .............. model__alpha=8.3, score=-687754.190, total=   0.0s\n",
            "[CV] model__alpha=8.3 ................................................\n",
            "[CV] .............. model__alpha=8.3, score=-511616.680, total=   0.0s\n",
            "[CV] model__alpha=8.3 ................................................\n",
            "[CV] .............. model__alpha=8.3, score=-676030.865, total=   0.0s\n",
            "[CV] model__alpha=8.4 ................................................\n",
            "[CV] ............. model__alpha=8.4, score=-1267969.437, total=   0.0s\n",
            "[CV] model__alpha=8.4 ................................................\n",
            "[CV] .............. model__alpha=8.4, score=-609516.302, total=   0.0s\n",
            "[CV] model__alpha=8.4 ................................................\n",
            "[CV] .............. model__alpha=8.4, score=-681939.725, total=   0.0s\n",
            "[CV] model__alpha=8.4 ................................................\n",
            "[CV] .............. model__alpha=8.4, score=-509912.718, total=   0.0s\n",
            "[CV] model__alpha=8.4 ................................................\n",
            "[CV] .............. model__alpha=8.4, score=-673041.763, total=   0.0s\n",
            "[CV] model__alpha=8.5 ................................................\n",
            "[CV] ............. model__alpha=8.5, score=-1244335.727, total=   0.0s\n",
            "[CV] model__alpha=8.5 ................................................\n",
            "[CV] .............. model__alpha=8.5, score=-604103.067, total=   0.0s\n",
            "[CV] model__alpha=8.5 ................................................\n",
            "[CV] .............. model__alpha=8.5, score=-676511.723, total=   0.0s\n",
            "[CV] model__alpha=8.5 ................................................\n",
            "[CV] .............. model__alpha=8.5, score=-508152.678, total=   0.0s\n",
            "[CV] model__alpha=8.5 ................................................\n",
            "[CV] .............. model__alpha=8.5, score=-670224.358, total=   0.0s\n",
            "[CV] model__alpha=8.6 ................................................\n",
            "[CV] ............. model__alpha=8.6, score=-1219422.148, total=   0.0s\n",
            "[CV] model__alpha=8.6 ................................................\n",
            "[CV] .............. model__alpha=8.6, score=-598609.550, total=   0.0s\n",
            "[CV] model__alpha=8.6 ................................................\n",
            "[CV] .............. model__alpha=8.6, score=-671633.914, total=   0.0s\n",
            "[CV] model__alpha=8.6 ................................................\n",
            "[CV] .............. model__alpha=8.6, score=-506790.440, total=   0.0s\n",
            "[CV] model__alpha=8.6 ................................................\n",
            "[CV] .............. model__alpha=8.6, score=-667351.220, total=   0.0s\n",
            "[CV] model__alpha=8.7 ................................................\n",
            "[CV] ............. model__alpha=8.7, score=-1192452.996, total=   0.0s\n",
            "[CV] model__alpha=8.7 ................................................\n",
            "[CV] .............. model__alpha=8.7, score=-593199.356, total=   0.0s\n",
            "[CV] model__alpha=8.7 ................................................\n",
            "[CV] .............. model__alpha=8.7, score=-666849.913, total=   0.0s\n",
            "[CV] model__alpha=8.7 ................................................\n",
            "[CV] .............. model__alpha=8.7, score=-505735.439, total=   0.0s\n",
            "[CV] model__alpha=8.7 ................................................\n",
            "[CV] .............. model__alpha=8.7, score=-664579.413, total=   0.0s\n",
            "[CV] model__alpha=8.8 ................................................\n",
            "[CV] ............. model__alpha=8.8, score=-1167732.800, total=   0.0s\n",
            "[CV] model__alpha=8.8 ................................................\n",
            "[CV] .............. model__alpha=8.8, score=-587837.435, total=   0.0s\n",
            "[CV] model__alpha=8.8 ................................................\n",
            "[CV] .............. model__alpha=8.8, score=-662068.574, total=   0.0s\n",
            "[CV] model__alpha=8.8 ................................................\n",
            "[CV] .............. model__alpha=8.8, score=-504751.221, total=   0.0s\n",
            "[CV] model__alpha=8.8 ................................................\n",
            "[CV] .............. model__alpha=8.8, score=-662526.533, total=   0.0s\n",
            "[CV] model__alpha=8.9 ................................................\n",
            "[CV] ............. model__alpha=8.9, score=-1143545.815, total=   0.0s\n",
            "[CV] model__alpha=8.9 ................................................\n",
            "[CV] .............. model__alpha=8.9, score=-582856.309, total=   0.0s\n",
            "[CV] model__alpha=8.9 ................................................\n",
            "[CV] .............. model__alpha=8.9, score=-657208.336, total=   0.0s\n",
            "[CV] model__alpha=8.9 ................................................\n",
            "[CV] .............. model__alpha=8.9, score=-503840.216, total=   0.0s\n",
            "[CV] model__alpha=8.9 ................................................\n",
            "[CV] .............. model__alpha=8.9, score=-660814.247, total=   0.0s\n",
            "[CV] model__alpha=9.0 ................................................\n",
            "[CV] ............. model__alpha=9.0, score=-1119472.118, total=   0.0s\n",
            "[CV] model__alpha=9.0 ................................................\n",
            "[CV] .............. model__alpha=9.0, score=-578114.916, total=   0.0s\n",
            "[CV] model__alpha=9.0 ................................................\n",
            "[CV] .............. model__alpha=9.0, score=-652568.273, total=   0.0s\n",
            "[CV] model__alpha=9.0 ................................................\n",
            "[CV] .............. model__alpha=9.0, score=-502941.284, total=   0.0s\n",
            "[CV] model__alpha=9.0 ................................................\n",
            "[CV] .............. model__alpha=9.0, score=-659038.988, total=   0.0s\n",
            "[CV] model__alpha=9.1 ................................................\n",
            "[CV] ............. model__alpha=9.1, score=-1096278.336, total=   0.0s\n",
            "[CV] model__alpha=9.1 ................................................\n",
            "[CV] .............. model__alpha=9.1, score=-573287.520, total=   0.0s\n",
            "[CV] model__alpha=9.1 ................................................\n",
            "[CV] .............. model__alpha=9.1, score=-648072.645, total=   0.0s\n",
            "[CV] model__alpha=9.1 ................................................\n",
            "[CV] .............. model__alpha=9.1, score=-501743.094, total=   0.0s\n",
            "[CV] model__alpha=9.1 ................................................\n",
            "[CV] .............. model__alpha=9.1, score=-657282.701, total=   0.0s\n",
            "[CV] model__alpha=9.2 ................................................\n",
            "[CV] ............. model__alpha=9.2, score=-1073930.339, total=   0.0s\n",
            "[CV] model__alpha=9.2 ................................................\n",
            "[CV] .............. model__alpha=9.2, score=-568321.637, total=   0.0s\n",
            "[CV] model__alpha=9.2 ................................................\n",
            "[CV] .............. model__alpha=9.2, score=-643496.102, total=   0.0s\n",
            "[CV] model__alpha=9.2 ................................................\n",
            "[CV] .............. model__alpha=9.2, score=-500620.578, total=   0.0s\n",
            "[CV] model__alpha=9.2 ................................................\n",
            "[CV] .............. model__alpha=9.2, score=-655545.439, total=   0.0s\n",
            "[CV] model__alpha=9.3 ................................................\n",
            "[CV] ............. model__alpha=9.3, score=-1058678.849, total=   0.0s\n",
            "[CV] model__alpha=9.3 ................................................\n",
            "[CV] .............. model__alpha=9.3, score=-563795.556, total=   0.0s\n",
            "[CV] model__alpha=9.3 ................................................\n",
            "[CV] .............. model__alpha=9.3, score=-639192.423, total=   0.0s\n",
            "[CV] model__alpha=9.3 ................................................\n",
            "[CV] .............. model__alpha=9.3, score=-499571.966, total=   0.0s\n",
            "[CV] model__alpha=9.3 ................................................\n",
            "[CV] .............. model__alpha=9.3, score=-653828.341, total=   0.0s\n",
            "[CV] model__alpha=9.4 ................................................\n",
            "[CV] ............. model__alpha=9.4, score=-1043600.735, total=   0.0s\n",
            "[CV] model__alpha=9.4 ................................................\n",
            "[CV] .............. model__alpha=9.4, score=-559333.256, total=   0.0s\n",
            "[CV] model__alpha=9.4 ................................................\n",
            "[CV] .............. model__alpha=9.4, score=-634903.735, total=   0.0s\n",
            "[CV] model__alpha=9.4 ................................................\n",
            "[CV] .............. model__alpha=9.4, score=-498602.832, total=   0.0s\n",
            "[CV] model__alpha=9.4 ................................................\n",
            "[CV] .............. model__alpha=9.4, score=-652269.220, total=   0.0s\n",
            "[CV] model__alpha=9.5 ................................................\n",
            "[CV] ............. model__alpha=9.5, score=-1025767.282, total=   0.0s\n",
            "[CV] model__alpha=9.5 ................................................\n",
            "[CV] .............. model__alpha=9.5, score=-554699.409, total=   0.0s\n",
            "[CV] model__alpha=9.5 ................................................\n",
            "[CV] .............. model__alpha=9.5, score=-630791.167, total=   0.0s\n",
            "[CV] model__alpha=9.5 ................................................\n",
            "[CV] .............. model__alpha=9.5, score=-497762.045, total=   0.0s\n",
            "[CV] model__alpha=9.5 ................................................\n",
            "[CV] .............. model__alpha=9.5, score=-650771.564, total=   0.0s\n",
            "[CV] model__alpha=9.6 ................................................\n",
            "[CV] ............. model__alpha=9.6, score=-1006238.159, total=   0.0s\n",
            "[CV] model__alpha=9.6 ................................................\n",
            "[CV] .............. model__alpha=9.6, score=-550149.613, total=   0.0s\n",
            "[CV] model__alpha=9.6 ................................................\n",
            "[CV] .............. model__alpha=9.6, score=-626805.303, total=   0.0s\n",
            "[CV] model__alpha=9.6 ................................................\n",
            "[CV] .............. model__alpha=9.6, score=-496841.582, total=   0.0s\n",
            "[CV] model__alpha=9.6 ................................................\n",
            "[CV] .............. model__alpha=9.6, score=-649226.660, total=   0.0s\n",
            "[CV] model__alpha=9.700000000000001 ..................................\n",
            "[CV]  model__alpha=9.700000000000001, score=-961114.127, total=   0.0s\n",
            "[CV] model__alpha=9.700000000000001 ..................................\n",
            "[CV]  model__alpha=9.700000000000001, score=-545485.956, total=   0.0s\n",
            "[CV] model__alpha=9.700000000000001 ..................................\n",
            "[CV]  model__alpha=9.700000000000001, score=-623428.918, total=   0.0s\n",
            "[CV] model__alpha=9.700000000000001 ..................................\n",
            "[CV]  model__alpha=9.700000000000001, score=-495206.474, total=   0.0s\n",
            "[CV] model__alpha=9.700000000000001 ..................................\n",
            "[CV]  model__alpha=9.700000000000001, score=-647389.300, total=   0.0s\n",
            "[CV] model__alpha=9.8 ................................................\n",
            "[CV] .............. model__alpha=9.8, score=-901217.237, total=   0.0s\n",
            "[CV] model__alpha=9.8 ................................................\n",
            "[CV] .............. model__alpha=9.8, score=-540645.636, total=   0.0s\n",
            "[CV] model__alpha=9.8 ................................................\n",
            "[CV] .............. model__alpha=9.8, score=-620913.503, total=   0.0s\n",
            "[CV] model__alpha=9.8 ................................................\n",
            "[CV] .............. model__alpha=9.8, score=-493655.025, total=   0.0s\n",
            "[CV] model__alpha=9.8 ................................................\n",
            "[CV] .............. model__alpha=9.8, score=-645557.217, total=   0.0s\n",
            "[CV] model__alpha=9.9 ................................................\n",
            "[CV] .............. model__alpha=9.9, score=-851043.004, total=   0.0s\n",
            "[CV] model__alpha=9.9 ................................................\n",
            "[CV] .............. model__alpha=9.9, score=-535873.483, total=   0.0s\n",
            "[CV] model__alpha=9.9 ................................................\n",
            "[CV] .............. model__alpha=9.9, score=-618567.909, total=   0.0s\n",
            "[CV] model__alpha=9.9 ................................................\n",
            "[CV] .............. model__alpha=9.9, score=-492376.460, total=   0.0s\n",
            "[CV] model__alpha=9.9 ................................................\n",
            "[CV] .............. model__alpha=9.9, score=-643742.875, total=   0.0s\n"
          ]
        },
        {
          "output_type": "stream",
          "name": "stderr",
          "text": [
            "[Parallel(n_jobs=1)]: Done 495 out of 495 | elapsed:   24.9s finished\n"
          ]
        },
        {
          "output_type": "execute_result",
          "data": {
            "text/plain": [
              "GridSearchCV(cv=5, error_score=nan,\n",
              "             estimator=Pipeline(memory=None,\n",
              "                                steps=[('scaler',\n",
              "                                        StandardScaler(copy=True,\n",
              "                                                       with_mean=True,\n",
              "                                                       with_std=True)),\n",
              "                                       ('model',\n",
              "                                        Lasso(alpha=1.0, copy_X=True,\n",
              "                                              fit_intercept=True, max_iter=1000,\n",
              "                                              normalize=False, positive=False,\n",
              "                                              precompute=False,\n",
              "                                              random_state=None,\n",
              "                                              selection='cyclic', tol=0.0001,\n",
              "                                              warm_start=False))],\n",
              "                                verbose=False),\n",
              "             iid='deprec...\n",
              "       2.7, 2.8, 2.9, 3. , 3.1, 3.2, 3.3, 3.4, 3.5, 3.6, 3.7, 3.8, 3.9,\n",
              "       4. , 4.1, 4.2, 4.3, 4.4, 4.5, 4.6, 4.7, 4.8, 4.9, 5. , 5.1, 5.2,\n",
              "       5.3, 5.4, 5.5, 5.6, 5.7, 5.8, 5.9, 6. , 6.1, 6.2, 6.3, 6.4, 6.5,\n",
              "       6.6, 6.7, 6.8, 6.9, 7. , 7.1, 7.2, 7.3, 7.4, 7.5, 7.6, 7.7, 7.8,\n",
              "       7.9, 8. , 8.1, 8.2, 8.3, 8.4, 8.5, 8.6, 8.7, 8.8, 8.9, 9. , 9.1,\n",
              "       9.2, 9.3, 9.4, 9.5, 9.6, 9.7, 9.8, 9.9])},\n",
              "             pre_dispatch='2*n_jobs', refit=True, return_train_score=False,\n",
              "             scoring='neg_mean_squared_error', verbose=3)"
            ]
          },
          "metadata": {},
          "execution_count": 67
        }
      ]
    },
    {
      "cell_type": "code",
      "metadata": {
        "colab": {
          "base_uri": "https://localhost:8080/"
        },
        "id": "cqch2_IiXcUv",
        "outputId": "05d30ed6-30b3-4450-b274-e9c31eaf0a81"
      },
      "source": [
        "search.best_params_"
      ],
      "execution_count": null,
      "outputs": [
        {
          "output_type": "execute_result",
          "data": {
            "text/plain": [
              "{'model__alpha': 9.9}"
            ]
          },
          "metadata": {},
          "execution_count": 563
        }
      ]
    },
    {
      "cell_type": "code",
      "metadata": {
        "id": "Zpb0cbh2Xonz"
      },
      "source": [
        "coefficients = search.best_estimator_.named_steps['model'].coef_"
      ],
      "execution_count": null,
      "outputs": []
    },
    {
      "cell_type": "code",
      "metadata": {
        "colab": {
          "base_uri": "https://localhost:8080/"
        },
        "id": "-UJpPA92YB37",
        "outputId": "a5769f5e-deca-4d2c-84cb-17ac1e47c04d"
      },
      "source": [
        "#Important features\n",
        "np.array(X_train.drop(columns=['PatientID']).columns.values)[importance > 0]"
      ],
      "execution_count": null,
      "outputs": [
        {
          "output_type": "execute_result",
          "data": {
            "text/plain": [
              "array(['Age', 'Chemotherapy', 'Tstage_1', 'Nstage_1', 'Nstage_3',\n",
              "       'TNMgroup_1', 'TNMgroup_2', 'TNM edition_8',\n",
              "       'HPV status (0=-, 1=+)_1.0', '0', '1', '2', '6', '7', '8', '17',\n",
              "       '22', '25', '27', '28', '30', '31', '35', '41', '47', '50', '52',\n",
              "       '55', '57', '62', '64', '78', '79', '81', '85', '86', '89', '90',\n",
              "       '91', '92', '95', '98', '101', '102', '105', '107', '109', '110',\n",
              "       '113', '115', '116', '121', '124', '128', '130', '135', '140',\n",
              "       '142', 'diagnostics_Image-original_Mean',\n",
              "       'diagnostics_Image-original_Maximum', 'original_shape_Flatness',\n",
              "       'original_shape_Maximum2DDiameterRow',\n",
              "       'original_shape_Maximum2DDiameterSlice',\n",
              "       'original_shape_Sphericity', 'original_firstorder_Skewness',\n",
              "       'original_gldm_DependenceVariance',\n",
              "       'original_glrlm_ShortRunHighGrayLevelEmphasis',\n",
              "       'original_glszm_GrayLevelNonUniformity',\n",
              "       'original_glszm_LargeAreaEmphasis',\n",
              "       'original_glszm_LargeAreaHighGrayLevelEmphasis',\n",
              "       'original_ngtdm_Contrast', 'original_ngtdm_Strength'], dtype=object)"
            ]
          },
          "metadata": {},
          "execution_count": 71
        }
      ]
    },
    {
      "cell_type": "code",
      "metadata": {
        "id": "_AlgH6xvYjjj",
        "colab": {
          "base_uri": "https://localhost:8080/"
        },
        "outputId": "72707fbe-1a3f-4c64-c849-52a8c69e10ce"
      },
      "source": [
        "#Features to be removed \n",
        "remove_features = np.array(X_train.drop(columns=['PatientID']).columns.values)[importance == 0]\n",
        "print(remove_features)"
      ],
      "execution_count": null,
      "outputs": [
        {
          "output_type": "stream",
          "name": "stdout",
          "text": [
            "['Tstage_2' 'Tstage_3' 'Nstage_2' 'TNMgroup_3' 'Tobacco_1.0' 'Alcohol_1.0'\n",
            " 'Gender (1=M,0=F)_1' 'Performance status_1.0' '3' '4' '5' '9' '10' '11'\n",
            " '12' '13' '14' '15' '16' '18' '19' '20' '21' '23' '24' '26' '29' '32'\n",
            " '33' '34' '36' '37' '38' '39' '40' '42' '43' '44' '45' '46' '48' '49'\n",
            " '51' '53' '54' '56' '58' '59' '60' '61' '63' '65' '66' '67' '68' '69'\n",
            " '70' '71' '72' '73' '74' '75' '76' '77' '80' '82' '83' '84' '87' '88'\n",
            " '93' '94' '96' '97' '99' '100' '103' '104' '106' '108' '111' '112' '114'\n",
            " '117' '118' '119' '120' '122' '123' '125' '126' '127' '129' '131' '132'\n",
            " '133' '134' '136' '137' '138' '139' '141' '143'\n",
            " 'diagnostics_Image-original_Minimum' 'diagnostics_Mask-original_VoxelNum'\n",
            " 'diagnostics_Mask-original_VolumeNum' 'original_shape_Elongation'\n",
            " 'original_shape_LeastAxisLength' 'original_shape_MajorAxisLength'\n",
            " 'original_shape_Maximum2DDiameterColumn'\n",
            " 'original_shape_Maximum3DDiameter' 'original_shape_MeshVolume'\n",
            " 'original_shape_MinorAxisLength' 'original_shape_SurfaceArea'\n",
            " 'original_shape_SurfaceVolumeRatio' 'original_shape_VoxelVolume'\n",
            " 'original_firstorder_10Percentile' 'original_firstorder_90Percentile'\n",
            " 'original_firstorder_Energy' 'original_firstorder_Entropy'\n",
            " 'original_firstorder_InterquartileRange' 'original_firstorder_Kurtosis'\n",
            " 'original_firstorder_Maximum' 'original_firstorder_MeanAbsoluteDeviation'\n",
            " 'original_firstorder_Mean' 'original_firstorder_Median'\n",
            " 'original_firstorder_Minimum' 'original_firstorder_Range'\n",
            " 'original_firstorder_RobustMeanAbsoluteDeviation'\n",
            " 'original_firstorder_RootMeanSquared' 'original_firstorder_TotalEnergy'\n",
            " 'original_firstorder_Uniformity' 'original_firstorder_Variance'\n",
            " 'original_glcm_Autocorrelation' 'original_glcm_ClusterProminence'\n",
            " 'original_glcm_ClusterShade' 'original_glcm_ClusterTendency'\n",
            " 'original_glcm_Contrast' 'original_glcm_Correlation'\n",
            " 'original_glcm_DifferenceAverage' 'original_glcm_DifferenceEntropy'\n",
            " 'original_glcm_DifferenceVariance' 'original_glcm_Id' 'original_glcm_Idm'\n",
            " 'original_glcm_Idmn' 'original_glcm_Idn' 'original_glcm_Imc1'\n",
            " 'original_glcm_Imc2' 'original_glcm_InverseVariance'\n",
            " 'original_glcm_JointAverage' 'original_glcm_JointEnergy'\n",
            " 'original_glcm_JointEntropy' 'original_glcm_MCC'\n",
            " 'original_glcm_MaximumProbability' 'original_glcm_SumAverage'\n",
            " 'original_glcm_SumEntropy' 'original_glcm_SumSquares'\n",
            " 'original_gldm_DependenceEntropy' 'original_gldm_DependenceNonUniformity'\n",
            " 'original_gldm_DependenceNonUniformityNormalized'\n",
            " 'original_gldm_GrayLevelNonUniformity' 'original_gldm_GrayLevelVariance'\n",
            " 'original_gldm_HighGrayLevelEmphasis'\n",
            " 'original_gldm_LargeDependenceEmphasis'\n",
            " 'original_gldm_LargeDependenceHighGrayLevelEmphasis'\n",
            " 'original_gldm_LargeDependenceLowGrayLevelEmphasis'\n",
            " 'original_gldm_LowGrayLevelEmphasis'\n",
            " 'original_gldm_SmallDependenceEmphasis'\n",
            " 'original_gldm_SmallDependenceHighGrayLevelEmphasis'\n",
            " 'original_gldm_SmallDependenceLowGrayLevelEmphasis'\n",
            " 'original_glrlm_GrayLevelNonUniformity'\n",
            " 'original_glrlm_GrayLevelNonUniformityNormalized'\n",
            " 'original_glrlm_GrayLevelVariance'\n",
            " 'original_glrlm_HighGrayLevelRunEmphasis'\n",
            " 'original_glrlm_LongRunEmphasis'\n",
            " 'original_glrlm_LongRunHighGrayLevelEmphasis'\n",
            " 'original_glrlm_LongRunLowGrayLevelEmphasis'\n",
            " 'original_glrlm_LowGrayLevelRunEmphasis' 'original_glrlm_RunEntropy'\n",
            " 'original_glrlm_RunLengthNonUniformity'\n",
            " 'original_glrlm_RunLengthNonUniformityNormalized'\n",
            " 'original_glrlm_RunPercentage' 'original_glrlm_RunVariance'\n",
            " 'original_glrlm_ShortRunEmphasis'\n",
            " 'original_glrlm_ShortRunLowGrayLevelEmphasis'\n",
            " 'original_glszm_GrayLevelNonUniformityNormalized'\n",
            " 'original_glszm_GrayLevelVariance'\n",
            " 'original_glszm_HighGrayLevelZoneEmphasis'\n",
            " 'original_glszm_LargeAreaLowGrayLevelEmphasis'\n",
            " 'original_glszm_LowGrayLevelZoneEmphasis'\n",
            " 'original_glszm_SizeZoneNonUniformity'\n",
            " 'original_glszm_SizeZoneNonUniformityNormalized'\n",
            " 'original_glszm_SmallAreaEmphasis'\n",
            " 'original_glszm_SmallAreaHighGrayLevelEmphasis'\n",
            " 'original_glszm_SmallAreaLowGrayLevelEmphasis'\n",
            " 'original_glszm_ZoneEntropy' 'original_glszm_ZonePercentage'\n",
            " 'original_glszm_ZoneVariance' 'original_ngtdm_Busyness'\n",
            " 'original_ngtdm_Coarseness' 'original_ngtdm_Complexity']\n"
          ]
        }
      ]
    },
    {
      "cell_type": "code",
      "metadata": {
        "id": "NGQZGhsUYgqs"
      },
      "source": [
        "X_train = X_train.drop(remove_features, axis = 1)"
      ],
      "execution_count": null,
      "outputs": []
    },
    {
      "cell_type": "code",
      "metadata": {
        "id": "67yUqpd22scQ"
      },
      "source": [
        " X_val = X_val.drop(remove_features, axis = 1)"
      ],
      "execution_count": null,
      "outputs": []
    },
    {
      "cell_type": "code",
      "metadata": {
        "id": "GtN9wxQXHPbf"
      },
      "source": [
        "# Drop those features from test set \n",
        "test_filtered = data_test.drop(remove_features, axis = 1)"
      ],
      "execution_count": null,
      "outputs": []
    },
    {
      "cell_type": "markdown",
      "metadata": {
        "id": "sluXLWTFZ2Jw"
      },
      "source": [
        "# Filter highly correlated features "
      ]
    },
    {
      "cell_type": "code",
      "metadata": {
        "id": "xa3bRx3KU6-H"
      },
      "source": [
        "corr = pd.DataFrame(X_train).corr() \n",
        "correlated_features = []\n",
        "\n",
        "for i in range(len(corr .columns)):\n",
        "    for j in range(i):\n",
        "        if abs(corr.iloc[i, j]) > 0.9:\n",
        "            colname = corr.columns[i]\n",
        "            correlated_features.append(colname)\n"
      ],
      "execution_count": null,
      "outputs": []
    },
    {
      "cell_type": "code",
      "metadata": {
        "colab": {
          "base_uri": "https://localhost:8080/"
        },
        "id": "iuTv9_i0VXlW",
        "outputId": "286373c7-3cc9-47ba-ca6a-eed6e8b56343"
      },
      "source": [
        "print(len(correlated_features))\n",
        "X_train = X_train.drop(columns=correlated_features)"
      ],
      "execution_count": null,
      "outputs": [
        {
          "output_type": "stream",
          "name": "stdout",
          "text": [
            "12\n"
          ]
        }
      ]
    },
    {
      "cell_type": "code",
      "metadata": {
        "id": "26LRwLOOYX7i"
      },
      "source": [
        "X_val = X_val.drop(columns=correlated_features)"
      ],
      "execution_count": null,
      "outputs": []
    },
    {
      "cell_type": "code",
      "metadata": {
        "id": "frHL8Jqm3N5B"
      },
      "source": [
        "#Test set \n",
        "TEST = test_filtered.drop(columns=correlated_features)"
      ],
      "execution_count": null,
      "outputs": []
    },
    {
      "cell_type": "code",
      "metadata": {
        "id": "Zm_7mxuDsA6f"
      },
      "source": [
        "df_X_train = X_train \n",
        "df_X_val = X_val "
      ],
      "execution_count": null,
      "outputs": []
    },
    {
      "cell_type": "code",
      "metadata": {
        "colab": {
          "base_uri": "https://localhost:8080/"
        },
        "id": "bog3i0EdrDav",
        "outputId": "80e8c08c-1fe3-44e6-9c76-921b3ec20106"
      },
      "source": [
        "#remove duplicated columns if any \n",
        "df_X_train = df_X_train.loc[:,~df_X_train.columns.duplicated()]\n",
        "df_X_val = df_X_val.loc[:,~df_X_val.columns.duplicated()]\n"
      ],
      "execution_count": null,
      "outputs": [
        {
          "output_type": "stream",
          "name": "stdout",
          "text": [
            "      Age  Chemotherapy  ...  original_ngtdm_Strength  PatientID\n",
            "26   81.0           0.0  ...                 0.001746    CHGJ053\n",
            "166  53.0           1.0  ...                 0.000000    CHUS026\n",
            "40   73.0           1.0  ...                 0.000000    CHGJ076\n",
            "13   52.0           1.0  ...                 0.000000    CHGJ031\n",
            "122  66.0           1.0  ...                 0.000000    CHUM059\n",
            "..    ...           ...  ...                      ...        ...\n",
            "67   58.0           1.0  ...                 0.000000    CHMR025\n",
            "192  68.0           1.0  ...                 0.000000    CHUS058\n",
            "117  70.0           1.0  ...                 0.000000    CHUM054\n",
            "47   67.0           1.0  ...                 0.000000    CHGJ085\n",
            "172  53.0           1.0  ...                 0.000000    CHUS035\n",
            "\n",
            "[156 rows x 61 columns]\n",
            "      Age  Chemotherapy  ...  original_ngtdm_Strength  PatientID\n",
            "96   52.0           1.0  ...                 0.000000    CHUM032\n",
            "202  62.0           1.0  ...                 0.000000    CHUS074\n",
            "169  77.0           0.0  ...                 0.000000    CHUS030\n",
            "136  59.0           1.0  ...                 0.061905    CHUP009\n",
            "182  74.0           1.0  ...                 0.000000    CHUS047\n",
            "..    ...           ...  ...                      ...        ...\n",
            "83   59.0           1.0  ...                 0.000000    CHUM015\n",
            "186  76.0           0.0  ...                 0.000000    CHUS051\n",
            "61   68.0           1.0  ...                 0.000000    CHMR014\n",
            "52   53.0           1.0  ...                 0.000000    CHGJ090\n",
            "66   64.0           1.0  ...                 0.000000    CHMR024\n",
            "\n",
            "[67 rows x 61 columns]\n"
          ]
        }
      ]
    },
    {
      "cell_type": "code",
      "metadata": {
        "id": "WEBxCt8m3XLc"
      },
      "source": [
        "TEST = TEST.loc[:,~TEST.columns.duplicated()]\n"
      ],
      "execution_count": null,
      "outputs": []
    },
    {
      "cell_type": "markdown",
      "metadata": {
        "id": "3yx2GDeeNbRH"
      },
      "source": [
        "# Format the train-val data "
      ]
    },
    {
      "cell_type": "code",
      "metadata": {
        "id": "y9xDinlXLXEv"
      },
      "source": [
        "X= pd.concat([df_X_train, df_X_val], ignore_index=False, sort=False)\n",
        "y = pd.concat([y_train, y_val], ignore_index=False, sort=False)\n",
        "X = X.sort_values(by = 'PatientID')\n",
        "#Merge the training data (Deepsurv/Deephit formatting)\n",
        "v = pd.merge(X, T, on = 'PatientID')\n",
        "df_train = pd.merge(v, E, on = 'PatientID' )"
      ],
      "execution_count": null,
      "outputs": []
    },
    {
      "cell_type": "code",
      "metadata": {
        "colab": {
          "base_uri": "https://localhost:8080/",
          "height": 272
        },
        "id": "pAwW78_0p_jI",
        "outputId": "c311e6ec-2276-4a2f-e33d-ccfc6d283007"
      },
      "source": [
        "\n",
        "df_train.head()\n"
      ],
      "execution_count": null,
      "outputs": [
        {
          "output_type": "execute_result",
          "data": {
            "text/html": [
              "<div>\n",
              "<style scoped>\n",
              "    .dataframe tbody tr th:only-of-type {\n",
              "        vertical-align: middle;\n",
              "    }\n",
              "\n",
              "    .dataframe tbody tr th {\n",
              "        vertical-align: top;\n",
              "    }\n",
              "\n",
              "    .dataframe thead th {\n",
              "        text-align: right;\n",
              "    }\n",
              "</style>\n",
              "<table border=\"1\" class=\"dataframe\">\n",
              "  <thead>\n",
              "    <tr style=\"text-align: right;\">\n",
              "      <th></th>\n",
              "      <th>Age</th>\n",
              "      <th>Chemotherapy</th>\n",
              "      <th>Tstage_1</th>\n",
              "      <th>Nstage_1</th>\n",
              "      <th>Nstage_3</th>\n",
              "      <th>TNMgroup_1</th>\n",
              "      <th>TNMgroup_2</th>\n",
              "      <th>TNM edition_8</th>\n",
              "      <th>HPV status (0=-, 1=+)_1.0</th>\n",
              "      <th>0</th>\n",
              "      <th>1</th>\n",
              "      <th>6</th>\n",
              "      <th>17</th>\n",
              "      <th>22</th>\n",
              "      <th>25</th>\n",
              "      <th>27</th>\n",
              "      <th>30</th>\n",
              "      <th>35</th>\n",
              "      <th>41</th>\n",
              "      <th>47</th>\n",
              "      <th>50</th>\n",
              "      <th>55</th>\n",
              "      <th>57</th>\n",
              "      <th>62</th>\n",
              "      <th>64</th>\n",
              "      <th>78</th>\n",
              "      <th>81</th>\n",
              "      <th>85</th>\n",
              "      <th>86</th>\n",
              "      <th>89</th>\n",
              "      <th>92</th>\n",
              "      <th>95</th>\n",
              "      <th>98</th>\n",
              "      <th>101</th>\n",
              "      <th>105</th>\n",
              "      <th>107</th>\n",
              "      <th>109</th>\n",
              "      <th>113</th>\n",
              "      <th>115</th>\n",
              "      <th>116</th>\n",
              "      <th>121</th>\n",
              "      <th>124</th>\n",
              "      <th>128</th>\n",
              "      <th>130</th>\n",
              "      <th>135</th>\n",
              "      <th>140</th>\n",
              "      <th>142</th>\n",
              "      <th>diagnostics_Image-original_Mean</th>\n",
              "      <th>diagnostics_Image-original_Maximum</th>\n",
              "      <th>original_shape_Flatness</th>\n",
              "      <th>original_shape_Maximum2DDiameterRow</th>\n",
              "      <th>original_shape_Maximum2DDiameterSlice</th>\n",
              "      <th>original_shape_Sphericity</th>\n",
              "      <th>original_firstorder_Skewness</th>\n",
              "      <th>original_gldm_DependenceVariance</th>\n",
              "      <th>original_glrlm_ShortRunHighGrayLevelEmphasis</th>\n",
              "      <th>original_glszm_GrayLevelNonUniformity</th>\n",
              "      <th>original_glszm_LargeAreaEmphasis</th>\n",
              "      <th>original_ngtdm_Contrast</th>\n",
              "      <th>original_ngtdm_Strength</th>\n",
              "      <th>Progression free survival</th>\n",
              "      <th>Progression</th>\n",
              "    </tr>\n",
              "  </thead>\n",
              "  <tbody>\n",
              "    <tr>\n",
              "      <th>0</th>\n",
              "      <td>62.0</td>\n",
              "      <td>1.0</td>\n",
              "      <td>0.0</td>\n",
              "      <td>0.0</td>\n",
              "      <td>0.0</td>\n",
              "      <td>0.0</td>\n",
              "      <td>0.0</td>\n",
              "      <td>0.0</td>\n",
              "      <td>1.0</td>\n",
              "      <td>4.516537</td>\n",
              "      <td>4.677599</td>\n",
              "      <td>4.624955</td>\n",
              "      <td>4.224866</td>\n",
              "      <td>4.700875</td>\n",
              "      <td>4.686843</td>\n",
              "      <td>4.626844</td>\n",
              "      <td>4.614446</td>\n",
              "      <td>4.849310</td>\n",
              "      <td>5.122953</td>\n",
              "      <td>5.309893</td>\n",
              "      <td>5.241373</td>\n",
              "      <td>6.780752</td>\n",
              "      <td>7.465911</td>\n",
              "      <td>10.846357</td>\n",
              "      <td>9.668675</td>\n",
              "      <td>6.361061</td>\n",
              "      <td>6.838998</td>\n",
              "      <td>6.032072</td>\n",
              "      <td>6.268207</td>\n",
              "      <td>16.234692</td>\n",
              "      <td>11.447547</td>\n",
              "      <td>14.006201</td>\n",
              "      <td>10.021963</td>\n",
              "      <td>15.616279</td>\n",
              "      <td>10.246559</td>\n",
              "      <td>12.044597</td>\n",
              "      <td>8.631438</td>\n",
              "      <td>8.504877</td>\n",
              "      <td>9.826251</td>\n",
              "      <td>10.345404</td>\n",
              "      <td>18.972225</td>\n",
              "      <td>18.887257</td>\n",
              "      <td>17.819248</td>\n",
              "      <td>18.964813</td>\n",
              "      <td>21.516360</td>\n",
              "      <td>21.336758</td>\n",
              "      <td>12.000441</td>\n",
              "      <td>1.373399</td>\n",
              "      <td>25.276834</td>\n",
              "      <td>0.724564</td>\n",
              "      <td>59.236813</td>\n",
              "      <td>50.119856</td>\n",
              "      <td>0.653100</td>\n",
              "      <td>-0.014760</td>\n",
              "      <td>14.024413</td>\n",
              "      <td>0.117039</td>\n",
              "      <td>1.0</td>\n",
              "      <td>1.209287e+09</td>\n",
              "      <td>8.268831e-10</td>\n",
              "      <td>1.0</td>\n",
              "      <td>310</td>\n",
              "      <td>1</td>\n",
              "    </tr>\n",
              "    <tr>\n",
              "      <th>1</th>\n",
              "      <td>61.0</td>\n",
              "      <td>1.0</td>\n",
              "      <td>1.0</td>\n",
              "      <td>0.0</td>\n",
              "      <td>0.0</td>\n",
              "      <td>0.0</td>\n",
              "      <td>0.0</td>\n",
              "      <td>0.0</td>\n",
              "      <td>0.0</td>\n",
              "      <td>10.763744</td>\n",
              "      <td>5.127009</td>\n",
              "      <td>5.832845</td>\n",
              "      <td>6.006786</td>\n",
              "      <td>5.233970</td>\n",
              "      <td>5.746231</td>\n",
              "      <td>6.360868</td>\n",
              "      <td>5.064081</td>\n",
              "      <td>5.279643</td>\n",
              "      <td>5.970029</td>\n",
              "      <td>5.194820</td>\n",
              "      <td>5.590835</td>\n",
              "      <td>5.122812</td>\n",
              "      <td>4.948566</td>\n",
              "      <td>7.028618</td>\n",
              "      <td>7.296926</td>\n",
              "      <td>7.956578</td>\n",
              "      <td>7.159983</td>\n",
              "      <td>8.454244</td>\n",
              "      <td>8.175571</td>\n",
              "      <td>6.795301</td>\n",
              "      <td>6.839588</td>\n",
              "      <td>6.099201</td>\n",
              "      <td>8.324587</td>\n",
              "      <td>9.221310</td>\n",
              "      <td>7.355836</td>\n",
              "      <td>7.811171</td>\n",
              "      <td>6.867636</td>\n",
              "      <td>6.298368</td>\n",
              "      <td>5.925748</td>\n",
              "      <td>5.993853</td>\n",
              "      <td>11.847968</td>\n",
              "      <td>12.414833</td>\n",
              "      <td>10.108580</td>\n",
              "      <td>10.499516</td>\n",
              "      <td>9.841627</td>\n",
              "      <td>10.585178</td>\n",
              "      <td>7.337904</td>\n",
              "      <td>1.264393</td>\n",
              "      <td>13.264725</td>\n",
              "      <td>0.682694</td>\n",
              "      <td>28.792360</td>\n",
              "      <td>21.840330</td>\n",
              "      <td>0.741363</td>\n",
              "      <td>0.117102</td>\n",
              "      <td>23.021957</td>\n",
              "      <td>0.138217</td>\n",
              "      <td>1.0</td>\n",
              "      <td>2.696725e+07</td>\n",
              "      <td>0.000000e+00</td>\n",
              "      <td>0.0</td>\n",
              "      <td>2037</td>\n",
              "      <td>0</td>\n",
              "    </tr>\n",
              "    <tr>\n",
              "      <th>2</th>\n",
              "      <td>79.0</td>\n",
              "      <td>1.0</td>\n",
              "      <td>1.0</td>\n",
              "      <td>0.0</td>\n",
              "      <td>0.0</td>\n",
              "      <td>0.0</td>\n",
              "      <td>0.0</td>\n",
              "      <td>0.0</td>\n",
              "      <td>0.0</td>\n",
              "      <td>10.757696</td>\n",
              "      <td>10.516313</td>\n",
              "      <td>6.625793</td>\n",
              "      <td>5.719155</td>\n",
              "      <td>6.823604</td>\n",
              "      <td>7.575518</td>\n",
              "      <td>7.868264</td>\n",
              "      <td>7.430141</td>\n",
              "      <td>6.635969</td>\n",
              "      <td>7.052249</td>\n",
              "      <td>5.152165</td>\n",
              "      <td>4.750963</td>\n",
              "      <td>4.647209</td>\n",
              "      <td>4.730729</td>\n",
              "      <td>5.122075</td>\n",
              "      <td>5.399327</td>\n",
              "      <td>5.444087</td>\n",
              "      <td>5.371888</td>\n",
              "      <td>9.023921</td>\n",
              "      <td>7.049284</td>\n",
              "      <td>6.189453</td>\n",
              "      <td>5.393615</td>\n",
              "      <td>5.347976</td>\n",
              "      <td>10.045666</td>\n",
              "      <td>9.141331</td>\n",
              "      <td>6.937159</td>\n",
              "      <td>5.634351</td>\n",
              "      <td>5.473270</td>\n",
              "      <td>10.716955</td>\n",
              "      <td>11.187658</td>\n",
              "      <td>13.932541</td>\n",
              "      <td>13.512067</td>\n",
              "      <td>15.656564</td>\n",
              "      <td>14.850578</td>\n",
              "      <td>14.378210</td>\n",
              "      <td>13.490649</td>\n",
              "      <td>9.320275</td>\n",
              "      <td>8.961438</td>\n",
              "      <td>1.082563</td>\n",
              "      <td>11.854326</td>\n",
              "      <td>0.847292</td>\n",
              "      <td>19.416488</td>\n",
              "      <td>18.681542</td>\n",
              "      <td>0.815871</td>\n",
              "      <td>0.595335</td>\n",
              "      <td>25.564870</td>\n",
              "      <td>0.138641</td>\n",
              "      <td>1.0</td>\n",
              "      <td>5.909761e+06</td>\n",
              "      <td>0.000000e+00</td>\n",
              "      <td>0.0</td>\n",
              "      <td>1917</td>\n",
              "      <td>0</td>\n",
              "    </tr>\n",
              "    <tr>\n",
              "      <th>3</th>\n",
              "      <td>62.0</td>\n",
              "      <td>1.0</td>\n",
              "      <td>0.0</td>\n",
              "      <td>0.0</td>\n",
              "      <td>0.0</td>\n",
              "      <td>0.0</td>\n",
              "      <td>0.0</td>\n",
              "      <td>0.0</td>\n",
              "      <td>1.0</td>\n",
              "      <td>4.926895</td>\n",
              "      <td>6.223897</td>\n",
              "      <td>11.335909</td>\n",
              "      <td>7.386083</td>\n",
              "      <td>5.608498</td>\n",
              "      <td>6.489420</td>\n",
              "      <td>6.664249</td>\n",
              "      <td>6.159691</td>\n",
              "      <td>5.419880</td>\n",
              "      <td>6.170466</td>\n",
              "      <td>6.592583</td>\n",
              "      <td>6.201656</td>\n",
              "      <td>5.947432</td>\n",
              "      <td>5.130398</td>\n",
              "      <td>4.374220</td>\n",
              "      <td>4.776738</td>\n",
              "      <td>4.364235</td>\n",
              "      <td>4.993643</td>\n",
              "      <td>5.327912</td>\n",
              "      <td>5.585537</td>\n",
              "      <td>4.437806</td>\n",
              "      <td>4.613768</td>\n",
              "      <td>4.473212</td>\n",
              "      <td>4.463800</td>\n",
              "      <td>4.687502</td>\n",
              "      <td>4.762361</td>\n",
              "      <td>4.828611</td>\n",
              "      <td>5.260072</td>\n",
              "      <td>6.296486</td>\n",
              "      <td>8.522223</td>\n",
              "      <td>7.629566</td>\n",
              "      <td>11.798074</td>\n",
              "      <td>13.594780</td>\n",
              "      <td>14.408480</td>\n",
              "      <td>14.528991</td>\n",
              "      <td>14.322064</td>\n",
              "      <td>12.642089</td>\n",
              "      <td>8.799846</td>\n",
              "      <td>1.000646</td>\n",
              "      <td>11.845998</td>\n",
              "      <td>0.491382</td>\n",
              "      <td>33.734256</td>\n",
              "      <td>22.561028</td>\n",
              "      <td>0.768779</td>\n",
              "      <td>0.732431</td>\n",
              "      <td>21.802403</td>\n",
              "      <td>0.120181</td>\n",
              "      <td>1.0</td>\n",
              "      <td>3.189990e+07</td>\n",
              "      <td>0.000000e+00</td>\n",
              "      <td>0.0</td>\n",
              "      <td>1377</td>\n",
              "      <td>0</td>\n",
              "    </tr>\n",
              "    <tr>\n",
              "      <th>4</th>\n",
              "      <td>56.0</td>\n",
              "      <td>1.0</td>\n",
              "      <td>1.0</td>\n",
              "      <td>0.0</td>\n",
              "      <td>0.0</td>\n",
              "      <td>0.0</td>\n",
              "      <td>0.0</td>\n",
              "      <td>0.0</td>\n",
              "      <td>0.0</td>\n",
              "      <td>10.633841</td>\n",
              "      <td>6.786539</td>\n",
              "      <td>6.528471</td>\n",
              "      <td>6.795995</td>\n",
              "      <td>5.334478</td>\n",
              "      <td>4.973587</td>\n",
              "      <td>4.218722</td>\n",
              "      <td>3.679292</td>\n",
              "      <td>4.851692</td>\n",
              "      <td>5.326476</td>\n",
              "      <td>5.255210</td>\n",
              "      <td>5.322794</td>\n",
              "      <td>5.271499</td>\n",
              "      <td>5.247312</td>\n",
              "      <td>10.395865</td>\n",
              "      <td>11.360767</td>\n",
              "      <td>6.213783</td>\n",
              "      <td>7.763341</td>\n",
              "      <td>12.968037</td>\n",
              "      <td>14.299929</td>\n",
              "      <td>8.522232</td>\n",
              "      <td>7.464240</td>\n",
              "      <td>9.801277</td>\n",
              "      <td>10.843600</td>\n",
              "      <td>15.208096</td>\n",
              "      <td>10.864079</td>\n",
              "      <td>9.804054</td>\n",
              "      <td>8.416535</td>\n",
              "      <td>7.765898</td>\n",
              "      <td>8.176993</td>\n",
              "      <td>7.567304</td>\n",
              "      <td>12.303373</td>\n",
              "      <td>13.344452</td>\n",
              "      <td>12.757805</td>\n",
              "      <td>13.570099</td>\n",
              "      <td>16.900093</td>\n",
              "      <td>13.166973</td>\n",
              "      <td>8.979172</td>\n",
              "      <td>1.152449</td>\n",
              "      <td>14.143359</td>\n",
              "      <td>0.676817</td>\n",
              "      <td>20.880613</td>\n",
              "      <td>22.203603</td>\n",
              "      <td>0.761991</td>\n",
              "      <td>0.463448</td>\n",
              "      <td>26.288956</td>\n",
              "      <td>0.156158</td>\n",
              "      <td>1.0</td>\n",
              "      <td>7.225344e+06</td>\n",
              "      <td>0.000000e+00</td>\n",
              "      <td>0.0</td>\n",
              "      <td>1072</td>\n",
              "      <td>0</td>\n",
              "    </tr>\n",
              "  </tbody>\n",
              "</table>\n",
              "</div>"
            ],
            "text/plain": [
              "    Age  Chemotherapy  ...  Progression free survival  Progression\n",
              "0  62.0           1.0  ...                        310            1\n",
              "1  61.0           1.0  ...                       2037            0\n",
              "2  79.0           1.0  ...                       1917            0\n",
              "3  62.0           1.0  ...                       1377            0\n",
              "4  56.0           1.0  ...                       1072            0\n",
              "\n",
              "[5 rows x 62 columns]"
            ]
          },
          "metadata": {},
          "execution_count": 405
        }
      ]
    },
    {
      "cell_type": "code",
      "metadata": {
        "id": "tTUHw04JLJvA"
      },
      "source": [
        "T = endpoint_data[['PatientID','Progression free survival']]\n",
        "E = endpoint_data[['PatientID','Progression']]\n",
        "T = pd.DataFrame(T)\n",
        "E = pd.DataFrame(E)"
      ],
      "execution_count": null,
      "outputs": []
    },
    {
      "cell_type": "code",
      "metadata": {
        "id": "OJtZzYoaLJ23"
      },
      "source": [
        "np.random.seed(1234)\n",
        "_ = torch.manual_seed(23)"
      ],
      "execution_count": null,
      "outputs": []
    },
    {
      "cell_type": "code",
      "metadata": {
        "id": "SKu0v3L3LJ-U"
      },
      "source": [
        "df_val = df_train.sample(frac=0.2)\n",
        "df_train = df_train.drop(df_val.index)"
      ],
      "execution_count": null,
      "outputs": []
    },
    {
      "cell_type": "code",
      "metadata": {
        "id": "ChgaACjZFqfu"
      },
      "source": [
        "features = [x for x in df_train.keys() if x not in [ 'PatientID','Progression free survival', 'Progression']]\n",
        "device = torch.device(\"cuda\" if torch.cuda.is_available() else 'cpu')\n",
        "\n",
        "x_train = np.zeros((len(df_train), len(features)))\n",
        "for i, f in enumerate(features):\n",
        "  x_train[:, i] = df_train[f]"
      ],
      "execution_count": null,
      "outputs": []
    },
    {
      "cell_type": "code",
      "metadata": {
        "id": "maZv88GuF6kZ"
      },
      "source": [
        "features = [x for x in df_val.keys() if x not in ['PatientID', 'Progression free survival', 'Progression']]\n",
        "device = torch.device(\"cuda\" if torch.cuda.is_available() else 'cpu')\n",
        "\n",
        "x_val = np.zeros((len(df_val), len(features)))\n",
        "for i, f in enumerate(features):\n",
        "  x_val[:, i] = df_val[f]"
      ],
      "execution_count": null,
      "outputs": []
    },
    {
      "cell_type": "code",
      "metadata": {
        "id": "Lxb-HKZzJGP8"
      },
      "source": [
        "features = [x for x in TEST.keys() if x not in ['PatientID']]\n",
        "device = torch.device(\"cuda\" if torch.cuda.is_available() else 'cpu')\n",
        "\n",
        "x_test = np.zeros((len(TEST), len(features)))\n",
        "for i, f in enumerate(features):\n",
        "  x_test[:, i] = TEST[f]"
      ],
      "execution_count": null,
      "outputs": []
    },
    {
      "cell_type": "code",
      "metadata": {
        "id": "AlUCTWOrklq5"
      },
      "source": [
        "x_train = np.array(x_train.astype('float32'))\n",
        "x_val = np.array(x_val.astype('float32'))\n",
        "x_test = np.array(x_test.astype('float32'))"
      ],
      "execution_count": null,
      "outputs": []
    },
    {
      "cell_type": "code",
      "metadata": {
        "id": "pObF11ynM9gQ"
      },
      "source": [
        "times_val = df_val['Progression free survival'].values\n",
        "events_val = df_val['Progression'].values\n",
        "y_val = (times_val, events_val)\n",
        "\n",
        "\n",
        "times_train = df_train['Progression free survival'].values\n",
        "events_train = df_train['Progression'].values\n",
        "y_train = (times_train, events_train)"
      ],
      "execution_count": null,
      "outputs": []
    },
    {
      "cell_type": "markdown",
      "metadata": {
        "id": "BC3bDM8HJ_Lk"
      },
      "source": [
        "# **2. Model Training** "
      ]
    },
    {
      "cell_type": "markdown",
      "metadata": {
        "id": "IiLkxQWi3eQ8"
      },
      "source": [
        "## **Random Survival Forest**"
      ]
    },
    {
      "cell_type": "code",
      "metadata": {
        "id": "3ubGQ9rslkvL"
      },
      "source": [
        "from xgbse.converters import convert_to_structured\n",
        "\n",
        "Yt = convert_to_structured(x_train.iloc[:,-1], x_train.iloc[:,-2])"
      ],
      "execution_count": null,
      "outputs": []
    },
    {
      "cell_type": "code",
      "metadata": {
        "colab": {
          "base_uri": "https://localhost:8080/"
        },
        "id": "-xpCAiOch4vi",
        "outputId": "0ccd204c-aa64-4bc4-abb7-9be5657c076d"
      },
      "source": [
        "from sksurv.ensemble import RandomSurvivalForest\n",
        "from sklearn.model_selection import cross_validate\n",
        "params = {'min_samples_leaf': 1, 'min_samples_split': 10, 'n_estimators': 10}\n",
        "rsf = RandomSurvivalForest(n_estimators = params['n_estimators'],\n",
        "                           min_samples_split = params['min_samples_split'],\n",
        "                           min_samples_leaf = params['min_samples_leaf'],\n",
        "                           max_features=\"sqrt\",\n",
        "                           n_jobs=-1\n",
        "                           )\n",
        "print(cross_validate(rsf, x_train, Yt, cv=5))"
      ],
      "execution_count": null,
      "outputs": [
        {
          "output_type": "stream",
          "name": "stdout",
          "text": [
            "{'fit_time': array([0.0458045 , 0.0399332 , 0.04328966, 0.0432303 , 0.03729463]), 'score_time': array([0.10378766, 0.10326719, 0.10326123, 0.10340166, 0.10331011]), 'test_score': array([0.6090535 , 0.4691358 , 0.63225806, 0.50816993, 0.76666667])}\n"
          ]
        }
      ]
    },
    {
      "cell_type": "markdown",
      "metadata": {
        "id": "gmZW9QxabKnC"
      },
      "source": [
        "# **CoxPH Survival**"
      ]
    },
    {
      "cell_type": "code",
      "metadata": {
        "id": "HfrnPvwG2B8y"
      },
      "source": [
        "from lifelines import CoxPHFitter, WeibullAFTFitter , LogNormalAFTFitter, LogLogisticAFTFitter , PiecewiseExponentialRegressionFitter\n"
      ],
      "execution_count": null,
      "outputs": []
    },
    {
      "cell_type": "code",
      "metadata": {
        "id": "i6RZGRmq5vbM"
      },
      "source": [
        "train_df=[]\n",
        "yt = pd.DataFrame(y_train).transpose()\n",
        "ytrain = yt.set_axis(['Progression free survival', 'Progression'], axis=1, inplace=False)\n",
        "train_df = pd.merge(pd.DataFrame(x_train),ytrain, left_index=True, right_index=True)\n",
        "\n",
        "yv = pd.DataFrame(y_val).transpose()\n",
        "yval = yv.set_axis(['Progression free survival', 'Progression'], axis=1, inplace=False)\n",
        "val_df = pd.merge(pd.DataFrame(x_val),yval, left_index=True, right_index=True)"
      ],
      "execution_count": null,
      "outputs": []
    },
    {
      "cell_type": "code",
      "metadata": {
        "colab": {
          "base_uri": "https://localhost:8080/",
          "height": 1000
        },
        "id": "TVznBy9j2HiB",
        "outputId": "82e7060f-1c65-4a5b-c62c-3a558def1a19"
      },
      "source": [
        "cph10 =  CoxPHFitter().fit(train_df,duration_col = 'Progression free survival', event_col='Progression') \n",
        "cph10.print_summary()\n"
      ],
      "execution_count": null,
      "outputs": [
        {
          "output_type": "display_data",
          "data": {
            "text/latex": "\\begin{tabular}{lrrrrrrrrrr}\n\\toprule\n{} &  coef &  exp(coef) &  se(coef) &  coef lower 95\\% &  coef upper 95\\% &  exp(coef) lower 95\\% &  exp(coef) upper 95\\% &     z &    p &  -log2(p) \\\\\ncovariate &       &            &           &                 &                 &                      &                      &       &      &           \\\\\n\\midrule\n0         &  0.02 &       1.02 &      0.03 &           -0.03 &            0.07 &                 0.97 &                 1.08 &  0.70 & 0.49 &      1.04 \\\\\n1         & -0.94 &       0.39 &      1.12 &           -3.14 &            1.25 &                 0.04 &                 3.49 & -0.84 & 0.40 &      1.33 \\\\\n2         & -0.60 &       0.55 &      0.76 &           -2.09 &            0.89 &                 0.12 &                 2.44 & -0.79 & 0.43 &      1.22 \\\\\n3         &  1.60 &       4.94 &      0.96 &           -0.29 &            3.49 &                 0.75 &                32.75 &  1.66 & 0.10 &      3.36 \\\\\n4         &  1.04 &       2.82 &      0.91 &           -0.75 &            2.83 &                 0.47 &                16.90 &  1.13 & 0.26 &      1.96 \\\\\n5         & -0.40 &       0.67 &      1.22 &           -2.78 &            1.98 &                 0.06 &                 7.24 & -0.33 & 0.74 &      0.43 \\\\\n6         & -2.16 &       0.12 &      1.07 &           -4.25 &           -0.06 &                 0.01 &                 0.94 & -2.02 & 0.04 &      4.52 \\\\\n7         &  1.95 &       7.01 &      0.90 &            0.18 &            3.72 &                 1.19 &                41.16 &  2.16 & 0.03 &      5.01 \\\\\n8         & -1.09 &       0.33 &      0.59 &           -2.26 &            0.07 &                 0.10 &                 1.07 & -1.84 & 0.07 &      3.94 \\\\\n9         & -0.13 &       0.88 &      0.12 &           -0.36 &            0.10 &                 0.70 &                 1.11 & -1.10 & 0.27 &      1.89 \\\\\n10        &  0.01 &       1.01 &      0.17 &           -0.33 &            0.35 &                 0.72 &                 1.42 &  0.04 & 0.97 &      0.04 \\\\\n11        &  0.40 &       1.49 &      0.17 &            0.07 &            0.72 &                 1.07 &                 2.06 &  2.38 & 0.02 &      5.85 \\\\\n12        & -0.19 &       0.83 &      0.15 &           -0.47 &            0.10 &                 0.62 &                 1.10 & -1.29 & 0.20 &      2.34 \\\\\n13        &  0.12 &       1.13 &      0.21 &           -0.29 &            0.54 &                 0.75 &                 1.71 &  0.57 & 0.57 &      0.82 \\\\\n14        & -0.24 &       0.78 &      0.29 &           -0.81 &            0.33 &                 0.44 &                 1.38 & -0.84 & 0.40 &      1.32 \\\\\n15        & -0.02 &       0.98 &      0.27 &           -0.54 &            0.51 &                 0.58 &                 1.67 & -0.06 & 0.95 &      0.07 \\\\\n16        &  0.30 &       1.36 &      0.17 &           -0.04 &            0.64 &                 0.96 &                 1.91 &  1.75 & 0.08 &      3.65 \\\\\n17        & -0.30 &       0.74 &      0.17 &           -0.64 &            0.04 &                 0.53 &                 1.04 & -1.75 & 0.08 &      3.63 \\\\\n18        &  0.01 &       1.01 &      0.15 &           -0.29 &            0.31 &                 0.75 &                 1.36 &  0.08 & 0.94 &      0.09 \\\\\n19        & -0.12 &       0.88 &      0.20 &           -0.51 &            0.26 &                 0.60 &                 1.29 & -0.64 & 0.52 &      0.94 \\\\\n20        &  0.14 &       1.15 &      0.15 &           -0.15 &            0.43 &                 0.86 &                 1.53 &  0.97 & 0.33 &      1.58 \\\\\n21        &  0.38 &       1.46 &      0.20 &           -0.02 &            0.78 &                 0.98 &                 2.17 &  1.86 & 0.06 &      4.00 \\\\\n22        & -0.15 &       0.86 &      0.25 &           -0.63 &            0.33 &                 0.53 &                 1.39 & -0.60 & 0.55 &      0.87 \\\\\n23        &  0.18 &       1.20 &      0.26 &           -0.32 &            0.68 &                 0.72 &                 1.98 &  0.70 & 0.49 &      1.04 \\\\\n24        & -0.19 &       0.82 &      0.26 &           -0.70 &            0.31 &                 0.50 &                 1.36 & -0.76 & 0.45 &      1.16 \\\\\n25        &  0.09 &       1.10 &      0.15 &           -0.20 &            0.39 &                 0.82 &                 1.48 &  0.62 & 0.53 &      0.91 \\\\\n26        & -0.23 &       0.80 &      0.21 &           -0.64 &            0.18 &                 0.53 &                 1.20 & -1.10 & 0.27 &      1.88 \\\\\n27        &  0.25 &       1.28 &      0.27 &           -0.28 &            0.77 &                 0.76 &                 2.16 &  0.92 & 0.36 &      1.48 \\\\\n28        & -0.37 &       0.69 &      0.20 &           -0.78 &            0.03 &                 0.46 &                 1.03 & -1.83 & 0.07 &      3.88 \\\\\n29        &  0.52 &       1.69 &      0.12 &            0.30 &            0.75 &                 1.35 &                 2.12 &  4.53 & 0.00 &     17.34 \\\\\n30        & -0.50 &       0.61 &      0.18 &           -0.85 &           -0.14 &                 0.43 &                 0.87 & -2.74 & 0.01 &      7.33 \\\\\n31        &  0.67 &       1.96 &      0.19 &            0.30 &            1.04 &                 1.35 &                 2.83 &  3.56 & 0.00 &     11.39 \\\\\n32        &  0.12 &       1.13 &      0.13 &           -0.13 &            0.37 &                 0.88 &                 1.45 &  0.96 & 0.34 &      1.58 \\\\\n33        & -0.56 &       0.57 &      0.20 &           -0.95 &           -0.18 &                 0.39 &                 0.84 & -2.85 & 0.00 &      7.84 \\\\\n34        &  0.19 &       1.21 &      0.18 &           -0.16 &            0.55 &                 0.85 &                 1.73 &  1.07 & 0.29 &      1.81 \\\\\n35        & -0.12 &       0.88 &      0.20 &           -0.52 &            0.27 &                 0.59 &                 1.31 & -0.62 & 0.54 &      0.89 \\\\\n36        &  0.21 &       1.23 &      0.20 &           -0.18 &            0.60 &                 0.83 &                 1.81 &  1.03 & 0.30 &      1.73 \\\\\n37        & -0.26 &       0.77 &      0.16 &           -0.58 &            0.06 &                 0.56 &                 1.07 & -1.57 & 0.12 &      3.10 \\\\\n38        &  0.47 &       1.60 &      0.20 &            0.07 &            0.86 &                 1.08 &                 2.37 &  2.33 & 0.02 &      5.66 \\\\\n39        & -0.29 &       0.75 &      0.18 &           -0.65 &            0.06 &                 0.52 &                 1.06 & -1.62 & 0.10 &      3.26 \\\\\n40        &  0.25 &       1.29 &      0.15 &           -0.04 &            0.54 &                 0.96 &                 1.72 &  1.71 & 0.09 &      3.51 \\\\\n41        &  0.10 &       1.11 &      0.18 &           -0.25 &            0.45 &                 0.78 &                 1.57 &  0.57 & 0.57 &      0.82 \\\\\n42        &  0.10 &       1.11 &      0.20 &           -0.29 &            0.50 &                 0.75 &                 1.64 &  0.52 & 0.60 &      0.73 \\\\\n43        & -0.50 &       0.61 &      0.22 &           -0.93 &           -0.08 &                 0.40 &                 0.93 & -2.31 & 0.02 &      5.58 \\\\\n44        &  0.15 &       1.17 &      0.13 &           -0.10 &            0.41 &                 0.90 &                 1.50 &  1.18 & 0.24 &      2.08 \\\\\n45        &  0.07 &       1.08 &      0.09 &           -0.09 &            0.24 &                 0.91 &                 1.27 &  0.87 & 0.38 &      1.38 \\\\\n46        & -0.02 &       0.98 &      0.10 &           -0.22 &            0.18 &                 0.80 &                 1.20 & -0.18 & 0.86 &      0.22 \\\\\n47        &  0.59 &       1.81 &      1.33 &           -2.02 &            3.21 &                 0.13 &                24.66 &  0.44 & 0.66 &      0.60 \\\\\n48        &  0.02 &       1.02 &      0.06 &           -0.09 &            0.13 &                 0.92 &                 1.14 &  0.42 & 0.68 &      0.56 \\\\\n49        & -1.68 &       0.19 &      2.88 &           -7.32 &            3.97 &                 0.00 &                52.97 & -0.58 & 0.56 &      0.84 \\\\\n50        & -0.03 &       0.97 &      0.04 &           -0.10 &            0.04 &                 0.91 &                 1.04 & -0.77 & 0.44 &      1.18 \\\\\n51        &  0.08 &       1.09 &      0.04 &            0.01 &            0.16 &                 1.01 &                 1.17 &  2.14 & 0.03 &      4.95 \\\\\n53        & -1.83 &       0.16 &      0.82 &           -3.43 &           -0.23 &                 0.03 &                 0.79 & -2.24 & 0.02 &      5.33 \\\\\n54        &  0.21 &       1.24 &      0.11 &           -0.00 &            0.43 &                 1.00 &                 1.54 &  1.94 & 0.05 &      4.27 \\\\\n56        & -2.13 &       0.12 &      1.53 &           -5.13 &            0.86 &                 0.01 &                 2.36 & -1.40 & 0.16 &      2.62 \\\\\n\\bottomrule\n\\end{tabular}\n",
            "text/html": [
              "<div>\n",
              "<style scoped>\n",
              "    .dataframe tbody tr th:only-of-type {\n",
              "        vertical-align: middle;\n",
              "    }\n",
              "\n",
              "    .dataframe tbody tr th {\n",
              "        vertical-align: top;\n",
              "    }\n",
              "\n",
              "    .dataframe thead th {\n",
              "        text-align: right;\n",
              "    }\n",
              "</style>\n",
              "<table border=\"1\" class=\"dataframe\">\n",
              "  <tbody>\n",
              "    <tr>\n",
              "      <th>model</th>\n",
              "      <td>lifelines.CoxPHFitter</td>\n",
              "    </tr>\n",
              "    <tr>\n",
              "      <th>duration col</th>\n",
              "      <td>'Progression free survival'</td>\n",
              "    </tr>\n",
              "    <tr>\n",
              "      <th>event col</th>\n",
              "      <td>'Progression'</td>\n",
              "    </tr>\n",
              "    <tr>\n",
              "      <th>baseline estimation</th>\n",
              "      <td>breslow</td>\n",
              "    </tr>\n",
              "    <tr>\n",
              "      <th>number of observations</th>\n",
              "      <td>178</td>\n",
              "    </tr>\n",
              "    <tr>\n",
              "      <th>number of events observed</th>\n",
              "      <td>47</td>\n",
              "    </tr>\n",
              "    <tr>\n",
              "      <th>partial log-likelihood</th>\n",
              "      <td>-177.42</td>\n",
              "    </tr>\n",
              "    <tr>\n",
              "      <th>time fit was run</th>\n",
              "      <td>2021-09-15 08:38:32 UTC</td>\n",
              "    </tr>\n",
              "  </tbody>\n",
              "</table>\n",
              "</div><table border=\"1\" class=\"dataframe\">\n",
              "  <thead>\n",
              "    <tr style=\"text-align: right;\">\n",
              "      <th style=\"min-width: 12px;\"></th>\n",
              "      <th style=\"min-width: 12px;\">coef</th>\n",
              "      <th style=\"min-width: 12px;\">exp(coef)</th>\n",
              "      <th style=\"min-width: 12px;\">se(coef)</th>\n",
              "      <th style=\"min-width: 12px;\">coef lower 95%</th>\n",
              "      <th style=\"min-width: 12px;\">coef upper 95%</th>\n",
              "      <th style=\"min-width: 12px;\">exp(coef) lower 95%</th>\n",
              "      <th style=\"min-width: 12px;\">exp(coef) upper 95%</th>\n",
              "      <th style=\"min-width: 12px;\">z</th>\n",
              "      <th style=\"min-width: 12px;\">p</th>\n",
              "      <th style=\"min-width: 12px;\">-log2(p)</th>\n",
              "    </tr>\n",
              "  </thead>\n",
              "  <tbody>\n",
              "    <tr>\n",
              "      <th>0</th>\n",
              "      <td>0.02</td>\n",
              "      <td>1.02</td>\n",
              "      <td>0.03</td>\n",
              "      <td>-0.03</td>\n",
              "      <td>0.07</td>\n",
              "      <td>0.97</td>\n",
              "      <td>1.08</td>\n",
              "      <td>0.70</td>\n",
              "      <td>0.49</td>\n",
              "      <td>1.04</td>\n",
              "    </tr>\n",
              "    <tr>\n",
              "      <th>1</th>\n",
              "      <td>-0.94</td>\n",
              "      <td>0.39</td>\n",
              "      <td>1.12</td>\n",
              "      <td>-3.14</td>\n",
              "      <td>1.25</td>\n",
              "      <td>0.04</td>\n",
              "      <td>3.49</td>\n",
              "      <td>-0.84</td>\n",
              "      <td>0.40</td>\n",
              "      <td>1.33</td>\n",
              "    </tr>\n",
              "    <tr>\n",
              "      <th>2</th>\n",
              "      <td>-0.60</td>\n",
              "      <td>0.55</td>\n",
              "      <td>0.76</td>\n",
              "      <td>-2.09</td>\n",
              "      <td>0.89</td>\n",
              "      <td>0.12</td>\n",
              "      <td>2.44</td>\n",
              "      <td>-0.79</td>\n",
              "      <td>0.43</td>\n",
              "      <td>1.22</td>\n",
              "    </tr>\n",
              "    <tr>\n",
              "      <th>3</th>\n",
              "      <td>1.60</td>\n",
              "      <td>4.94</td>\n",
              "      <td>0.96</td>\n",
              "      <td>-0.29</td>\n",
              "      <td>3.49</td>\n",
              "      <td>0.75</td>\n",
              "      <td>32.75</td>\n",
              "      <td>1.66</td>\n",
              "      <td>0.10</td>\n",
              "      <td>3.36</td>\n",
              "    </tr>\n",
              "    <tr>\n",
              "      <th>4</th>\n",
              "      <td>1.04</td>\n",
              "      <td>2.82</td>\n",
              "      <td>0.91</td>\n",
              "      <td>-0.75</td>\n",
              "      <td>2.83</td>\n",
              "      <td>0.47</td>\n",
              "      <td>16.90</td>\n",
              "      <td>1.13</td>\n",
              "      <td>0.26</td>\n",
              "      <td>1.96</td>\n",
              "    </tr>\n",
              "    <tr>\n",
              "      <th>5</th>\n",
              "      <td>-0.40</td>\n",
              "      <td>0.67</td>\n",
              "      <td>1.22</td>\n",
              "      <td>-2.78</td>\n",
              "      <td>1.98</td>\n",
              "      <td>0.06</td>\n",
              "      <td>7.24</td>\n",
              "      <td>-0.33</td>\n",
              "      <td>0.74</td>\n",
              "      <td>0.43</td>\n",
              "    </tr>\n",
              "    <tr>\n",
              "      <th>6</th>\n",
              "      <td>-2.16</td>\n",
              "      <td>0.12</td>\n",
              "      <td>1.07</td>\n",
              "      <td>-4.25</td>\n",
              "      <td>-0.06</td>\n",
              "      <td>0.01</td>\n",
              "      <td>0.94</td>\n",
              "      <td>-2.02</td>\n",
              "      <td>0.04</td>\n",
              "      <td>4.52</td>\n",
              "    </tr>\n",
              "    <tr>\n",
              "      <th>7</th>\n",
              "      <td>1.95</td>\n",
              "      <td>7.01</td>\n",
              "      <td>0.90</td>\n",
              "      <td>0.18</td>\n",
              "      <td>3.72</td>\n",
              "      <td>1.19</td>\n",
              "      <td>41.16</td>\n",
              "      <td>2.16</td>\n",
              "      <td>0.03</td>\n",
              "      <td>5.01</td>\n",
              "    </tr>\n",
              "    <tr>\n",
              "      <th>8</th>\n",
              "      <td>-1.09</td>\n",
              "      <td>0.33</td>\n",
              "      <td>0.59</td>\n",
              "      <td>-2.26</td>\n",
              "      <td>0.07</td>\n",
              "      <td>0.10</td>\n",
              "      <td>1.07</td>\n",
              "      <td>-1.84</td>\n",
              "      <td>0.07</td>\n",
              "      <td>3.94</td>\n",
              "    </tr>\n",
              "    <tr>\n",
              "      <th>9</th>\n",
              "      <td>-0.13</td>\n",
              "      <td>0.88</td>\n",
              "      <td>0.12</td>\n",
              "      <td>-0.36</td>\n",
              "      <td>0.10</td>\n",
              "      <td>0.70</td>\n",
              "      <td>1.11</td>\n",
              "      <td>-1.10</td>\n",
              "      <td>0.27</td>\n",
              "      <td>1.89</td>\n",
              "    </tr>\n",
              "    <tr>\n",
              "      <th>10</th>\n",
              "      <td>0.01</td>\n",
              "      <td>1.01</td>\n",
              "      <td>0.17</td>\n",
              "      <td>-0.33</td>\n",
              "      <td>0.35</td>\n",
              "      <td>0.72</td>\n",
              "      <td>1.42</td>\n",
              "      <td>0.04</td>\n",
              "      <td>0.97</td>\n",
              "      <td>0.04</td>\n",
              "    </tr>\n",
              "    <tr>\n",
              "      <th>11</th>\n",
              "      <td>0.40</td>\n",
              "      <td>1.49</td>\n",
              "      <td>0.17</td>\n",
              "      <td>0.07</td>\n",
              "      <td>0.72</td>\n",
              "      <td>1.07</td>\n",
              "      <td>2.06</td>\n",
              "      <td>2.38</td>\n",
              "      <td>0.02</td>\n",
              "      <td>5.85</td>\n",
              "    </tr>\n",
              "    <tr>\n",
              "      <th>12</th>\n",
              "      <td>-0.19</td>\n",
              "      <td>0.83</td>\n",
              "      <td>0.15</td>\n",
              "      <td>-0.47</td>\n",
              "      <td>0.10</td>\n",
              "      <td>0.62</td>\n",
              "      <td>1.10</td>\n",
              "      <td>-1.29</td>\n",
              "      <td>0.20</td>\n",
              "      <td>2.34</td>\n",
              "    </tr>\n",
              "    <tr>\n",
              "      <th>13</th>\n",
              "      <td>0.12</td>\n",
              "      <td>1.13</td>\n",
              "      <td>0.21</td>\n",
              "      <td>-0.29</td>\n",
              "      <td>0.54</td>\n",
              "      <td>0.75</td>\n",
              "      <td>1.71</td>\n",
              "      <td>0.57</td>\n",
              "      <td>0.57</td>\n",
              "      <td>0.82</td>\n",
              "    </tr>\n",
              "    <tr>\n",
              "      <th>14</th>\n",
              "      <td>-0.24</td>\n",
              "      <td>0.78</td>\n",
              "      <td>0.29</td>\n",
              "      <td>-0.81</td>\n",
              "      <td>0.33</td>\n",
              "      <td>0.44</td>\n",
              "      <td>1.38</td>\n",
              "      <td>-0.84</td>\n",
              "      <td>0.40</td>\n",
              "      <td>1.32</td>\n",
              "    </tr>\n",
              "    <tr>\n",
              "      <th>15</th>\n",
              "      <td>-0.02</td>\n",
              "      <td>0.98</td>\n",
              "      <td>0.27</td>\n",
              "      <td>-0.54</td>\n",
              "      <td>0.51</td>\n",
              "      <td>0.58</td>\n",
              "      <td>1.67</td>\n",
              "      <td>-0.06</td>\n",
              "      <td>0.95</td>\n",
              "      <td>0.07</td>\n",
              "    </tr>\n",
              "    <tr>\n",
              "      <th>16</th>\n",
              "      <td>0.30</td>\n",
              "      <td>1.36</td>\n",
              "      <td>0.17</td>\n",
              "      <td>-0.04</td>\n",
              "      <td>0.64</td>\n",
              "      <td>0.96</td>\n",
              "      <td>1.91</td>\n",
              "      <td>1.75</td>\n",
              "      <td>0.08</td>\n",
              "      <td>3.65</td>\n",
              "    </tr>\n",
              "    <tr>\n",
              "      <th>17</th>\n",
              "      <td>-0.30</td>\n",
              "      <td>0.74</td>\n",
              "      <td>0.17</td>\n",
              "      <td>-0.64</td>\n",
              "      <td>0.04</td>\n",
              "      <td>0.53</td>\n",
              "      <td>1.04</td>\n",
              "      <td>-1.75</td>\n",
              "      <td>0.08</td>\n",
              "      <td>3.63</td>\n",
              "    </tr>\n",
              "    <tr>\n",
              "      <th>18</th>\n",
              "      <td>0.01</td>\n",
              "      <td>1.01</td>\n",
              "      <td>0.15</td>\n",
              "      <td>-0.29</td>\n",
              "      <td>0.31</td>\n",
              "      <td>0.75</td>\n",
              "      <td>1.36</td>\n",
              "      <td>0.08</td>\n",
              "      <td>0.94</td>\n",
              "      <td>0.09</td>\n",
              "    </tr>\n",
              "    <tr>\n",
              "      <th>19</th>\n",
              "      <td>-0.12</td>\n",
              "      <td>0.88</td>\n",
              "      <td>0.20</td>\n",
              "      <td>-0.51</td>\n",
              "      <td>0.26</td>\n",
              "      <td>0.60</td>\n",
              "      <td>1.29</td>\n",
              "      <td>-0.64</td>\n",
              "      <td>0.52</td>\n",
              "      <td>0.94</td>\n",
              "    </tr>\n",
              "    <tr>\n",
              "      <th>20</th>\n",
              "      <td>0.14</td>\n",
              "      <td>1.15</td>\n",
              "      <td>0.15</td>\n",
              "      <td>-0.15</td>\n",
              "      <td>0.43</td>\n",
              "      <td>0.86</td>\n",
              "      <td>1.53</td>\n",
              "      <td>0.97</td>\n",
              "      <td>0.33</td>\n",
              "      <td>1.58</td>\n",
              "    </tr>\n",
              "    <tr>\n",
              "      <th>21</th>\n",
              "      <td>0.38</td>\n",
              "      <td>1.46</td>\n",
              "      <td>0.20</td>\n",
              "      <td>-0.02</td>\n",
              "      <td>0.78</td>\n",
              "      <td>0.98</td>\n",
              "      <td>2.17</td>\n",
              "      <td>1.86</td>\n",
              "      <td>0.06</td>\n",
              "      <td>4.00</td>\n",
              "    </tr>\n",
              "    <tr>\n",
              "      <th>22</th>\n",
              "      <td>-0.15</td>\n",
              "      <td>0.86</td>\n",
              "      <td>0.25</td>\n",
              "      <td>-0.63</td>\n",
              "      <td>0.33</td>\n",
              "      <td>0.53</td>\n",
              "      <td>1.39</td>\n",
              "      <td>-0.60</td>\n",
              "      <td>0.55</td>\n",
              "      <td>0.87</td>\n",
              "    </tr>\n",
              "    <tr>\n",
              "      <th>23</th>\n",
              "      <td>0.18</td>\n",
              "      <td>1.20</td>\n",
              "      <td>0.26</td>\n",
              "      <td>-0.32</td>\n",
              "      <td>0.68</td>\n",
              "      <td>0.72</td>\n",
              "      <td>1.98</td>\n",
              "      <td>0.70</td>\n",
              "      <td>0.49</td>\n",
              "      <td>1.04</td>\n",
              "    </tr>\n",
              "    <tr>\n",
              "      <th>24</th>\n",
              "      <td>-0.19</td>\n",
              "      <td>0.82</td>\n",
              "      <td>0.26</td>\n",
              "      <td>-0.70</td>\n",
              "      <td>0.31</td>\n",
              "      <td>0.50</td>\n",
              "      <td>1.36</td>\n",
              "      <td>-0.76</td>\n",
              "      <td>0.45</td>\n",
              "      <td>1.16</td>\n",
              "    </tr>\n",
              "    <tr>\n",
              "      <th>25</th>\n",
              "      <td>0.09</td>\n",
              "      <td>1.10</td>\n",
              "      <td>0.15</td>\n",
              "      <td>-0.20</td>\n",
              "      <td>0.39</td>\n",
              "      <td>0.82</td>\n",
              "      <td>1.48</td>\n",
              "      <td>0.62</td>\n",
              "      <td>0.53</td>\n",
              "      <td>0.91</td>\n",
              "    </tr>\n",
              "    <tr>\n",
              "      <th>26</th>\n",
              "      <td>-0.23</td>\n",
              "      <td>0.80</td>\n",
              "      <td>0.21</td>\n",
              "      <td>-0.64</td>\n",
              "      <td>0.18</td>\n",
              "      <td>0.53</td>\n",
              "      <td>1.20</td>\n",
              "      <td>-1.10</td>\n",
              "      <td>0.27</td>\n",
              "      <td>1.88</td>\n",
              "    </tr>\n",
              "    <tr>\n",
              "      <th>27</th>\n",
              "      <td>0.25</td>\n",
              "      <td>1.28</td>\n",
              "      <td>0.27</td>\n",
              "      <td>-0.28</td>\n",
              "      <td>0.77</td>\n",
              "      <td>0.76</td>\n",
              "      <td>2.16</td>\n",
              "      <td>0.92</td>\n",
              "      <td>0.36</td>\n",
              "      <td>1.48</td>\n",
              "    </tr>\n",
              "    <tr>\n",
              "      <th>28</th>\n",
              "      <td>-0.37</td>\n",
              "      <td>0.69</td>\n",
              "      <td>0.20</td>\n",
              "      <td>-0.78</td>\n",
              "      <td>0.03</td>\n",
              "      <td>0.46</td>\n",
              "      <td>1.03</td>\n",
              "      <td>-1.83</td>\n",
              "      <td>0.07</td>\n",
              "      <td>3.88</td>\n",
              "    </tr>\n",
              "    <tr>\n",
              "      <th>29</th>\n",
              "      <td>0.52</td>\n",
              "      <td>1.69</td>\n",
              "      <td>0.12</td>\n",
              "      <td>0.30</td>\n",
              "      <td>0.75</td>\n",
              "      <td>1.35</td>\n",
              "      <td>2.12</td>\n",
              "      <td>4.53</td>\n",
              "      <td>&lt;0.005</td>\n",
              "      <td>17.34</td>\n",
              "    </tr>\n",
              "    <tr>\n",
              "      <th>30</th>\n",
              "      <td>-0.50</td>\n",
              "      <td>0.61</td>\n",
              "      <td>0.18</td>\n",
              "      <td>-0.85</td>\n",
              "      <td>-0.14</td>\n",
              "      <td>0.43</td>\n",
              "      <td>0.87</td>\n",
              "      <td>-2.74</td>\n",
              "      <td>0.01</td>\n",
              "      <td>7.33</td>\n",
              "    </tr>\n",
              "    <tr>\n",
              "      <th>31</th>\n",
              "      <td>0.67</td>\n",
              "      <td>1.96</td>\n",
              "      <td>0.19</td>\n",
              "      <td>0.30</td>\n",
              "      <td>1.04</td>\n",
              "      <td>1.35</td>\n",
              "      <td>2.83</td>\n",
              "      <td>3.56</td>\n",
              "      <td>&lt;0.005</td>\n",
              "      <td>11.39</td>\n",
              "    </tr>\n",
              "    <tr>\n",
              "      <th>32</th>\n",
              "      <td>0.12</td>\n",
              "      <td>1.13</td>\n",
              "      <td>0.13</td>\n",
              "      <td>-0.13</td>\n",
              "      <td>0.37</td>\n",
              "      <td>0.88</td>\n",
              "      <td>1.45</td>\n",
              "      <td>0.96</td>\n",
              "      <td>0.34</td>\n",
              "      <td>1.58</td>\n",
              "    </tr>\n",
              "    <tr>\n",
              "      <th>33</th>\n",
              "      <td>-0.56</td>\n",
              "      <td>0.57</td>\n",
              "      <td>0.20</td>\n",
              "      <td>-0.95</td>\n",
              "      <td>-0.18</td>\n",
              "      <td>0.39</td>\n",
              "      <td>0.84</td>\n",
              "      <td>-2.85</td>\n",
              "      <td>&lt;0.005</td>\n",
              "      <td>7.84</td>\n",
              "    </tr>\n",
              "    <tr>\n",
              "      <th>34</th>\n",
              "      <td>0.19</td>\n",
              "      <td>1.21</td>\n",
              "      <td>0.18</td>\n",
              "      <td>-0.16</td>\n",
              "      <td>0.55</td>\n",
              "      <td>0.85</td>\n",
              "      <td>1.73</td>\n",
              "      <td>1.07</td>\n",
              "      <td>0.29</td>\n",
              "      <td>1.81</td>\n",
              "    </tr>\n",
              "    <tr>\n",
              "      <th>35</th>\n",
              "      <td>-0.12</td>\n",
              "      <td>0.88</td>\n",
              "      <td>0.20</td>\n",
              "      <td>-0.52</td>\n",
              "      <td>0.27</td>\n",
              "      <td>0.59</td>\n",
              "      <td>1.31</td>\n",
              "      <td>-0.62</td>\n",
              "      <td>0.54</td>\n",
              "      <td>0.89</td>\n",
              "    </tr>\n",
              "    <tr>\n",
              "      <th>36</th>\n",
              "      <td>0.21</td>\n",
              "      <td>1.23</td>\n",
              "      <td>0.20</td>\n",
              "      <td>-0.18</td>\n",
              "      <td>0.60</td>\n",
              "      <td>0.83</td>\n",
              "      <td>1.81</td>\n",
              "      <td>1.03</td>\n",
              "      <td>0.30</td>\n",
              "      <td>1.73</td>\n",
              "    </tr>\n",
              "    <tr>\n",
              "      <th>37</th>\n",
              "      <td>-0.26</td>\n",
              "      <td>0.77</td>\n",
              "      <td>0.16</td>\n",
              "      <td>-0.58</td>\n",
              "      <td>0.06</td>\n",
              "      <td>0.56</td>\n",
              "      <td>1.07</td>\n",
              "      <td>-1.57</td>\n",
              "      <td>0.12</td>\n",
              "      <td>3.10</td>\n",
              "    </tr>\n",
              "    <tr>\n",
              "      <th>38</th>\n",
              "      <td>0.47</td>\n",
              "      <td>1.60</td>\n",
              "      <td>0.20</td>\n",
              "      <td>0.07</td>\n",
              "      <td>0.86</td>\n",
              "      <td>1.08</td>\n",
              "      <td>2.37</td>\n",
              "      <td>2.33</td>\n",
              "      <td>0.02</td>\n",
              "      <td>5.66</td>\n",
              "    </tr>\n",
              "    <tr>\n",
              "      <th>39</th>\n",
              "      <td>-0.29</td>\n",
              "      <td>0.75</td>\n",
              "      <td>0.18</td>\n",
              "      <td>-0.65</td>\n",
              "      <td>0.06</td>\n",
              "      <td>0.52</td>\n",
              "      <td>1.06</td>\n",
              "      <td>-1.62</td>\n",
              "      <td>0.10</td>\n",
              "      <td>3.26</td>\n",
              "    </tr>\n",
              "    <tr>\n",
              "      <th>40</th>\n",
              "      <td>0.25</td>\n",
              "      <td>1.29</td>\n",
              "      <td>0.15</td>\n",
              "      <td>-0.04</td>\n",
              "      <td>0.54</td>\n",
              "      <td>0.96</td>\n",
              "      <td>1.72</td>\n",
              "      <td>1.71</td>\n",
              "      <td>0.09</td>\n",
              "      <td>3.51</td>\n",
              "    </tr>\n",
              "    <tr>\n",
              "      <th>41</th>\n",
              "      <td>0.10</td>\n",
              "      <td>1.11</td>\n",
              "      <td>0.18</td>\n",
              "      <td>-0.25</td>\n",
              "      <td>0.45</td>\n",
              "      <td>0.78</td>\n",
              "      <td>1.57</td>\n",
              "      <td>0.57</td>\n",
              "      <td>0.57</td>\n",
              "      <td>0.82</td>\n",
              "    </tr>\n",
              "    <tr>\n",
              "      <th>42</th>\n",
              "      <td>0.10</td>\n",
              "      <td>1.11</td>\n",
              "      <td>0.20</td>\n",
              "      <td>-0.29</td>\n",
              "      <td>0.50</td>\n",
              "      <td>0.75</td>\n",
              "      <td>1.64</td>\n",
              "      <td>0.52</td>\n",
              "      <td>0.60</td>\n",
              "      <td>0.73</td>\n",
              "    </tr>\n",
              "    <tr>\n",
              "      <th>43</th>\n",
              "      <td>-0.50</td>\n",
              "      <td>0.61</td>\n",
              "      <td>0.22</td>\n",
              "      <td>-0.93</td>\n",
              "      <td>-0.08</td>\n",
              "      <td>0.40</td>\n",
              "      <td>0.93</td>\n",
              "      <td>-2.31</td>\n",
              "      <td>0.02</td>\n",
              "      <td>5.58</td>\n",
              "    </tr>\n",
              "    <tr>\n",
              "      <th>44</th>\n",
              "      <td>0.15</td>\n",
              "      <td>1.17</td>\n",
              "      <td>0.13</td>\n",
              "      <td>-0.10</td>\n",
              "      <td>0.41</td>\n",
              "      <td>0.90</td>\n",
              "      <td>1.50</td>\n",
              "      <td>1.18</td>\n",
              "      <td>0.24</td>\n",
              "      <td>2.08</td>\n",
              "    </tr>\n",
              "    <tr>\n",
              "      <th>45</th>\n",
              "      <td>0.07</td>\n",
              "      <td>1.08</td>\n",
              "      <td>0.09</td>\n",
              "      <td>-0.09</td>\n",
              "      <td>0.24</td>\n",
              "      <td>0.91</td>\n",
              "      <td>1.27</td>\n",
              "      <td>0.87</td>\n",
              "      <td>0.38</td>\n",
              "      <td>1.38</td>\n",
              "    </tr>\n",
              "    <tr>\n",
              "      <th>46</th>\n",
              "      <td>-0.02</td>\n",
              "      <td>0.98</td>\n",
              "      <td>0.10</td>\n",
              "      <td>-0.22</td>\n",
              "      <td>0.18</td>\n",
              "      <td>0.80</td>\n",
              "      <td>1.20</td>\n",
              "      <td>-0.18</td>\n",
              "      <td>0.86</td>\n",
              "      <td>0.22</td>\n",
              "    </tr>\n",
              "    <tr>\n",
              "      <th>47</th>\n",
              "      <td>0.59</td>\n",
              "      <td>1.81</td>\n",
              "      <td>1.33</td>\n",
              "      <td>-2.02</td>\n",
              "      <td>3.21</td>\n",
              "      <td>0.13</td>\n",
              "      <td>24.66</td>\n",
              "      <td>0.44</td>\n",
              "      <td>0.66</td>\n",
              "      <td>0.60</td>\n",
              "    </tr>\n",
              "    <tr>\n",
              "      <th>48</th>\n",
              "      <td>0.02</td>\n",
              "      <td>1.02</td>\n",
              "      <td>0.06</td>\n",
              "      <td>-0.09</td>\n",
              "      <td>0.13</td>\n",
              "      <td>0.92</td>\n",
              "      <td>1.14</td>\n",
              "      <td>0.42</td>\n",
              "      <td>0.68</td>\n",
              "      <td>0.56</td>\n",
              "    </tr>\n",
              "    <tr>\n",
              "      <th>49</th>\n",
              "      <td>-1.68</td>\n",
              "      <td>0.19</td>\n",
              "      <td>2.88</td>\n",
              "      <td>-7.32</td>\n",
              "      <td>3.97</td>\n",
              "      <td>0.00</td>\n",
              "      <td>52.97</td>\n",
              "      <td>-0.58</td>\n",
              "      <td>0.56</td>\n",
              "      <td>0.84</td>\n",
              "    </tr>\n",
              "    <tr>\n",
              "      <th>50</th>\n",
              "      <td>-0.03</td>\n",
              "      <td>0.97</td>\n",
              "      <td>0.04</td>\n",
              "      <td>-0.10</td>\n",
              "      <td>0.04</td>\n",
              "      <td>0.91</td>\n",
              "      <td>1.04</td>\n",
              "      <td>-0.77</td>\n",
              "      <td>0.44</td>\n",
              "      <td>1.18</td>\n",
              "    </tr>\n",
              "    <tr>\n",
              "      <th>51</th>\n",
              "      <td>0.08</td>\n",
              "      <td>1.09</td>\n",
              "      <td>0.04</td>\n",
              "      <td>0.01</td>\n",
              "      <td>0.16</td>\n",
              "      <td>1.01</td>\n",
              "      <td>1.17</td>\n",
              "      <td>2.14</td>\n",
              "      <td>0.03</td>\n",
              "      <td>4.95</td>\n",
              "    </tr>\n",
              "    <tr>\n",
              "      <th>53</th>\n",
              "      <td>-1.83</td>\n",
              "      <td>0.16</td>\n",
              "      <td>0.82</td>\n",
              "      <td>-3.43</td>\n",
              "      <td>-0.23</td>\n",
              "      <td>0.03</td>\n",
              "      <td>0.79</td>\n",
              "      <td>-2.24</td>\n",
              "      <td>0.02</td>\n",
              "      <td>5.33</td>\n",
              "    </tr>\n",
              "    <tr>\n",
              "      <th>54</th>\n",
              "      <td>0.21</td>\n",
              "      <td>1.24</td>\n",
              "      <td>0.11</td>\n",
              "      <td>-0.00</td>\n",
              "      <td>0.43</td>\n",
              "      <td>1.00</td>\n",
              "      <td>1.54</td>\n",
              "      <td>1.94</td>\n",
              "      <td>0.05</td>\n",
              "      <td>4.27</td>\n",
              "    </tr>\n",
              "    <tr>\n",
              "      <th>56</th>\n",
              "      <td>-2.13</td>\n",
              "      <td>0.12</td>\n",
              "      <td>1.53</td>\n",
              "      <td>-5.13</td>\n",
              "      <td>0.86</td>\n",
              "      <td>0.01</td>\n",
              "      <td>2.36</td>\n",
              "      <td>-1.40</td>\n",
              "      <td>0.16</td>\n",
              "      <td>2.62</td>\n",
              "    </tr>\n",
              "  </tbody>\n",
              "</table><br><div>\n",
              "<style scoped>\n",
              "    .dataframe tbody tr th:only-of-type {\n",
              "        vertical-align: middle;\n",
              "    }\n",
              "\n",
              "    .dataframe tbody tr th {\n",
              "        vertical-align: top;\n",
              "    }\n",
              "\n",
              "    .dataframe thead th {\n",
              "        text-align: right;\n",
              "    }\n",
              "</style>\n",
              "<table border=\"1\" class=\"dataframe\">\n",
              "  <tbody>\n",
              "    <tr>\n",
              "      <th>Concordance</th>\n",
              "      <td>0.86</td>\n",
              "    </tr>\n",
              "    <tr>\n",
              "      <th>Partial AIC</th>\n",
              "      <td>464.85</td>\n",
              "    </tr>\n",
              "    <tr>\n",
              "      <th>log-likelihood ratio test</th>\n",
              "      <td>106.56 on 55 df</td>\n",
              "    </tr>\n",
              "    <tr>\n",
              "      <th>-log2(p) of ll-ratio test</th>\n",
              "      <td>14.68</td>\n",
              "    </tr>\n",
              "  </tbody>\n",
              "</table>\n",
              "</div>"
            ],
            "text/plain": [
              "<lifelines.CoxPHFitter: fitted with 178 total observations, 131 right-censored observations>\n",
              "             duration col = 'Progression free survival'\n",
              "                event col = 'Progression'\n",
              "      baseline estimation = breslow\n",
              "   number of observations = 178\n",
              "number of events observed = 47\n",
              "   partial log-likelihood = -177.42\n",
              "         time fit was run = 2021-09-15 08:38:32 UTC\n",
              "\n",
              "---\n",
              "            coef  exp(coef)   se(coef)   coef lower 95%   coef upper 95%  exp(coef) lower 95%  exp(coef) upper 95%\n",
              "covariate                                                                                                         \n",
              "0           0.02       1.02       0.03            -0.03             0.07                 0.97                 1.08\n",
              "1          -0.94       0.39       1.12            -3.14             1.25                 0.04                 3.49\n",
              "2          -0.60       0.55       0.76            -2.09             0.89                 0.12                 2.44\n",
              "3           1.60       4.94       0.96            -0.29             3.49                 0.75                32.75\n",
              "4           1.04       2.82       0.91            -0.75             2.83                 0.47                16.90\n",
              "5          -0.40       0.67       1.22            -2.78             1.98                 0.06                 7.24\n",
              "6          -2.16       0.12       1.07            -4.25            -0.06                 0.01                 0.94\n",
              "7           1.95       7.01       0.90             0.18             3.72                 1.19                41.16\n",
              "8          -1.09       0.33       0.59            -2.26             0.07                 0.10                 1.07\n",
              "9          -0.13       0.88       0.12            -0.36             0.10                 0.70                 1.11\n",
              "10          0.01       1.01       0.17            -0.33             0.35                 0.72                 1.42\n",
              "11          0.40       1.49       0.17             0.07             0.72                 1.07                 2.06\n",
              "12         -0.19       0.83       0.15            -0.47             0.10                 0.62                 1.10\n",
              "13          0.12       1.13       0.21            -0.29             0.54                 0.75                 1.71\n",
              "14         -0.24       0.78       0.29            -0.81             0.33                 0.44                 1.38\n",
              "15         -0.02       0.98       0.27            -0.54             0.51                 0.58                 1.67\n",
              "16          0.30       1.36       0.17            -0.04             0.64                 0.96                 1.91\n",
              "17         -0.30       0.74       0.17            -0.64             0.04                 0.53                 1.04\n",
              "18          0.01       1.01       0.15            -0.29             0.31                 0.75                 1.36\n",
              "19         -0.12       0.88       0.20            -0.51             0.26                 0.60                 1.29\n",
              "20          0.14       1.15       0.15            -0.15             0.43                 0.86                 1.53\n",
              "21          0.38       1.46       0.20            -0.02             0.78                 0.98                 2.17\n",
              "22         -0.15       0.86       0.25            -0.63             0.33                 0.53                 1.39\n",
              "23          0.18       1.20       0.26            -0.32             0.68                 0.72                 1.98\n",
              "24         -0.19       0.82       0.26            -0.70             0.31                 0.50                 1.36\n",
              "25          0.09       1.10       0.15            -0.20             0.39                 0.82                 1.48\n",
              "26         -0.23       0.80       0.21            -0.64             0.18                 0.53                 1.20\n",
              "27          0.25       1.28       0.27            -0.28             0.77                 0.76                 2.16\n",
              "28         -0.37       0.69       0.20            -0.78             0.03                 0.46                 1.03\n",
              "29          0.52       1.69       0.12             0.30             0.75                 1.35                 2.12\n",
              "30         -0.50       0.61       0.18            -0.85            -0.14                 0.43                 0.87\n",
              "31          0.67       1.96       0.19             0.30             1.04                 1.35                 2.83\n",
              "32          0.12       1.13       0.13            -0.13             0.37                 0.88                 1.45\n",
              "33         -0.56       0.57       0.20            -0.95            -0.18                 0.39                 0.84\n",
              "34          0.19       1.21       0.18            -0.16             0.55                 0.85                 1.73\n",
              "35         -0.12       0.88       0.20            -0.52             0.27                 0.59                 1.31\n",
              "36          0.21       1.23       0.20            -0.18             0.60                 0.83                 1.81\n",
              "37         -0.26       0.77       0.16            -0.58             0.06                 0.56                 1.07\n",
              "38          0.47       1.60       0.20             0.07             0.86                 1.08                 2.37\n",
              "39         -0.29       0.75       0.18            -0.65             0.06                 0.52                 1.06\n",
              "40          0.25       1.29       0.15            -0.04             0.54                 0.96                 1.72\n",
              "41          0.10       1.11       0.18            -0.25             0.45                 0.78                 1.57\n",
              "42          0.10       1.11       0.20            -0.29             0.50                 0.75                 1.64\n",
              "43         -0.50       0.61       0.22            -0.93            -0.08                 0.40                 0.93\n",
              "44          0.15       1.17       0.13            -0.10             0.41                 0.90                 1.50\n",
              "45          0.07       1.08       0.09            -0.09             0.24                 0.91                 1.27\n",
              "46         -0.02       0.98       0.10            -0.22             0.18                 0.80                 1.20\n",
              "47          0.59       1.81       1.33            -2.02             3.21                 0.13                24.66\n",
              "48          0.02       1.02       0.06            -0.09             0.13                 0.92                 1.14\n",
              "49         -1.68       0.19       2.88            -7.32             3.97                 0.00                52.97\n",
              "50         -0.03       0.97       0.04            -0.10             0.04                 0.91                 1.04\n",
              "51          0.08       1.09       0.04             0.01             0.16                 1.01                 1.17\n",
              "53         -1.83       0.16       0.82            -3.43            -0.23                 0.03                 0.79\n",
              "54          0.21       1.24       0.11            -0.00             0.43                 1.00                 1.54\n",
              "56         -2.13       0.12       1.53            -5.13             0.86                 0.01                 2.36\n",
              "\n",
              "              z      p   -log2(p)\n",
              "covariate                        \n",
              "0          0.70   0.49       1.04\n",
              "1         -0.84   0.40       1.33\n",
              "2         -0.79   0.43       1.22\n",
              "3          1.66   0.10       3.36\n",
              "4          1.13   0.26       1.96\n",
              "5         -0.33   0.74       0.43\n",
              "6         -2.02   0.04       4.52\n",
              "7          2.16   0.03       5.01\n",
              "8         -1.84   0.07       3.94\n",
              "9         -1.10   0.27       1.89\n",
              "10         0.04   0.97       0.04\n",
              "11         2.38   0.02       5.85\n",
              "12        -1.29   0.20       2.34\n",
              "13         0.57   0.57       0.82\n",
              "14        -0.84   0.40       1.32\n",
              "15        -0.06   0.95       0.07\n",
              "16         1.75   0.08       3.65\n",
              "17        -1.75   0.08       3.63\n",
              "18         0.08   0.94       0.09\n",
              "19        -0.64   0.52       0.94\n",
              "20         0.97   0.33       1.58\n",
              "21         1.86   0.06       4.00\n",
              "22        -0.60   0.55       0.87\n",
              "23         0.70   0.49       1.04\n",
              "24        -0.76   0.45       1.16\n",
              "25         0.62   0.53       0.91\n",
              "26        -1.10   0.27       1.88\n",
              "27         0.92   0.36       1.48\n",
              "28        -1.83   0.07       3.88\n",
              "29         4.53 <0.005      17.34\n",
              "30        -2.74   0.01       7.33\n",
              "31         3.56 <0.005      11.39\n",
              "32         0.96   0.34       1.58\n",
              "33        -2.85 <0.005       7.84\n",
              "34         1.07   0.29       1.81\n",
              "35        -0.62   0.54       0.89\n",
              "36         1.03   0.30       1.73\n",
              "37        -1.57   0.12       3.10\n",
              "38         2.33   0.02       5.66\n",
              "39        -1.62   0.10       3.26\n",
              "40         1.71   0.09       3.51\n",
              "41         0.57   0.57       0.82\n",
              "42         0.52   0.60       0.73\n",
              "43        -2.31   0.02       5.58\n",
              "44         1.18   0.24       2.08\n",
              "45         0.87   0.38       1.38\n",
              "46        -0.18   0.86       0.22\n",
              "47         0.44   0.66       0.60\n",
              "48         0.42   0.68       0.56\n",
              "49        -0.58   0.56       0.84\n",
              "50        -0.77   0.44       1.18\n",
              "51         2.14   0.03       4.95\n",
              "53        -2.24   0.02       5.33\n",
              "54         1.94   0.05       4.27\n",
              "56        -1.40   0.16       2.62\n",
              "---\n",
              "Concordance = 0.86\n",
              "Partial AIC = 464.85\n",
              "log-likelihood ratio test = 106.56 on 55 df\n",
              "-log2(p) of ll-ratio test = 14.68"
            ]
          },
          "metadata": {}
        }
      ]
    },
    {
      "cell_type": "markdown",
      "metadata": {
        "id": "4DnYxSARfzOR"
      },
      "source": [
        "Cross validation"
      ]
    },
    {
      "cell_type": "code",
      "metadata": {
        "colab": {
          "base_uri": "https://localhost:8080/"
        },
        "id": "WvgU0uHsf1s8",
        "outputId": "639ba2fe-e5f1-4989-8cd6-d48c91198da4"
      },
      "source": [
        "from lifelines import CoxPHFitter\n",
        "from lifelines.datasets import load_regression_dataset\n",
        "from lifelines.utils import k_fold_cross_validation\n",
        "\n",
        "cph = CoxPHFitter()\n",
        "scores = k_fold_cross_validation(cph, train_df, duration_col = 'Progression free survival', event_col='Progression', scoring_method=\"concordance_index\")\n",
        "print(scores)"
      ],
      "execution_count": null,
      "outputs": [
        {
          "output_type": "stream",
          "name": "stdout",
          "text": [
            "[-1.8944490880126272, -3.7593693226062217, -10.630003401534584]\n",
            "[0.8014981273408239, 0.4870848708487085, 0.6147540983606558, 0.6100917431192661, 0.47540983606557374]\n"
          ]
        }
      ]
    },
    {
      "cell_type": "code",
      "metadata": {
        "id": "2T-oq-d2zW2v"
      },
      "source": [
        "survival10 = cph10.predict_survival_function(test_df)"
      ],
      "execution_count": null,
      "outputs": []
    },
    {
      "cell_type": "markdown",
      "metadata": {
        "id": "NAftZqcYBqy2"
      },
      "source": [
        "\n",
        "# **DeepHit**\n",
        "\n"
      ]
    },
    {
      "cell_type": "code",
      "metadata": {
        "id": "L6b3nlNME7Iq"
      },
      "source": [
        "import torch\n",
        "import torchtuples as tt\n",
        "from pycox.evaluation import EvalSurv\n",
        "from pycox.models import DeepHitSingle\n",
        "num_durations = 10 \n",
        "labtrans = DeepHitSingle.label_transform(num_durations)\n"
      ],
      "execution_count": null,
      "outputs": []
    },
    {
      "cell_type": "code",
      "metadata": {
        "id": "3vYn3FCOdbu0"
      },
      "source": [
        "get_target = lambda df: (df['Progression free survival'].values, df['Progression'].values)\n",
        "y_train = labtrans.fit_transform(*get_target(df_train))\n",
        "y_val = labtrans.transform(*get_target(df_val))\n",
        "\n",
        "train = (x_train, y_train)\n",
        "val = (x_val, y_val)"
      ],
      "execution_count": null,
      "outputs": []
    },
    {
      "cell_type": "code",
      "metadata": {
        "id": "N9bIUNpcdqDf"
      },
      "source": [
        "# Model parameters \n",
        "in_features = x_train.shape[1]\n",
        "num_nodes = [32, 32]\n",
        "out_features = labtrans.out_features\n",
        "print(out_features)\n",
        "batch_norm = True\n",
        "dropout = 0.1"
      ],
      "execution_count": null,
      "outputs": []
    },
    {
      "cell_type": "code",
      "metadata": {
        "id": "Ejr--JV5bCQ-"
      },
      "source": [
        " import torch\n",
        " net = torch.nn.Sequential(\n",
        "     torch.nn.Linear(in_features, 32),\n",
        "     torch.nn.ReLU(),\n",
        "     torch.nn.BatchNorm1d(32),\n",
        "     torch.nn.Dropout(0.2),\n",
        "    \n",
        "     torch.nn.Linear(32, 32),\n",
        "     torch.nn.ReLU(),\n",
        "     torch.nn.BatchNorm1d(32),\n",
        "     torch.nn.Dropout(0.5),\n",
        "    \n",
        "     torch.nn.Linear(32, out_features)\n",
        " )"
      ],
      "execution_count": null,
      "outputs": []
    },
    {
      "cell_type": "code",
      "metadata": {
        "id": "rLzxRjHgE3re"
      },
      "source": [
        "model = DeepHitSingle(net, tt.optim.Adam, alpha=0.2, sigma=0.1, duration_index=labtrans.cuts)\n"
      ],
      "execution_count": null,
      "outputs": []
    },
    {
      "cell_type": "code",
      "metadata": {
        "colab": {
          "base_uri": "https://localhost:8080/",
          "height": 283
        },
        "id": "ihtOxxHfE6Mu",
        "outputId": "48df35fd-6c5a-4f14-d72f-2371a6ab1973"
      },
      "source": [
        "batch_size = 50\n",
        "lr_finder = model.lr_finder(x_train, y_train, batch_size, tolerance=3)\n",
        "_ = lr_finder.plot()"
      ],
      "execution_count": null,
      "outputs": [
        {
          "output_type": "display_data",
          "data": {
            "image/png": "[encoded data removed]",
            "text/plain": [
              "<Figure size 432x288 with 1 Axes>"
            ]
          },
          "metadata": {
            "needs_background": "light"
          }
        }
      ]
    },
    {
      "cell_type": "code",
      "metadata": {
        "colab": {
          "base_uri": "https://localhost:8080/"
        },
        "id": "Mlu6BM7xdw9I",
        "outputId": "d1f33d69-f246-4515-da8b-36824a8f9e28"
      },
      "source": [
        "lr_finder.get_best_lr()\n"
      ],
      "execution_count": null,
      "outputs": [
        {
          "output_type": "execute_result",
          "data": {
            "text/plain": [
              "0.0001"
            ]
          },
          "metadata": {},
          "execution_count": 247
        }
      ]
    },
    {
      "cell_type": "code",
      "metadata": {
        "id": "CLsbrHtNdzvk"
      },
      "source": [
        "model.optimizer.set_lr(0.0001)\n"
      ],
      "execution_count": null,
      "outputs": []
    },
    {
      "cell_type": "code",
      "metadata": {
        "colab": {
          "base_uri": "https://localhost:8080/"
        },
        "id": "djxA_8Vfd3ra",
        "outputId": "e8785e60-afa9-421d-8630-e419bb3bb65a"
      },
      "source": [
        "epochs = 100\n",
        "callbacks = [tt.callbacks.EarlyStopping()]\n",
        "log = model.fit(x_train, y_train, batch_size, epochs, callbacks, val_data=val)"
      ],
      "execution_count": null,
      "outputs": [
        {
          "output_type": "stream",
          "name": "stdout",
          "text": [
            "0:\t[0s / 0s],\t\ttrain_loss: 1.1382,\tval_loss: 0.3568\n",
            "1:\t[0s / 0s],\t\ttrain_loss: 0.5577,\tval_loss: 0.3559\n",
            "2:\t[0s / 0s],\t\ttrain_loss: 0.8945,\tval_loss: 0.3553\n",
            "3:\t[0s / 0s],\t\ttrain_loss: 0.9652,\tval_loss: 0.3549\n",
            "4:\t[0s / 0s],\t\ttrain_loss: 1.3153,\tval_loss: 0.3549\n",
            "5:\t[0s / 0s],\t\ttrain_loss: 0.7897,\tval_loss: 0.3548\n",
            "6:\t[0s / 0s],\t\ttrain_loss: 0.7750,\tval_loss: 0.3546\n",
            "7:\t[0s / 0s],\t\ttrain_loss: 0.6511,\tval_loss: 0.3552\n",
            "8:\t[0s / 0s],\t\ttrain_loss: 0.8995,\tval_loss: 0.3555\n",
            "9:\t[0s / 0s],\t\ttrain_loss: 0.8993,\tval_loss: 0.3564\n",
            "10:\t[0s / 0s],\t\ttrain_loss: 1.0945,\tval_loss: 0.3569\n",
            "11:\t[0s / 0s],\t\ttrain_loss: 0.8863,\tval_loss: 0.3564\n",
            "12:\t[0s / 0s],\t\ttrain_loss: 1.7303,\tval_loss: 0.3574\n",
            "13:\t[0s / 0s],\t\ttrain_loss: 0.5061,\tval_loss: 0.3576\n",
            "14:\t[0s / 0s],\t\ttrain_loss: 0.9115,\tval_loss: 0.3573\n",
            "15:\t[0s / 0s],\t\ttrain_loss: 0.8989,\tval_loss: 0.3574\n",
            "16:\t[0s / 0s],\t\ttrain_loss: 0.5756,\tval_loss: 0.3583\n"
          ]
        }
      ]
    },
    {
      "cell_type": "code",
      "metadata": {
        "colab": {
          "base_uri": "https://localhost:8080/",
          "height": 265
        },
        "id": "2WtIzPJad7V5",
        "outputId": "b13c93aa-63fa-4d01-c7f4-fee89bcd0d2e"
      },
      "source": [
        "_ = log.plot()\n"
      ],
      "execution_count": null,
      "outputs": [
        {
          "output_type": "display_data",
          "data": {
            "image/png": "[encoded data removed]",
            "text/plain": [
              "<Figure size 432x288 with 1 Axes>"
            ]
          },
          "metadata": {
            "needs_background": "light"
          }
        }
      ]
    },
    {
      "cell_type": "markdown",
      "metadata": {
        "id": "7EkeNim4d_UJ"
      },
      "source": [
        "Prediction DeepHit"
      ]
    },
    {
      "cell_type": "code",
      "metadata": {
        "id": "AyW4UWV1eBuL"
      },
      "source": [
        "surv = model.predict_surv_df(x_val)\n"
      ],
      "execution_count": null,
      "outputs": []
    },
    {
      "cell_type": "code",
      "metadata": {
        "colab": {
          "base_uri": "https://localhost:8080/",
          "height": 279
        },
        "id": "u-BEaI_UeJca",
        "outputId": "d2862966-11e0-415b-94f0-34d4f881a52b"
      },
      "source": [
        "surv.iloc[:, :5].plot(drawstyle='steps-post')\n",
        "plt.ylabel('S(t | x)')\n",
        "_ = plt.xlabel('Time')"
      ],
      "execution_count": null,
      "outputs": [
        {
          "output_type": "display_data",
          "data": {
            "image/png": "[encoded data removed]",
            "text/plain": [
              "<Figure size 432x288 with 1 Axes>"
            ]
          },
          "metadata": {
            "needs_background": "light"
          }
        }
      ]
    },
    {
      "cell_type": "code",
      "metadata": {
        "id": "6M0AZ0AFeNCA"
      },
      "source": [
        "surv = model.interpolate(10).predict_surv_df(x_val)\n"
      ],
      "execution_count": null,
      "outputs": []
    },
    {
      "cell_type": "code",
      "metadata": {
        "colab": {
          "base_uri": "https://localhost:8080/",
          "height": 279
        },
        "id": "WMJP1wNhePsX",
        "outputId": "809e93e4-f4ab-48d4-d676-ac063fee29c4"
      },
      "source": [
        "surv.iloc[:, :5].plot(drawstyle='steps-post')\n",
        "plt.ylabel('S(t | x)')\n",
        "_ = plt.xlabel('Time')"
      ],
      "execution_count": null,
      "outputs": [
        {
          "output_type": "display_data",
          "data": {
            "image/png": "[encoded data removed]",
            "text/plain": [
              "<Figure size 432x288 with 1 Axes>"
            ]
          },
          "metadata": {
            "needs_background": "light"
          }
        }
      ]
    },
    {
      "cell_type": "code",
      "metadata": {
        "id": "fUuh-JcAeUyo"
      },
      "source": [
        "ev = EvalSurv(surv, times_val, events_val, censor_surv='km')"
      ],
      "execution_count": null,
      "outputs": []
    },
    {
      "cell_type": "code",
      "metadata": {
        "colab": {
          "base_uri": "https://localhost:8080/",
          "height": 296
        },
        "id": "Zyv0zHo0lTNJ",
        "outputId": "d13785e8-5d69-4d65-b2cb-2a170260f5d6"
      },
      "source": [
        "time_grid = np.linspace(times_val.min(), times_val.max(), 100)\n",
        "ev.brier_score(time_grid).plot()\n",
        "plt.ylabel('Brier score')\n",
        "_ = plt.xlabel('Time')\n",
        "print(\"Brier score:\",ev.integrated_nbll(time_grid))\n"
      ],
      "execution_count": null,
      "outputs": [
        {
          "output_type": "stream",
          "name": "stdout",
          "text": [
            "Brier score: 0.5102989706945327\n"
          ]
        },
        {
          "output_type": "display_data",
          "data": {
            "image/png": "[encoded data removed]",
            "text/plain": [
              "<Figure size 432x288 with 1 Axes>"
            ]
          },
          "metadata": {
            "needs_background": "light"
          }
        }
      ]
    },
    {
      "cell_type": "code",
      "metadata": {
        "colab": {
          "base_uri": "https://localhost:8080/"
        },
        "id": "EoNogdcldObl",
        "outputId": "5aca1497-8244-46bf-9275-ec81abbf6c7b"
      },
      "source": [
        "# C-index \n",
        "from lifelines.utils import concordance_index\n",
        "concordance_index(times_val, predictions, events_val)\n"
      ],
      "execution_count": null,
      "outputs": [
        {
          "output_type": "execute_result",
          "data": {
            "text/plain": [
              "0.6684491978609626"
            ]
          },
          "metadata": {},
          "execution_count": 103
        }
      ]
    },
    {
      "cell_type": "markdown",
      "metadata": {
        "id": "bvOn40OTVOiY"
      },
      "source": [
        "# **DeepSurv**"
      ]
    },
    {
      "cell_type": "code",
      "metadata": {
        "id": "iYMTe5MBVUdY"
      },
      "source": [
        "import torch.nn as nn\n",
        "class CoxNet(nn.Module):\n",
        "  \"\"\"CoxPH like model\"\"\"\n",
        "  def __init__(self, H1 = 32, H2 = 32):\n",
        "    super(CoxNet, self).__init__()\n",
        "    self.net = torch.nn.Sequential(nn.Linear(47, H1),\n",
        "                                   nn.ReLU(),\n",
        "                                   nn.BatchNorm1d(H1),\n",
        "                                   nn.Dropout(0.3),\n",
        "                                   nn.Linear(H1, H2),\n",
        "                                   nn.ReLU(),\n",
        "                                   nn.BatchNorm1d(H2),\n",
        "                                   nn.Dropout(0.1),\n",
        "                                   nn.Linear(H2, 1))\n",
        "  \n",
        "  def forward(self, x):\n",
        "    return self.net(x)\n"
      ],
      "execution_count": null,
      "outputs": []
    },
    {
      "cell_type": "code",
      "metadata": {
        "id": "mJ56U9nGVYo7"
      },
      "source": [
        "net = CoxNet()\n",
        "device = torch.device(\"cuda\" if torch.cuda.is_available() else 'cpu')\n",
        "#optimizer = tt.optim.SGD(lr=1e-3, momentum=0.9, weight_decay=3e-4, nesterov=True)\n",
        "optimizer = tt.optim.AdamWR(decoupled_weight_decay=0.01, cycle_eta_multiplier=0.8,cycle_multiplier=2)\n",
        "model = CoxPH(net, optimizer = optimizer, device = device)"
      ],
      "execution_count": null,
      "outputs": []
    },
    {
      "cell_type": "code",
      "metadata": {
        "id": "mYxE-qkYVamG",
        "colab": {
          "base_uri": "https://localhost:8080/",
          "height": 300
        },
        "outputId": "aaa9cfa7-6277-49d4-b8ef-cc022a690831"
      },
      "source": [
        "batch_size = 50 \n",
        "lrfinder = model.lr_finder(x_train, y_train, batch_size, tolerance=10)\n",
        "# Learning rate finder often overestimate the learning rate so choose a lower value\n",
        "lrfinder.plot()\n",
        "plt.show()\n",
        "print(lrfinder.get_best_lr())"
      ],
      "execution_count": null,
      "outputs": [
        {
          "output_type": "display_data",
          "data": {
            "image/png": "[encoded data removed]",
            "text/plain": [
              "<Figure size 432x288 with 1 Axes>"
            ]
          },
          "metadata": {
            "needs_background": "light"
          }
        },
        {
          "output_type": "stream",
          "name": "stdout",
          "text": [
            "0.01149756995397742\n"
          ]
        }
      ]
    },
    {
      "cell_type": "code",
      "metadata": {
        "colab": {
          "base_uri": "https://localhost:8080/",
          "height": 718
        },
        "id": "MBMH7mamVd85",
        "outputId": "06e2e7ff-3f90-434e-c3ea-bf83889e77c8"
      },
      "source": [
        "model.optimizer.set_lr(0.01)\n",
        "batch_size = 50\n",
        "epochs = 100\n",
        "callbacks = [tt.callbacks.EarlyStopping()]\n",
        "verbose = True\n",
        "\n",
        "log = model.fit(x_train, y_train, batch_size, epochs, callbacks, verbose, val_data=(x_val,y_val), val_batch_size=batch_size)\n",
        "log.plot()\n",
        "plt.show()\n",
        "print(model.partial_log_likelihood(*(x_val,y_val)).mean())"
      ],
      "execution_count": null,
      "outputs": [
        {
          "output_type": "stream",
          "name": "stdout",
          "text": [
            "0:\t[0s / 0s],\t\ttrain_loss: 3.6819,\tval_loss: 3.6279\n",
            "1:\t[0s / 0s],\t\ttrain_loss: 3.3424,\tval_loss: 3.6113\n",
            "2:\t[0s / 0s],\t\ttrain_loss: 3.3906,\tval_loss: 3.6080\n",
            "3:\t[0s / 0s],\t\ttrain_loss: 3.4498,\tval_loss: 3.5880\n",
            "4:\t[0s / 0s],\t\ttrain_loss: 3.3896,\tval_loss: 3.5645\n",
            "5:\t[0s / 0s],\t\ttrain_loss: 3.3455,\tval_loss: 3.5629\n",
            "6:\t[0s / 0s],\t\ttrain_loss: 3.4997,\tval_loss: 3.5572\n",
            "7:\t[0s / 0s],\t\ttrain_loss: 3.2316,\tval_loss: 3.5878\n",
            "8:\t[0s / 0s],\t\ttrain_loss: 3.2359,\tval_loss: 3.6021\n",
            "9:\t[0s / 0s],\t\ttrain_loss: 3.2756,\tval_loss: 3.5791\n",
            "10:\t[0s / 0s],\t\ttrain_loss: 3.2408,\tval_loss: 3.5286\n",
            "11:\t[0s / 0s],\t\ttrain_loss: 3.1728,\tval_loss: 3.5478\n",
            "12:\t[0s / 0s],\t\ttrain_loss: 3.2063,\tval_loss: 3.5459\n",
            "13:\t[0s / 0s],\t\ttrain_loss: 3.2347,\tval_loss: 3.5374\n",
            "14:\t[0s / 0s],\t\ttrain_loss: 3.0463,\tval_loss: 3.5398\n",
            "15:\t[0s / 0s],\t\ttrain_loss: 3.2214,\tval_loss: 3.4810\n",
            "16:\t[0s / 0s],\t\ttrain_loss: 3.0633,\tval_loss: 3.4976\n",
            "17:\t[0s / 0s],\t\ttrain_loss: 3.0516,\tval_loss: 3.5061\n",
            "18:\t[0s / 0s],\t\ttrain_loss: 3.1059,\tval_loss: 3.4980\n",
            "19:\t[0s / 0s],\t\ttrain_loss: 3.0375,\tval_loss: 3.5414\n",
            "20:\t[0s / 0s],\t\ttrain_loss: 3.0738,\tval_loss: 3.5877\n",
            "21:\t[0s / 0s],\t\ttrain_loss: 3.0039,\tval_loss: 3.5278\n",
            "22:\t[0s / 0s],\t\ttrain_loss: 2.8515,\tval_loss: 3.5477\n",
            "23:\t[0s / 0s],\t\ttrain_loss: 3.1443,\tval_loss: 3.5536\n",
            "24:\t[0s / 0s],\t\ttrain_loss: 3.0276,\tval_loss: 3.5786\n",
            "25:\t[0s / 0s],\t\ttrain_loss: 2.9859,\tval_loss: 3.6047\n"
          ]
        },
        {
          "output_type": "display_data",
          "data": {
            "image/png": "[encoded data removed]",
            "text/plain": [
              "<Figure size 432x288 with 1 Axes>"
            ]
          },
          "metadata": {
            "needs_background": "light"
          }
        },
        {
          "output_type": "stream",
          "name": "stdout",
          "text": [
            "-3.481001377105713\n"
          ]
        }
      ]
    },
    {
      "cell_type": "code",
      "metadata": {
        "colab": {
          "base_uri": "https://localhost:8080/",
          "height": 313
        },
        "id": "A0eSAYwfVgWz",
        "outputId": "53ef77c2-095e-4401-8b16-7461e0930a07"
      },
      "source": [
        "# Predicted survival curve on validation set for 5 patients\n",
        "_ = model.compute_baseline_hazards()\n",
        "surv = model.predict_surv_df(x_test)\n",
        "surv.iloc[:,:5].plot()\n",
        "plt.ylabel('S(t | x)')\n",
        "_ = plt.xlabel('Time')"
      ],
      "execution_count": null,
      "outputs": [
        {
          "output_type": "stream",
          "name": "stderr",
          "text": [
            "/usr/local/lib/python3.7/dist-packages/pycox/models/cox.py:257: RuntimeWarning: overflow encountered in exp\n",
            "  expg = np.exp(self.predict(input, batch_size, True, eval_, num_workers=num_workers)).reshape(1, -1)\n"
          ]
        },
        {
          "output_type": "display_data",
          "data": {
            "image/png": "[encoded data removed]",
            "text/plain": [
              "<Figure size 432x288 with 1 Axes>"
            ]
          },
          "metadata": {
            "needs_background": "light"
          }
        }
      ]
    },
    {
      "cell_type": "code",
      "metadata": {
        "colab": {
          "base_uri": "https://localhost:8080/",
          "height": 298
        },
        "id": "H-15wGS1ViYn",
        "outputId": "b3d5b484-00ce-439d-f72e-8834b9eb8aaa"
      },
      "source": [
        "# Predicted survival metrics ie. Concordance index and Brier score on validation set\n",
        "dur = times_val\n",
        "eve = events_val\n",
        "ev = EvalSurv(surv, dur, eve, censor_surv='km')\n",
        "print(ev.concordance_td())\n",
        "time_grid = np.linspace(dur.min(), dur.max(), 100)\n",
        "_ = ev.brier_score(time_grid).plot()\n",
        "print(ev.integrated_nbll(time_grid))"
      ],
      "execution_count": null,
      "outputs": [
        {
          "output_type": "stream",
          "name": "stdout",
          "text": [
            "0.7085561497326203\n",
            "0.5085983168948585\n"
          ]
        },
        {
          "output_type": "display_data",
          "data": {
            "image/png": "[encoded data removed]",
            "text/plain": [
              "<Figure size 432x288 with 1 Axes>"
            ]
          },
          "metadata": {
            "needs_background": "light"
          }
        }
      ]
    },
    {
      "cell_type": "markdown",
      "metadata": {
        "id": "x4E1w69NdFO0"
      },
      "source": [
        "## **3.Prediction**"
      ]
    },
    {
      "cell_type": "code",
      "metadata": {
        "id": "98q8sl3A5RLk"
      },
      "source": [
        "\n",
        "def Concordance_index(event_times, predicted_scores, event_observed=None):\n",
        "    \"\"\"\n",
        "    Code adapted from https://github.com/CamDavidsonPilon/lifelines/blob/master/lifelines/utils/concordance.py\n",
        "    to account for missing values in the context of the HECKTOR Challenge\n",
        "    Missing values are encoded by NaNs and are computed as non-concordant.\n",
        "    \"\"\"\n",
        "    event_times, predicted_scores, event_observed = _preprocess_scoring_data(\n",
        "        event_times, predicted_scores, event_observed)\n",
        "    # num_correct, num_tied, num_pairs = _concordance_summary_statistics(\n",
        "    #     event_times, predicted_scores, event_observed)\n",
        "    num_correct, num_tied, num_pairs = _naive_concordance_summary_statistics(\n",
        "        event_times, predicted_scores, event_observed)\n",
        "\n",
        "    return _concordance_ratio(num_correct, num_tied, num_pairs)\n",
        "\n",
        "\n",
        "def _concordance_ratio(num_correct, num_tied, num_pairs):\n",
        "    \"\"\"\n",
        "    Code adapted from https://github.com/CamDavidsonPilon/lifelines/blob/master/lifelines/utils/concordance.py\n",
        "    to account for missing values in the context of the HECKTOR Challenge\n",
        "    \"\"\"\n",
        "    if num_pairs == 0:\n",
        "        raise ZeroDivisionError(\"No admissable pairs in the dataset.\")\n",
        "    return (num_correct + num_tied / 2) / num_pairs\n",
        "\n",
        "\n",
        "def _naive_concordance_summary_statistics(event_times, predicted_event_times,\n",
        "                                          event_observed):\n",
        "    \"\"\"\n",
        "    Code adapted from https://github.com/CamDavidsonPilon/lifelines/blob/master/lifelines/utils/concordance.py\n",
        "    to account for missing values in the context of the HECKTOR Challenge\n",
        "    \"\"\"\n",
        "    def _valid_comparison(time_a, time_b, event_a, event_b):\n",
        "        \"\"\"True if times can be compared.\"\"\"\n",
        "        if time_a == time_b:\n",
        "            # Ties are only informative if exactly one event happened\n",
        "            return event_a != event_b\n",
        "        if event_a and event_b:\n",
        "            return True\n",
        "        if event_a and time_a < time_b:\n",
        "            return True\n",
        "        if event_b and time_b < time_a:\n",
        "            return True\n",
        "        return False\n",
        "\n",
        "    def _concordance_value(time_a, time_b, pred_a, pred_b, event_a, event_b):\n",
        "        if np.isnan(pred_a) or np.isnan(pred_b):\n",
        "            # Missing values, same as random\n",
        "            return (0, 1)\n",
        "        if pred_a == pred_b:\n",
        "            # Same as random\n",
        "            return (0, 1)\n",
        "        if pred_a < pred_b:\n",
        "            return (time_a < time_b) or (time_a == time_b and event_a\n",
        "                                         and not event_b), 0\n",
        "        # pred_a > pred_b\n",
        "        return (time_a > time_b) or (time_a == time_b and not event_a\n",
        "                                     and event_b), 0\n",
        "\n",
        "    num_pairs = 0.0\n",
        "    num_correct = 0.0\n",
        "    num_tied = 0.0\n",
        "\n",
        "    for a, time_a in enumerate(event_times):\n",
        "        pred_a = predicted_event_times[a]\n",
        "        event_a = event_observed[a]\n",
        "        # Don't want to double count\n",
        "        for b in range(a + 1, len(event_times)):\n",
        "            time_b = event_times[b]\n",
        "            pred_b = predicted_event_times[b]\n",
        "            event_b = event_observed[b]\n",
        "\n",
        "            if _valid_comparison(time_a, time_b, event_a, event_b):\n",
        "                num_pairs += 1.0\n",
        "                crct, ties = _concordance_value(time_a, time_b, pred_a, pred_b,\n",
        "                                                event_a, event_b)\n",
        "                num_correct += crct\n",
        "                num_tied += ties\n",
        "\n",
        "    return (num_correct, num_tied, num_pairs)\n",
        "\n",
        "\n",
        "def _preprocess_scoring_data(event_times, predicted_scores, event_observed):\n",
        "    \"\"\"\n",
        "    Code adapted from https://github.com/CamDavidsonPilon/lifelines/blob/master/lifelines/utils/concordance.py\n",
        "    to account for missing values in the context of the HECKTOR Challenge\n",
        "    \"\"\"\n",
        "    event_times = np.asarray(event_times, dtype=float)\n",
        "    predicted_scores = np.asarray(predicted_scores, dtype=float)\n",
        "\n",
        "    # Allow for (n, 1) or (1, n) arrays\n",
        "    if event_times.ndim == 2 and (event_times.shape[0] == 1\n",
        "                                  or event_times.shape[1] == 1):\n",
        "        # Flatten array\n",
        "        event_times = event_times.ravel()\n",
        "    # Allow for (n, 1) or (1, n) arrays\n",
        "    if predicted_scores.ndim == 2 and (predicted_scores.shape[0] == 1\n",
        "                                       or predicted_scores.shape[1] == 1):\n",
        "        # Flatten array\n",
        "        predicted_scores = predicted_scores.ravel()\n",
        "\n",
        "    if event_times.shape != predicted_scores.shape:\n",
        "        raise ValueError(\n",
        "            \"Event times and predictions must have the same shape\")\n",
        "    if event_times.ndim != 1:\n",
        "        raise ValueError(\"Event times can only be 1-dimensional: (n,)\")\n",
        "\n",
        "    if event_observed is None:\n",
        "        event_observed = np.ones(event_times.shape[0], dtype=float)\n",
        "    else:\n",
        "        event_observed = np.asarray(event_observed, dtype=float).ravel()\n",
        "        if event_observed.shape != event_times.shape:\n",
        "            raise ValueError(\n",
        "                \"Observed events must be 1-dimensional of same length as event times\"\n",
        "            )\n",
        "    # Commented out since we rely on NaNs to count missing patients\n",
        "    # check for NaNs\n",
        "    # for a in [event_times, predicted_scores, event_observed]:\n",
        "    #     if np.isnan(a).any():\n",
        "    #         raise ValueError(\n",
        "    #             \"NaNs detected in inputs, please correct or drop.\")\n",
        "\n",
        "    return event_times, predicted_scores, event_observed"
      ],
      "execution_count": null,
      "outputs": []
    },
    {
      "cell_type": "code",
      "metadata": {
        "colab": {
          "base_uri": "https://localhost:8080/"
        },
        "id": "zXszmVI57e21",
        "outputId": "f20e8587-d31d-4f16-87dc-1119df30ffb0"
      },
      "source": [
        "Concordance_index(times_val,  predictions, event_observed=events_val) "
      ],
      "execution_count": null,
      "outputs": [
        {
          "output_type": "execute_result",
          "data": {
            "text/plain": [
              "0.8101604278074866"
            ]
          },
          "metadata": {},
          "execution_count": 348
        }
      ]
    },
    {
      "cell_type": "code",
      "metadata": {
        "id": "U4FuZuUcj4co"
      },
      "source": [
        "def predict(prediction, threshold=0.9):\n",
        "    surv_predictions = []\n",
        "    for _, pred in prediction.iteritems():\n",
        "        times = pred.index.values\n",
        "        for time in times:\n",
        "          if pred[time] <= threshold:\n",
        "            t = time\n",
        "            break\n",
        "        else:\n",
        "          t = times[-1]\n",
        "        surv_predictions.append(t)\n",
        "    return pd.DataFrame(np.array([surv for surv in surv_predictions]), columns=['Progression free survival'])\n",
        "\n",
        "# CoxPH Survival Model Ensembling (average) on different train-val splits:\n",
        "models = []\n",
        "models = [survival + str(i) for i in range(10)]\n",
        "pred = []\n",
        "pred = [predict(model, 0.9) for model in models]\n",
        "predictions = np.mean(pred)"
      ],
      "execution_count": null,
      "outputs": []
    },
    {
      "cell_type": "code",
      "metadata": {
        "id": "4t-Trmqu4k0-",
        "colab": {
          "base_uri": "https://localhost:8080/"
        },
        "outputId": "5aa3c1e3-8caf-46ef-c5f4-b706386687e2"
      },
      "source": [
        "print(predictions)"
      ],
      "execution_count": null,
      "outputs": [
        {
          "output_type": "stream",
          "name": "stdout",
          "text": [
            "0      241.0\n",
            "1     3067.0\n",
            "2      781.0\n",
            "3     3067.0\n",
            "4     1029.0\n",
            "5     1091.0\n",
            "6     1411.0\n",
            "7      146.0\n",
            "8     3067.0\n",
            "9      499.0\n",
            "10     707.0\n",
            "11     295.0\n",
            "12     499.0\n",
            "13    3067.0\n",
            "14    1106.0\n",
            "15    3067.0\n",
            "16    1910.0\n",
            "17     489.0\n",
            "18    3067.0\n",
            "19    3067.0\n",
            "20     935.0\n",
            "21    1690.0\n",
            "22     705.0\n",
            "23    3067.0\n",
            "24    1411.0\n",
            "25    1690.0\n",
            "26    3067.0\n",
            "27     768.0\n",
            "28    3067.0\n",
            "29     771.0\n",
            "30     322.0\n",
            "31     705.0\n",
            "32     489.0\n",
            "33     828.0\n",
            "34    1194.0\n",
            "35     707.0\n",
            "36     768.0\n",
            "37     272.0\n",
            "38     771.0\n",
            "39     322.0\n",
            "40    1106.0\n",
            "41     828.0\n",
            "42    1910.0\n",
            "43    3067.0\n",
            "44     502.0\n",
            "Name: Progression free survival, dtype: float64\n"
          ]
        }
      ]
    },
    {
      "cell_type": "markdown",
      "metadata": {
        "id": "24N6MWc9DFyi"
      },
      "source": [
        "# **4.Submission**"
      ]
    },
    {
      "cell_type": "code",
      "metadata": {
        "id": "HJ04cHe-DDqq"
      },
      "source": [
        "# Generate Submission File \n",
        "Submission = pd.DataFrame({'PatientID': TEST['PatientID'],'Progression Free Survival': -predictions}) \n",
        "Submission.to_csv(\"Submission.csv\", index=False)"
      ],
      "execution_count": null,
      "outputs": []
    }
  ]
}